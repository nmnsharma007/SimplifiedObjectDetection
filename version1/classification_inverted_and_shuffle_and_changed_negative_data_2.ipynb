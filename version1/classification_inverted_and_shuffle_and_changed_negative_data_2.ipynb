{
  "cells": [
    {
      "cell_type": "markdown",
      "id": "cf6a1420",
      "metadata": {
        "id": "cf6a1420"
      },
      "source": [
        "## Import libraries"
      ]
    },
    {
      "cell_type": "code",
      "execution_count": 23,
      "id": "26cfa340",
      "metadata": {
        "id": "26cfa340"
      },
      "outputs": [],
      "source": [
        "import numpy as np\n",
        "import torch\n",
        "import torchvision\n",
        "import matplotlib.pyplot as plt\n",
        "from time import time\n",
        "from torchvision import datasets, transforms\n",
        "from torch import nn,optim\n",
        "from torch.utils.data import TensorDataset,DataLoader\n",
        "from sklearn.metrics import f1_score,precision_score,recall_score,accuracy_score\n",
        "from sklearn.preprocessing import LabelBinarizer\n",
        "import pandas as pd\n",
        "import seaborn as sns\n",
        "import random\n",
        "import torch.nn.functional as F"
      ]
    },
    {
      "cell_type": "markdown",
      "id": "effc4c9e",
      "metadata": {
        "id": "effc4c9e"
      },
      "source": [
        "## Download and Preprocess Dataset"
      ]
    },
    {
      "cell_type": "code",
      "execution_count": 24,
      "id": "39b2cf22",
      "metadata": {
        "id": "39b2cf22"
      },
      "outputs": [],
      "source": [
        "train_set = datasets.MNIST('/content',train=True,download=True)\n",
        "test_set = datasets.MNIST('/content',train=False,download=True)\n",
        "\n",
        "num_classes = 10"
      ]
    },
    {
      "cell_type": "markdown",
      "id": "e42069f6",
      "metadata": {
        "id": "e42069f6"
      },
      "source": [
        "## Preprocessing"
      ]
    },
    {
      "cell_type": "code",
      "execution_count": 25,
      "id": "8ce40f00",
      "metadata": {
        "id": "8ce40f00"
      },
      "outputs": [],
      "source": [
        "# inversion and normalization\n",
        "invert = lambda image : 1 - image # function to invert the image\n",
        "normalize = lambda image : image / 255 # function for bringing pixel values in range [0,1]\n",
        "\n",
        "def preprocessing(dataset):\n",
        "    dataset_images = dataset.data.numpy() # convert the dataset into numpy array\n",
        "    dataset_labels = dataset.targets.numpy() # convert the labels into numpy array\n",
        "    dataset_images = normalize(dataset_images)\n",
        "    dataset_images = invert(dataset_images)\n",
        "    return dataset_images,dataset_labels\n",
        "\n",
        "train_images,train_labels = preprocessing(train_set)\n",
        "test_images,test_labels = preprocessing(test_set)"
      ]
    },
    {
      "cell_type": "markdown",
      "id": "57b53b31",
      "metadata": {
        "id": "57b53b31"
      },
      "source": [
        "## Prepare the data"
      ]
    },
    {
      "cell_type": "code",
      "execution_count": 26,
      "id": "eb717edb",
      "metadata": {
        "id": "eb717edb"
      },
      "outputs": [],
      "source": [
        "# function for adding some more data from other classes\n",
        "def put_salt(source_dataset_images,source_dataset_labels,target_dataset,class_num):\n",
        "    image_indices = np.asarray(np.where(source_dataset_labels == class_num))\n",
        "    image_indices = image_indices.flatten()\n",
        "    np.random.shuffle(image_indices)\n",
        "    image_indices = image_indices[:image_indices.shape[0] // 5 + 1]\n",
        "    original_images = source_dataset_images[image_indices] # get the original images\n",
        "    negative_images = invert(original_images)\n",
        "    for i in range(len(original_images)):\n",
        "      flattened_image = original_images[i].flatten()\n",
        "      for j in range(len(flattened_image)):\n",
        "        p = random.uniform(0,1)\n",
        "        if p <= 0.8:\n",
        "          flattened_image[j] = 1\n",
        "      original_images[i] = np.reshape(flattened_image,(28,28))\n",
        "    target_dataset = np.concatenate((target_dataset,original_images))\n",
        "    for i in range(len(negative_images)):\n",
        "      flattened_image = negative_images[i].flatten()\n",
        "      for j in range(len(flattened_image)):\n",
        "        p = random.uniform(0,1)\n",
        "        if p <= 0.2:\n",
        "          flattened_image[j] = 1\n",
        "      negative_images[i] = np.reshape(flattened_image,(28,28))\n",
        "    target_dataset = np.concatenate((target_dataset,negative_images))\n",
        "    return target_dataset\n",
        "\n",
        "def put_pepper(source_dataset_images,source_dataset_labels,target_dataset,class_num):\n",
        "    image_indices = np.asarray(np.where(source_dataset_labels == class_num))\n",
        "    image_indices = image_indices.flatten()\n",
        "    np.random.shuffle(image_indices)\n",
        "    image_indices = image_indices[:image_indices.shape[0] // 5 + 1]\n",
        "    original_images = source_dataset_images[image_indices] # get the original images\n",
        "    negative_images = invert(original_images)\n",
        "    for i in range(len(original_images)):\n",
        "      flattened_image = original_images[i].flatten()\n",
        "      for j in range(len(flattened_image)):\n",
        "        p = random.uniform(0,1)\n",
        "        if p <= 0.8:\n",
        "          flattened_image[j] = 0\n",
        "      original_images[i] = np.reshape(flattened_image,(28,28))\n",
        "    target_dataset = np.concatenate((target_dataset,original_images))\n",
        "    for i in range(len(negative_images)):\n",
        "      flattened_image = negative_images[i].flatten()\n",
        "      for j in range(len(flattened_image)):\n",
        "        p = random.uniform(0,1)\n",
        "        if p <= 0.8:\n",
        "          flattened_image[j] = 0\n",
        "      negative_images[i] = np.reshape(flattened_image,(28,28))\n",
        "    target_dataset = np.concatenate((target_dataset,negative_images))\n",
        "    return target_dataset\n",
        "\n",
        "def get_inverted_data(source_dataset_images,source_dataset_labels,target_dataset,class_num):\n",
        "    image_indices = np.asarray(np.where(source_dataset_labels == class_num))\n",
        "    image_indices = image_indices.flatten()\n",
        "    np.random.shuffle(image_indices)\n",
        "    image_indices = image_indices[:image_indices.shape[0] // 5 + 1]\n",
        "    original_images = invert(source_dataset_images[image_indices]) # get the original images\n",
        "    target_dataset = np.concatenate((target_dataset,original_images))\n",
        "    return target_dataset\n",
        "\n",
        "def generate_labels(dataset_images,images_type):\n",
        "  labels = np.zeros((dataset_images.shape[0],2))\n",
        "  # for i,image in enumerate(dataset_images):\n",
        "  #   labels[i][images_type] = np.sum(dataset_images[i]) / 784\n",
        "  labels = np.full(shape=(dataset_images.shape[0],2),fill_value=[1-images_type,images_type],dtype=np.float32)\n",
        "  return labels\n",
        "\n",
        "# function to prepare the dataset for a given digit\n",
        "def prepare_training_data(dataset_images,dataset_labels,class_num):\n",
        "    indices = np.asarray(np.where(dataset_labels == class_num)) # indices of occurrence of digit as label\n",
        "    indices = indices.flatten()\n",
        "    # get the images for making positive dataset\n",
        "    dataset_images_positive = dataset_images[indices] # images consisting of positive class\n",
        "    dataset_labels_positive = generate_labels(dataset_images_positive,0)\n",
        "    print(dataset_images_positive.shape)\n",
        "    # get the images for making negative dataset\n",
        "    # dataset_images_negative = invert(dataset_images_positive) # inverted images\n",
        "    dataset_images_negative = np.empty((0,28,28),dtype=np.float32)\n",
        "    dataset_images_negative = put_salt(dataset_images,dataset_labels,dataset_images_negative,class_num)\n",
        "    dataset_images_negative = put_pepper(dataset_images,dataset_labels,dataset_images_negative,class_num)\n",
        "    dataset_images_negative = get_inverted_data(dataset_images,dataset_labels,dataset_images_negative,class_num)\n",
        "    print(dataset_images_negative.shape)\n",
        "\n",
        "    # negative_data_indices = [i for i in range(len(dataset_labels)) if i not in indices]\n",
        "    # dataset_images_negative = dataset_images[negative_data_indices]\n",
        "    \n",
        "    dataset_labels_negative = generate_labels(dataset_images_negative,1)\n",
        "    # concatenate the negative and positive datasets\n",
        "    modified_dataset_images = np.concatenate((dataset_images_positive,dataset_images_negative))\n",
        "    modified_dataset_labels = np.concatenate((dataset_labels_positive,dataset_labels_negative))\n",
        "    tensor_x = torch.Tensor(modified_dataset_images)\n",
        "    tensor_y = torch.Tensor(modified_dataset_labels)\n",
        "    new_dataset = TensorDataset(tensor_x,tensor_y)\n",
        "    return new_dataset\n",
        "\n",
        "def concat_datasets(dataset1_images,dataset1_labels,dataset2_images,dataset2_labels,class_num):\n",
        "    # join the two datasets\n",
        "    joined_dataset_images = np.concatenate((dataset1_images,dataset2_images))\n",
        "    joined_dataset_labels = np.concatenate((dataset1_labels,dataset2_labels))\n",
        "    \n",
        "    indices = np.asarray(np.where(joined_dataset_labels == class_num)) # indices of occurrence of class as label\n",
        "    indices = indices.flatten()\n",
        "    dataset_images_positive = joined_dataset_images[indices] # images consisting of positive class\n",
        "    print(dataset_images_positive.shape)\n",
        "    dataset_labels_positive = generate_labels(dataset_images_positive,0)\n",
        "    negative_data_indices = [i for i in range(len(joined_dataset_labels)) if i not in indices]\n",
        "    \n",
        "    dataset_images_negative = joined_dataset_images[negative_data_indices]\n",
        "    dataset_images_negative = dataset_images_negative[:6876]\n",
        "    dataset_labels_negative = generate_labels(dataset_images_negative,1)\n",
        "    print(dataset_images_negative.shape)\n",
        "    \n",
        "    modified_dataset_images = np.concatenate((dataset_images_positive,dataset_images_negative))\n",
        "    modified_dataset_labels = np.concatenate((dataset_labels_positive,dataset_labels_negative))\n",
        "\n",
        "    \n",
        "    tensor_x = torch.Tensor(modified_dataset_images)\n",
        "    tensor_y = torch.Tensor(modified_dataset_labels)\n",
        "    new_dataset = TensorDataset(tensor_x,tensor_y)\n",
        "    return new_dataset"
      ]
    },
    {
      "cell_type": "markdown",
      "id": "75041a27",
      "metadata": {
        "id": "75041a27"
      },
      "source": [
        "### Plotting some data"
      ]
    },
    {
      "cell_type": "code",
      "execution_count": 27,
      "id": "eba6221d",
      "metadata": {
        "id": "eba6221d",
        "outputId": "4893e270-1faf-4d58-be6f-3a22d936c2ac",
        "colab": {
          "base_uri": "https://localhost:8080/",
          "height": 315
        }
      },
      "outputs": [
        {
          "output_type": "stream",
          "name": "stdout",
          "text": [
            "(5918, 28, 28)\n",
            "(5920, 28, 28)\n",
            "(6876, 28, 28)\n",
            "(6876, 28, 28)\n"
          ]
        },
        {
          "output_type": "display_data",
          "data": {
            "text/plain": [
              "<Figure size 432x288 with 60 Axes>"
            ],
            "image/png": "[encoded data removed]"
          },
          "metadata": {
            "needs_background": "light"
          }
        }
      ],
      "source": [
        "class_num = 6\n",
        "train_class_set = prepare_training_data(train_images,train_labels,class_num) # fetch the training set for a class\n",
        "test_class_set = concat_datasets(train_images,train_labels,test_images,test_labels,class_num)\n",
        "train_loader = DataLoader(train_class_set,batch_size=64,shuffle=True)\n",
        "test_loader = DataLoader(test_class_set,batch_size=64,shuffle=True) # take original testing set of all classes\n",
        "dataiter = iter(train_loader)\n",
        "images,labels = dataiter.next()\n",
        "figure = plt.figure()\n",
        "# print(labels)\n",
        "num_of_images = 60  \n",
        "for index in range(1,num_of_images+1):\n",
        "    plt.subplot(6,10,index)\n",
        "    plt.axis('off')\n",
        "    plt.imshow(images[index].numpy().squeeze(),cmap='gray_r')"
      ]
    },
    {
      "cell_type": "markdown",
      "id": "78ef3a88",
      "metadata": {
        "id": "78ef3a88"
      },
      "source": [
        "## Build the neural network"
      ]
    },
    {
      "cell_type": "code",
      "execution_count": 28,
      "id": "5433be70",
      "metadata": {
        "id": "5433be70",
        "colab": {
          "base_uri": "https://localhost:8080/"
        },
        "outputId": "c99a0095-7baa-4efc-d519-21ad4a97e000"
      },
      "outputs": [
        {
          "output_type": "stream",
          "name": "stdout",
          "text": [
            "Training loss: 0.5825504549451777\n",
            "Training loss: 0.2865018235670554\n",
            "Training loss: 0.11509177225667078\n",
            "Training loss: 0.07049372915077853\n",
            "Training loss: 0.05116597266011947\n",
            "Training loss: 0.039018170792307405\n",
            "Training loss: 0.031354303426436476\n",
            "Training loss: 0.025839377320497424\n",
            "Training loss: 0.021811711561639566\n",
            "Training loss: 0.01856425820623298\n"
          ]
        }
      ],
      "source": [
        "def softmax(output):\n",
        "  return torch.exp(output) / torch.sum(torch.exp(output),dim=1).view(-1,1)\n",
        "\n",
        "# Model class\n",
        "class NeuralNetwork(nn.Module):\n",
        "    def __init__(self):\n",
        "        super().__init__()\n",
        "        self.fc1 = nn.Linear(28*28, 100)  # 4*4 from image dimension\n",
        "        self.fc2 = nn.Linear(100, 10)\n",
        "        self.fc3 = nn.Linear(10, 2)\n",
        "\n",
        "    def forward(self, x):\n",
        "        x = torch.flatten(x, 1) # flatten all dimensions except the batch dimension\n",
        "        x = F.relu(self.fc1(x))\n",
        "        x = F.relu(self.fc2(x))\n",
        "        x = self.fc3(x)\n",
        "        return x\n",
        "\n",
        "epochs = 10\n",
        "model = NeuralNetwork()\n",
        "criterion = nn.CrossEntropyLoss()\n",
        "optimizer = optim.SGD(model.parameters(),lr=1e-3,momentum=0.9)\n",
        "\n",
        "# function to train the model\n",
        "\n",
        "model.train()\n",
        "for e in range(epochs):\n",
        "  running_loss = 0.0\n",
        "  for batch, (images,logits) in enumerate(train_loader):\n",
        "    optimizer.zero_grad()\n",
        "    # compute prediction error\n",
        "    output = model(images)\n",
        "    loss = criterion(output,logits)\n",
        "\n",
        "    # Backpropagation\n",
        "    loss.backward()\n",
        "    optimizer.step()\n",
        "    running_loss += loss.item()\n",
        "  else:\n",
        "    print(f\"Training loss: {running_loss/len(train_loader)}\")\n"
      ]
    },
    {
      "cell_type": "markdown",
      "source": [
        "### Testing without threshold"
      ],
      "metadata": {
        "id": "rkzPgG_r8SCb"
      },
      "id": "rkzPgG_r8SCb"
    },
    {
      "cell_type": "code",
      "source": [
        "# function to test the model\n",
        "def test(dataloader,model):\n",
        "    size = len(dataloader.dataset)\n",
        "    model.eval()\n",
        "    correct = 0\n",
        "    with torch.no_grad():\n",
        "        for images,logits in dataloader:\n",
        "            output = model(images)\n",
        "            output = softmax(output)\n",
        "            correct += (output.argmax(1) == logits.argmax(1)).type(torch.float).sum().item()\n",
        "    correct /= size\n",
        "    print(f\"Accuracy : {(100*correct):>0.1f}%\")\n",
        "\n",
        "test(test_loader,model)\n",
        "data = np.empty((0,3),dtype=np.float32)\n",
        "\n",
        "with torch.no_grad():\n",
        "    for images,scores in test_loader:\n",
        "      output = model(images)\n",
        "      output = softmax(output)\n",
        "      output = output.numpy()\n",
        "      scores = scores.numpy()\n",
        "      for i in range(len(output)):\n",
        "        yes_score = output[i][0]\n",
        "        no_score = output[i][1]\n",
        "        true_label =  1 if np.argmax(scores[i]) == 0 else 0 \n",
        "        if true_label == 0:\n",
        "          data = np.vstack((data,[[yes_score,no_score,true_label]]))\n",
        "df = pd.DataFrame(data)\n",
        "df.columns = ['yes_score','no_score','true_label']\n",
        "df.describe()"
      ],
      "metadata": {
        "colab": {
          "base_uri": "https://localhost:8080/",
          "height": 318
        },
        "id": "-DlQhlWl8RK-",
        "outputId": "cc5eee99-e8df-4f1f-a4f7-c5239882d7d1"
      },
      "id": "-DlQhlWl8RK-",
      "execution_count": 29,
      "outputs": [
        {
          "output_type": "stream",
          "name": "stdout",
          "text": [
            "Accuracy : 56.7%\n"
          ]
        },
        {
          "output_type": "execute_result",
          "data": {
            "text/plain": [
              "         yes_score     no_score  true_label\n",
              "count  6876.000000  6876.000000      6876.0\n",
              "mean      0.828132     0.171868         0.0\n",
              "std       0.261141     0.261141         0.0\n",
              "min       0.001890     0.000148         0.0\n",
              "25%       0.776154     0.007007         0.0\n",
              "50%       0.966852     0.033148         0.0\n",
              "75%       0.992993     0.223846         0.0\n",
              "max       0.999852     0.998110         0.0"
            ],
            "text/html": [
              "\n",
              "  <div id=\"df-12fdc9a8-57f4-41bf-8e4d-dcf85fa240c2\">\n",
              "    <div class=\"colab-df-container\">\n",
              "      <div>\n",
              "<style scoped>\n",
              "    .dataframe tbody tr th:only-of-type {\n",
              "        vertical-align: middle;\n",
              "    }\n",
              "\n",
              "    .dataframe tbody tr th {\n",
              "        vertical-align: top;\n",
              "    }\n",
              "\n",
              "    .dataframe thead th {\n",
              "        text-align: right;\n",
              "    }\n",
              "</style>\n",
              "<table border=\"1\" class=\"dataframe\">\n",
              "  <thead>\n",
              "    <tr style=\"text-align: right;\">\n",
              "      <th></th>\n",
              "      <th>yes_score</th>\n",
              "      <th>no_score</th>\n",
              "      <th>true_label</th>\n",
              "    </tr>\n",
              "  </thead>\n",
              "  <tbody>\n",
              "    <tr>\n",
              "      <th>count</th>\n",
              "      <td>6876.000000</td>\n",
              "      <td>6876.000000</td>\n",
              "      <td>6876.0</td>\n",
              "    </tr>\n",
              "    <tr>\n",
              "      <th>mean</th>\n",
              "      <td>0.828132</td>\n",
              "      <td>0.171868</td>\n",
              "      <td>0.0</td>\n",
              "    </tr>\n",
              "    <tr>\n",
              "      <th>std</th>\n",
              "      <td>0.261141</td>\n",
              "      <td>0.261141</td>\n",
              "      <td>0.0</td>\n",
              "    </tr>\n",
              "    <tr>\n",
              "      <th>min</th>\n",
              "      <td>0.001890</td>\n",
              "      <td>0.000148</td>\n",
              "      <td>0.0</td>\n",
              "    </tr>\n",
              "    <tr>\n",
              "      <th>25%</th>\n",
              "      <td>0.776154</td>\n",
              "      <td>0.007007</td>\n",
              "      <td>0.0</td>\n",
              "    </tr>\n",
              "    <tr>\n",
              "      <th>50%</th>\n",
              "      <td>0.966852</td>\n",
              "      <td>0.033148</td>\n",
              "      <td>0.0</td>\n",
              "    </tr>\n",
              "    <tr>\n",
              "      <th>75%</th>\n",
              "      <td>0.992993</td>\n",
              "      <td>0.223846</td>\n",
              "      <td>0.0</td>\n",
              "    </tr>\n",
              "    <tr>\n",
              "      <th>max</th>\n",
              "      <td>0.999852</td>\n",
              "      <td>0.998110</td>\n",
              "      <td>0.0</td>\n",
              "    </tr>\n",
              "  </tbody>\n",
              "</table>\n",
              "</div>\n",
              "      <button class=\"colab-df-convert\" onclick=\"convertToInteractive('df-12fdc9a8-57f4-41bf-8e4d-dcf85fa240c2')\"\n",
              "              title=\"Convert this dataframe to an interactive table.\"\n",
              "              style=\"display:none;\">\n",
              "        \n",
              "  <svg xmlns=\"http://www.w3.org/2000/svg\" height=\"24px\"viewBox=\"0 0 24 24\"\n",
              "       width=\"24px\">\n",
              "    <path d=\"M0 0h24v24H0V0z\" fill=\"none\"/>\n",
              "    <path d=\"M18.56 5.44l.94 2.06.94-2.06 2.06-.94-2.06-.94-.94-2.06-.94 2.06-2.06.94zm-11 1L8.5 8.5l.94-2.06 2.06-.94-2.06-.94L8.5 2.5l-.94 2.06-2.06.94zm10 10l.94 2.06.94-2.06 2.06-.94-2.06-.94-.94-2.06-.94 2.06-2.06.94z\"/><path d=\"M17.41 7.96l-1.37-1.37c-.4-.4-.92-.59-1.43-.59-.52 0-1.04.2-1.43.59L10.3 9.45l-7.72 7.72c-.78.78-.78 2.05 0 2.83L4 21.41c.39.39.9.59 1.41.59.51 0 1.02-.2 1.41-.59l7.78-7.78 2.81-2.81c.8-.78.8-2.07 0-2.86zM5.41 20L4 18.59l7.72-7.72 1.47 1.35L5.41 20z\"/>\n",
              "  </svg>\n",
              "      </button>\n",
              "      \n",
              "  <style>\n",
              "    .colab-df-container {\n",
              "      display:flex;\n",
              "      flex-wrap:wrap;\n",
              "      gap: 12px;\n",
              "    }\n",
              "\n",
              "    .colab-df-convert {\n",
              "      background-color: #E8F0FE;\n",
              "      border: none;\n",
              "      border-radius: 50%;\n",
              "      cursor: pointer;\n",
              "      display: none;\n",
              "      fill: #1967D2;\n",
              "      height: 32px;\n",
              "      padding: 0 0 0 0;\n",
              "      width: 32px;\n",
              "    }\n",
              "\n",
              "    .colab-df-convert:hover {\n",
              "      background-color: #E2EBFA;\n",
              "      box-shadow: 0px 1px 2px rgba(60, 64, 67, 0.3), 0px 1px 3px 1px rgba(60, 64, 67, 0.15);\n",
              "      fill: #174EA6;\n",
              "    }\n",
              "\n",
              "    [theme=dark] .colab-df-convert {\n",
              "      background-color: #3B4455;\n",
              "      fill: #D2E3FC;\n",
              "    }\n",
              "\n",
              "    [theme=dark] .colab-df-convert:hover {\n",
              "      background-color: #434B5C;\n",
              "      box-shadow: 0px 1px 3px 1px rgba(0, 0, 0, 0.15);\n",
              "      filter: drop-shadow(0px 1px 2px rgba(0, 0, 0, 0.3));\n",
              "      fill: #FFFFFF;\n",
              "    }\n",
              "  </style>\n",
              "\n",
              "      <script>\n",
              "        const buttonEl =\n",
              "          document.querySelector('#df-12fdc9a8-57f4-41bf-8e4d-dcf85fa240c2 button.colab-df-convert');\n",
              "        buttonEl.style.display =\n",
              "          google.colab.kernel.accessAllowed ? 'block' : 'none';\n",
              "\n",
              "        async function convertToInteractive(key) {\n",
              "          const element = document.querySelector('#df-12fdc9a8-57f4-41bf-8e4d-dcf85fa240c2');\n",
              "          const dataTable =\n",
              "            await google.colab.kernel.invokeFunction('convertToInteractive',\n",
              "                                                     [key], {});\n",
              "          if (!dataTable) return;\n",
              "\n",
              "          const docLinkHtml = 'Like what you see? Visit the ' +\n",
              "            '<a target=\"_blank\" href=https://colab.research.google.com/notebooks/data_table.ipynb>data table notebook</a>'\n",
              "            + ' to learn more about interactive tables.';\n",
              "          element.innerHTML = '';\n",
              "          dataTable['output_type'] = 'display_data';\n",
              "          await google.colab.output.renderOutput(dataTable, element);\n",
              "          const docLink = document.createElement('div');\n",
              "          docLink.innerHTML = docLinkHtml;\n",
              "          element.appendChild(docLink);\n",
              "        }\n",
              "      </script>\n",
              "    </div>\n",
              "  </div>\n",
              "  "
            ]
          },
          "metadata": {},
          "execution_count": 29
        }
      ]
    },
    {
      "cell_type": "code",
      "source": [
        "print(df.describe())\n",
        "sns.FacetGrid(df,hue=\"true_label\",height=7).map(plt.scatter,\"yes_score\",\"no_score\").add_legend()\n",
        "plt.show()"
      ],
      "metadata": {
        "id": "Z3JYW3W68deD",
        "outputId": "41b486ad-b111-4d63-abd5-f38ba395a447",
        "colab": {
          "base_uri": "https://localhost:8080/",
          "height": 669
        }
      },
      "id": "Z3JYW3W68deD",
      "execution_count": 30,
      "outputs": [
        {
          "output_type": "stream",
          "name": "stdout",
          "text": [
            "         yes_score     no_score  true_label\n",
            "count  6876.000000  6876.000000      6876.0\n",
            "mean      0.828132     0.171868         0.0\n",
            "std       0.261141     0.261141         0.0\n",
            "min       0.001890     0.000148         0.0\n",
            "25%       0.776154     0.007007         0.0\n",
            "50%       0.966852     0.033148         0.0\n",
            "75%       0.992993     0.223846         0.0\n",
            "max       0.999852     0.998110         0.0\n"
          ]
        },
        {
          "output_type": "display_data",
          "data": {
            "text/plain": [
              "<Figure size 561.75x504 with 1 Axes>"
            ],
            "image/png": "[encoded data removed]"
          },
          "metadata": {
            "needs_background": "light"
          }
        }
      ]
    },
    {
      "cell_type": "markdown",
      "id": "4c5c955a",
      "metadata": {
        "id": "4c5c955a"
      },
      "source": [
        "## Testing"
      ]
    },
    {
      "cell_type": "code",
      "execution_count": 31,
      "id": "6918db13",
      "metadata": {
        "id": "6918db13",
        "outputId": "a65eb782-f228-48b5-b982-6117b8761db7",
        "colab": {
          "base_uri": "https://localhost:8080/"
        }
      },
      "outputs": [
        {
          "output_type": "stream",
          "name": "stdout",
          "text": [
            "[0.   0.05 0.1  0.15 0.2  0.25 0.3  0.35 0.4  0.45 0.5  0.55 0.6  0.65\n",
            " 0.7  0.75]\n",
            "0.0 6876.0 6876.0 0.0 0.0\n",
            "0.05 6876.0 6790.0 86.0 0.0\n",
            "0.1 6876.0 6691.0 185.0 0.0\n",
            "0.15000000000000002 6874.0 6579.0 297.0 2.0\n",
            "0.2 6871.0 6484.0 392.0 5.0\n",
            "0.25 6868.0 6379.0 497.0 8.0\n",
            "0.30000000000000004 6866.0 6312.0 564.0 10.0\n",
            "0.35000000000000003 6864.0 6233.0 643.0 12.0\n",
            "0.4 6862.0 6130.0 746.0 14.0\n",
            "0.45 6861.0 6021.0 855.0 15.0\n",
            "0.5 6858.0 5930.0 946.0 18.0\n",
            "0.55 6851.0 5819.0 1057.0 25.0\n",
            "0.6000000000000001 6846.0 5710.0 1166.0 30.0\n",
            "0.65 6844.0 5581.0 1295.0 32.0\n",
            "0.7000000000000001 6839.0 5429.0 1447.0 37.0\n",
            "0.75 6831.0 5254.0 1622.0 45.0\n"
          ]
        }
      ],
      "source": [
        "# function to test the model on a given threshold\n",
        "def test_with_threshold(dataloader,model,threshold):\n",
        "  size = len(dataloader.dataset)\n",
        "  model.eval()\n",
        "  accuracy = 0\n",
        "  y_true = [] # store the true class\n",
        "  y_pred = [] # store the predicted class\n",
        "  y_pred_score = []\n",
        "  y_true_score = []\n",
        "  with torch.no_grad():\n",
        "      for images,logits in dataloader:\n",
        "        output = model(images)\n",
        "        output = softmax(output)\n",
        "        outnp = output.numpy()\n",
        "        logit_np = logits.numpy()\n",
        "        for i in range(len(outnp)):\n",
        "          true_label = 1 if logit_np[i][0] >= logit_np[i][1] else 0 # true class\n",
        "          y_true.append(true_label)\n",
        "          y_true_score.append(logit_np[i][0]) # true yes score\n",
        "          y_pred_score.append(outnp[i][0]) # predicted yes score\n",
        "          if outnp[i][0] >= threshold:\n",
        "            y_pred.append(1) # predicted positive class\n",
        "          else:\n",
        "            y_pred.append(0) # predicted negative class\n",
        "  accuracy = accuracy_score(y_true,y_pred) # calculate the accuracy\n",
        "  precision = precision_score(y_true,y_pred) # calculate precision\n",
        "  recall = recall_score(y_true,y_pred) # calculate recall\n",
        "  # print(accuracy)\n",
        "  tp = 0.0\n",
        "  fp = 0.0\n",
        "  tn = 0.0\n",
        "  fn = 0.0\n",
        "  for i in range(len(y_true)):\n",
        "    if y_true[i] == 1 and y_pred[i] == 1:\n",
        "      tp += 1\n",
        "    elif y_true[i] == 0 and y_pred[i] == 1:\n",
        "      fp += 1\n",
        "    elif y_true[i] == 1 and y_pred[i] == 0:\n",
        "      fn += 1\n",
        "    else:\n",
        "      tn += 1\n",
        "  if tp == 0 and fp == 0:\n",
        "    print(threshold)\n",
        "  precision = tp / (tp + fp)\n",
        "  print(threshold,tp,fp,tn,fn,sep=\" \")\n",
        "  # print(f\"Accuracy : {(100*correct):>0.1f}%\")\n",
        "  return (accuracy,precision,recall)\n",
        "\n",
        "# scores = np.empty((0,3),dtype=np.float32)\n",
        "threshold_data = np.empty((0,4),dtype=np.float32)\n",
        "\n",
        "yes_scores = np.linspace(0.0,0.75,16,endpoint=True)\n",
        "print(yes_scores)\n",
        "for threshold in yes_scores:\n",
        "  accuracy,precision,recall = test_with_threshold(test_loader,model,threshold)\n",
        "  threshold_data = np.vstack((threshold_data,[[threshold,accuracy,precision,recall]]))\n",
        "\n",
        "# data\n",
        "# y = [3]\n",
        "# np.savetxt(\"y_pred_score\",y,delimiter=\",\")\n",
        "  # np.savetxt(\"y_true_score\",y,delimiter=\",\")\n",
        "# df = pd.DataFrame(data)\n",
        "# df.columns = ['threshold','accuracy','precision','recall']\n",
        "# df\n",
        "# with torch.no_grad():\n",
        "#     for images,logits in test_loader:\n",
        "#       output = model(images)\n",
        "#       output = output.numpy()\n",
        "#       logits = logits.numpy()\n",
        "#       for i in range(len(output)):\n",
        "#         yes_score = output[i][0]\n",
        "#         no_score = output[i][1]\n",
        "#         # print(no_score)\n",
        "#         true_label =  1 if np.argmax(logits[i]) == 0 else 0 \n",
        "#         # if true_label == 0:\n",
        "#         scores = np.vstack((scores,[[yes_score,no_score,true_label]]))\n",
        "#       # break\n",
        "# # print(scores)\n",
        "\n",
        "# df = pd.DataFrame(scores)\n",
        "# df.columns = ['yes_score','no_score','true_label']\n",
        "# df"
      ]
    },
    {
      "cell_type": "markdown",
      "source": [
        "### Plotting the metrics"
      ],
      "metadata": {
        "id": "6r29DIkOdHrm"
      },
      "id": "6r29DIkOdHrm"
    },
    {
      "cell_type": "code",
      "source": [
        "plt.figure(figsize=(8,8))\n",
        "plt.plot(threshold_data[:,0],threshold_data[:,1],c='b',label='Accuracy')\n",
        "plt.plot(threshold_data[:,0],threshold_data[:,2],c='r',label='Precision')\n",
        "plt.plot(threshold_data[:,0],threshold_data[:,3],c='g',label='Recall')\n",
        "plt.legend()\n",
        "plt.ylabel(\"Metric\")\n",
        "plt.xlabel(\"Threshold\")\n",
        "plt.show()"
      ],
      "metadata": {
        "id": "Tneu5R9bdG_M",
        "outputId": "e4266cb2-32e2-41b5-a28a-bfec1902ab30",
        "colab": {
          "base_uri": "https://localhost:8080/",
          "height": 497
        }
      },
      "id": "Tneu5R9bdG_M",
      "execution_count": 32,
      "outputs": [
        {
          "output_type": "display_data",
          "data": {
            "text/plain": [
              "<Figure size 576x576 with 1 Axes>"
            ],
            "image/png": "[encoded data removed]"
          },
          "metadata": {
            "needs_background": "light"
          }
        }
      ]
    }
  ],
  "metadata": {
    "kernelspec": {
      "display_name": "Python 3 (ipykernel)",
      "language": "python",
      "name": "python3"
    },
    "language_info": {
      "codemirror_mode": {
        "name": "ipython",
        "version": 3
      },
      "file_extension": ".py",
      "mimetype": "text/x-python",
      "name": "python",
      "nbconvert_exporter": "python",
      "pygments_lexer": "ipython3",
      "version": "3.9.7"
    },
    "colab": {
      "name": "MNIST classification.ipynb",
      "provenance": []
    }
  },
  "nbformat": 4,
  "nbformat_minor": 5
}