{
  "cells": [
    {
      "cell_type": "markdown",
      "id": "cf6a1420",
      "metadata": {
        "id": "cf6a1420"
      },
      "source": [
        "## Import libraries"
      ]
    },
    {
      "cell_type": "code",
      "execution_count": 11,
      "id": "26cfa340",
      "metadata": {
        "id": "26cfa340"
      },
      "outputs": [],
      "source": [
        "import numpy as np\n",
        "import torch\n",
        "import torchvision\n",
        "import matplotlib.pyplot as plt\n",
        "from time import time\n",
        "from torchvision import datasets, transforms\n",
        "from torch import nn,optim\n",
        "from torch.utils.data import TensorDataset,DataLoader\n",
        "from sklearn.metrics import f1_score,precision_score,recall_score,accuracy_score\n",
        "from sklearn.preprocessing import LabelBinarizer\n",
        "import pandas as pd\n",
        "import seaborn as sns\n",
        "import random\n",
        "import torch.nn.functional as F"
      ]
    },
    {
      "cell_type": "markdown",
      "id": "effc4c9e",
      "metadata": {
        "id": "effc4c9e"
      },
      "source": [
        "## Download and Preprocess Dataset"
      ]
    },
    {
      "cell_type": "code",
      "execution_count": 12,
      "id": "39b2cf22",
      "metadata": {
        "id": "39b2cf22"
      },
      "outputs": [],
      "source": [
        "train_set = datasets.MNIST('/content',train=True,download=True)\n",
        "test_set = datasets.MNIST('/content',train=False,download=True)\n",
        "\n",
        "num_classes = 10"
      ]
    },
    {
      "cell_type": "markdown",
      "id": "e42069f6",
      "metadata": {
        "id": "e42069f6"
      },
      "source": [
        "## Preprocessing"
      ]
    },
    {
      "cell_type": "code",
      "execution_count": 13,
      "id": "8ce40f00",
      "metadata": {
        "id": "8ce40f00"
      },
      "outputs": [],
      "source": [
        "# inversion and normalization\n",
        "invert = lambda image : 1 - image # function to invert the image\n",
        "normalize = lambda image : image / 255 # function for bringing pixel values in range [0,1]\n",
        "\n",
        "def preprocessing(dataset):\n",
        "    dataset_images = dataset.data.numpy() # convert the dataset into numpy array\n",
        "    dataset_labels = dataset.targets.numpy() # convert the labels into numpy array\n",
        "    dataset_images = normalize(dataset_images)\n",
        "    dataset_images = invert(dataset_images)\n",
        "    return dataset_images,dataset_labels\n",
        "\n",
        "train_images,train_labels = preprocessing(train_set)\n",
        "test_images,test_labels = preprocessing(test_set)"
      ]
    },
    {
      "cell_type": "markdown",
      "id": "57b53b31",
      "metadata": {
        "id": "57b53b31"
      },
      "source": [
        "## Prepare the data"
      ]
    },
    {
      "cell_type": "code",
      "execution_count": 14,
      "id": "eb717edb",
      "metadata": {
        "id": "eb717edb"
      },
      "outputs": [],
      "source": [
        "# function for shuffling image pixels\n",
        "def put_extra_data(source_dataset_images,source_dataset_labels,target_dataset,class_num):\n",
        "    temp_indices = np.asarray(np.where(source_dataset_labels == class_num))\n",
        "    temp_indices = temp_indices.flatten()\n",
        "    extra_original_images = source_dataset_images[temp_indices]\n",
        "    for i in range(len(extra_original_images)):\n",
        "      flattened_original_image = extra_original_images[i].flatten()\n",
        "      np.random.shuffle(flattened_original_image)\n",
        "      extra_original_images[i] = np.reshape(flattened_original_image,(28,28))\n",
        "    \n",
        "    target_dataset = np.concatenate((target_dataset,extra_original_images))\n",
        "    return target_dataset\n",
        "\n",
        "# function to prepare the dataset for a given digit\n",
        "def prepare_training_data(dataset_images,dataset_labels,class_num):\n",
        "    indices = np.asarray(np.where(dataset_labels == class_num)) # indices of occurrence of digit as label\n",
        "    indices = indices.flatten()\n",
        "    # get the images for making positive dataset\n",
        "    dataset_images_positive = dataset_images[indices] # images consisting of positive class\n",
        "    dataset_labels_positive = np.full(shape=(dataset_images_positive.shape[0],2),fill_value=[1,0],dtype=np.float32)\n",
        "    # print(dataset_images_positive.shape)\n",
        "    # get the images for making negative dataset\n",
        "    dataset_images_negative = invert(dataset_images_positive) # inverted images\n",
        "    dataset_images_negative = put_extra_data(dataset_images,dataset_labels,dataset_images_negative,class_num)\n",
        "    # print(dataset_images_negative.shape)\n",
        "    dataset_labels_negative = np.full(shape=(dataset_images_negative.shape[0],2),fill_value=[0,1],dtype=np.float32)\n",
        "    # concatenate the negative and positive datasets\n",
        "    modified_dataset_images = np.concatenate((dataset_images_positive,dataset_images_negative))\n",
        "    modified_dataset_labels = np.concatenate((dataset_labels_positive,dataset_labels_negative))\n",
        "    tensor_x = torch.Tensor(modified_dataset_images)\n",
        "    tensor_y = torch.Tensor(modified_dataset_labels)\n",
        "    new_dataset = TensorDataset(tensor_x,tensor_y)\n",
        "    return new_dataset\n",
        "\n",
        "def concat_datasets(dataset1_images,dataset1_labels,dataset2_images,dataset2_labels,class_num):\n",
        "    # join the two datasets\n",
        "    joined_dataset_images = np.concatenate((dataset1_images,dataset2_images))\n",
        "    joined_dataset_labels = np.concatenate((dataset1_labels,dataset2_labels))\n",
        "    \n",
        "    indices = np.asarray(np.where(joined_dataset_labels == class_num)) # indices of occurrence of class as label\n",
        "    indices = indices.flatten()\n",
        "    dataset_images_positive = joined_dataset_images[indices] # images consisting of positive class\n",
        "    dataset_labels_positive = np.full(shape=(dataset_images_positive.shape[0],2),fill_value=[1,0],dtype=np.float32)\n",
        "    negative_data_indices = [i for i in range(len(joined_dataset_labels)) if i not in indices]\n",
        "    \n",
        "    dataset_images_negative = joined_dataset_images[negative_data_indices]\n",
        "    dataset_labels_negative = np.full(shape=(dataset_images_negative.shape[0],2),fill_value=[0,1],dtype=np.float32) \n",
        "    \n",
        "    modified_dataset_images = np.concatenate((dataset_images_positive,dataset_images_negative))\n",
        "    modified_dataset_labels = np.concatenate((dataset_labels_positive,dataset_labels_negative))\n",
        "    \n",
        "    tensor_x = torch.Tensor(modified_dataset_images)\n",
        "    tensor_y = torch.Tensor(modified_dataset_labels)\n",
        "    new_dataset = TensorDataset(tensor_x,tensor_y)\n",
        "    return new_dataset"
      ]
    },
    {
      "cell_type": "markdown",
      "id": "75041a27",
      "metadata": {
        "id": "75041a27"
      },
      "source": [
        "### Plotting some data"
      ]
    },
    {
      "cell_type": "code",
      "execution_count": 15,
      "id": "eba6221d",
      "metadata": {
        "id": "eba6221d",
        "outputId": "d1b6bd27-ee16-46a8-c1ce-338d49462ad7",
        "colab": {
          "base_uri": "https://localhost:8080/",
          "height": 246
        }
      },
      "outputs": [
        {
          "output_type": "display_data",
          "data": {
            "text/plain": [
              "<Figure size 432x288 with 60 Axes>"
            ],
            "image/png": "[encoded data removed]"
          },
          "metadata": {
            "needs_background": "light"
          }
        }
      ],
      "source": [
        "class_num = 6\n",
        "train_class_set = prepare_training_data(train_images,train_labels,class_num) # fetch the training set for a class\n",
        "test_class_set = concat_datasets(train_images,train_labels,test_images,test_labels,class_num)\n",
        "train_loader = DataLoader(train_class_set,batch_size=64,shuffle=True)\n",
        "test_loader = DataLoader(test_class_set,batch_size=64,shuffle=True) # take original testing set of all classes\n",
        "dataiter = iter(train_loader)\n",
        "images,labels = dataiter.next()\n",
        "figure = plt.figure()\n",
        "# print(labels)\n",
        "num_of_images = 60  \n",
        "for index in range(1,num_of_images+1):\n",
        "    plt.subplot(6,10,index)\n",
        "    plt.axis('off')\n",
        "    plt.imshow(images[index].numpy().squeeze(),cmap='gray_r')"
      ]
    },
    {
      "cell_type": "markdown",
      "id": "78ef3a88",
      "metadata": {
        "id": "78ef3a88"
      },
      "source": [
        "## Build the neural network"
      ]
    },
    {
      "cell_type": "code",
      "execution_count": 16,
      "id": "5433be70",
      "metadata": {
        "id": "5433be70",
        "colab": {
          "base_uri": "https://localhost:8080/"
        },
        "outputId": "230abf38-21a8-4ce4-937e-bcbd20f94cff"
      },
      "outputs": [
        {
          "output_type": "stream",
          "name": "stdout",
          "text": [
            "Training loss: 0.2359476064686938\n",
            "Training loss: 0.01938203341334308\n",
            "Training loss: 0.009662802043880115\n",
            "Training loss: 0.0066547811089130455\n",
            "Training loss: 0.004956236808466986\n",
            "Training loss: 0.004042319773584135\n",
            "Training loss: 0.0033696373218374005\n",
            "Training loss: 0.002966616356329952\n",
            "Training loss: 0.0025732096346604417\n",
            "Training loss: 0.0023061184882791044\n"
          ]
        }
      ],
      "source": [
        "def softmax(output):\n",
        "  return torch.exp(output) / torch.sum(torch.exp(output),dim=1).view(-1,1)\n",
        "\n",
        "# Model class\n",
        "class NeuralNetwork(nn.Module):\n",
        "    def __init__(self):\n",
        "        super().__init__()\n",
        "        self.fc1 = nn.Linear(28*28, 100)\n",
        "        self.fc2 = nn.Linear(100, 10)\n",
        "        self.fc3 = nn.Linear(10, 2)\n",
        "\n",
        "    def forward(self, x):\n",
        "        x = torch.flatten(x, 1) # flatten all dimensions except the batch dimension\n",
        "        x = F.relu(self.fc1(x))\n",
        "        x = F.relu(self.fc2(x))\n",
        "        x = self.fc3(x)\n",
        "        return x\n",
        "\n",
        "epochs = 10\n",
        "model = NeuralNetwork()\n",
        "criterion = nn.CrossEntropyLoss()\n",
        "optimizer = optim.SGD(model.parameters(),lr=1e-3,momentum=0.9)\n",
        "\n",
        "# function to train the model\n",
        "\n",
        "model.train()\n",
        "for e in range(epochs):\n",
        "  running_loss = 0.0\n",
        "  for batch, (images,logits) in enumerate(train_loader):\n",
        "    optimizer.zero_grad()\n",
        "    # compute prediction error\n",
        "    output = model(images)\n",
        "    loss = criterion(output,logits)\n",
        "\n",
        "    # Backpropagation\n",
        "    loss.backward()\n",
        "    optimizer.step()\n",
        "    running_loss += loss.item()\n",
        "  else:\n",
        "    print(f\"Training loss: {running_loss/len(train_loader)}\")\n"
      ]
    },
    {
      "cell_type": "markdown",
      "source": [
        "### Testing without threshold"
      ],
      "metadata": {
        "id": "rkzPgG_r8SCb"
      },
      "id": "rkzPgG_r8SCb"
    },
    {
      "cell_type": "code",
      "source": [
        "# function to test the model\n",
        "def test(dataloader,model):\n",
        "    size = len(dataloader.dataset)\n",
        "    model.eval()\n",
        "    correct = 0\n",
        "    with torch.no_grad():\n",
        "        for images,logits in dataloader:\n",
        "            output = model(images)\n",
        "            output = softmax(output)\n",
        "            correct += (output.argmax(1) == logits.argmax(1)).type(torch.float).sum().item()\n",
        "    correct /= size\n",
        "    print(f\"Accuracy : {(100*correct):>0.1f}%\")\n",
        "\n",
        "test(test_loader,model)\n",
        "data = np.empty((0,3),dtype=np.float32)\n",
        "\n",
        "with torch.no_grad():\n",
        "    for images,scores in test_loader:\n",
        "      output = model(images)\n",
        "      output = softmax(output)\n",
        "      output = output.numpy()\n",
        "      scores = scores.numpy()\n",
        "      for i in range(len(output)):\n",
        "        yes_score = output[i][0]\n",
        "        no_score = output[i][1]\n",
        "        true_label =  1 if np.argmax(scores[i]) == 0 else 0 \n",
        "        # if true_label == 0:\n",
        "        data = np.vstack((data,[[yes_score,no_score,true_label]]))\n",
        "df = pd.DataFrame(data)\n",
        "df.columns = ['yes_score','no_score','true_label']\n",
        "df.describe()"
      ],
      "metadata": {
        "colab": {
          "base_uri": "https://localhost:8080/",
          "height": 318
        },
        "id": "-DlQhlWl8RK-",
        "outputId": "4cf01d14-3ed1-4b2c-98b7-6c8d593d36e0"
      },
      "id": "-DlQhlWl8RK-",
      "execution_count": 17,
      "outputs": [
        {
          "output_type": "stream",
          "name": "stdout",
          "text": [
            "Accuracy : 18.3%\n"
          ]
        },
        {
          "output_type": "execute_result",
          "data": {
            "text/plain": [
              "          yes_score      no_score    true_label\n",
              "count  70000.000000  70000.000000  70000.000000\n",
              "mean       0.894667      0.105333      0.098229\n",
              "std        0.219552      0.219552      0.297626\n",
              "min        0.000665      0.000028      0.000000\n",
              "25%        0.931046      0.000322      0.000000\n",
              "50%        0.996961      0.003039      0.000000\n",
              "75%        0.999678      0.068954      0.000000\n",
              "max        0.999972      0.999335      1.000000"
            ],
            "text/html": [
              "\n",
              "  <div id=\"df-87a57f01-2727-4bdf-955f-81b7adee833a\">\n",
              "    <div class=\"colab-df-container\">\n",
              "      <div>\n",
              "<style scoped>\n",
              "    .dataframe tbody tr th:only-of-type {\n",
              "        vertical-align: middle;\n",
              "    }\n",
              "\n",
              "    .dataframe tbody tr th {\n",
              "        vertical-align: top;\n",
              "    }\n",
              "\n",
              "    .dataframe thead th {\n",
              "        text-align: right;\n",
              "    }\n",
              "</style>\n",
              "<table border=\"1\" class=\"dataframe\">\n",
              "  <thead>\n",
              "    <tr style=\"text-align: right;\">\n",
              "      <th></th>\n",
              "      <th>yes_score</th>\n",
              "      <th>no_score</th>\n",
              "      <th>true_label</th>\n",
              "    </tr>\n",
              "  </thead>\n",
              "  <tbody>\n",
              "    <tr>\n",
              "      <th>count</th>\n",
              "      <td>70000.000000</td>\n",
              "      <td>70000.000000</td>\n",
              "      <td>70000.000000</td>\n",
              "    </tr>\n",
              "    <tr>\n",
              "      <th>mean</th>\n",
              "      <td>0.894667</td>\n",
              "      <td>0.105333</td>\n",
              "      <td>0.098229</td>\n",
              "    </tr>\n",
              "    <tr>\n",
              "      <th>std</th>\n",
              "      <td>0.219552</td>\n",
              "      <td>0.219552</td>\n",
              "      <td>0.297626</td>\n",
              "    </tr>\n",
              "    <tr>\n",
              "      <th>min</th>\n",
              "      <td>0.000665</td>\n",
              "      <td>0.000028</td>\n",
              "      <td>0.000000</td>\n",
              "    </tr>\n",
              "    <tr>\n",
              "      <th>25%</th>\n",
              "      <td>0.931046</td>\n",
              "      <td>0.000322</td>\n",
              "      <td>0.000000</td>\n",
              "    </tr>\n",
              "    <tr>\n",
              "      <th>50%</th>\n",
              "      <td>0.996961</td>\n",
              "      <td>0.003039</td>\n",
              "      <td>0.000000</td>\n",
              "    </tr>\n",
              "    <tr>\n",
              "      <th>75%</th>\n",
              "      <td>0.999678</td>\n",
              "      <td>0.068954</td>\n",
              "      <td>0.000000</td>\n",
              "    </tr>\n",
              "    <tr>\n",
              "      <th>max</th>\n",
              "      <td>0.999972</td>\n",
              "      <td>0.999335</td>\n",
              "      <td>1.000000</td>\n",
              "    </tr>\n",
              "  </tbody>\n",
              "</table>\n",
              "</div>\n",
              "      <button class=\"colab-df-convert\" onclick=\"convertToInteractive('df-87a57f01-2727-4bdf-955f-81b7adee833a')\"\n",
              "              title=\"Convert this dataframe to an interactive table.\"\n",
              "              style=\"display:none;\">\n",
              "        \n",
              "  <svg xmlns=\"http://www.w3.org/2000/svg\" height=\"24px\"viewBox=\"0 0 24 24\"\n",
              "       width=\"24px\">\n",
              "    <path d=\"M0 0h24v24H0V0z\" fill=\"none\"/>\n",
              "    <path d=\"M18.56 5.44l.94 2.06.94-2.06 2.06-.94-2.06-.94-.94-2.06-.94 2.06-2.06.94zm-11 1L8.5 8.5l.94-2.06 2.06-.94-2.06-.94L8.5 2.5l-.94 2.06-2.06.94zm10 10l.94 2.06.94-2.06 2.06-.94-2.06-.94-.94-2.06-.94 2.06-2.06.94z\"/><path d=\"M17.41 7.96l-1.37-1.37c-.4-.4-.92-.59-1.43-.59-.52 0-1.04.2-1.43.59L10.3 9.45l-7.72 7.72c-.78.78-.78 2.05 0 2.83L4 21.41c.39.39.9.59 1.41.59.51 0 1.02-.2 1.41-.59l7.78-7.78 2.81-2.81c.8-.78.8-2.07 0-2.86zM5.41 20L4 18.59l7.72-7.72 1.47 1.35L5.41 20z\"/>\n",
              "  </svg>\n",
              "      </button>\n",
              "      \n",
              "  <style>\n",
              "    .colab-df-container {\n",
              "      display:flex;\n",
              "      flex-wrap:wrap;\n",
              "      gap: 12px;\n",
              "    }\n",
              "\n",
              "    .colab-df-convert {\n",
              "      background-color: #E8F0FE;\n",
              "      border: none;\n",
              "      border-radius: 50%;\n",
              "      cursor: pointer;\n",
              "      display: none;\n",
              "      fill: #1967D2;\n",
              "      height: 32px;\n",
              "      padding: 0 0 0 0;\n",
              "      width: 32px;\n",
              "    }\n",
              "\n",
              "    .colab-df-convert:hover {\n",
              "      background-color: #E2EBFA;\n",
              "      box-shadow: 0px 1px 2px rgba(60, 64, 67, 0.3), 0px 1px 3px 1px rgba(60, 64, 67, 0.15);\n",
              "      fill: #174EA6;\n",
              "    }\n",
              "\n",
              "    [theme=dark] .colab-df-convert {\n",
              "      background-color: #3B4455;\n",
              "      fill: #D2E3FC;\n",
              "    }\n",
              "\n",
              "    [theme=dark] .colab-df-convert:hover {\n",
              "      background-color: #434B5C;\n",
              "      box-shadow: 0px 1px 3px 1px rgba(0, 0, 0, 0.15);\n",
              "      filter: drop-shadow(0px 1px 2px rgba(0, 0, 0, 0.3));\n",
              "      fill: #FFFFFF;\n",
              "    }\n",
              "  </style>\n",
              "\n",
              "      <script>\n",
              "        const buttonEl =\n",
              "          document.querySelector('#df-87a57f01-2727-4bdf-955f-81b7adee833a button.colab-df-convert');\n",
              "        buttonEl.style.display =\n",
              "          google.colab.kernel.accessAllowed ? 'block' : 'none';\n",
              "\n",
              "        async function convertToInteractive(key) {\n",
              "          const element = document.querySelector('#df-87a57f01-2727-4bdf-955f-81b7adee833a');\n",
              "          const dataTable =\n",
              "            await google.colab.kernel.invokeFunction('convertToInteractive',\n",
              "                                                     [key], {});\n",
              "          if (!dataTable) return;\n",
              "\n",
              "          const docLinkHtml = 'Like what you see? Visit the ' +\n",
              "            '<a target=\"_blank\" href=https://colab.research.google.com/notebooks/data_table.ipynb>data table notebook</a>'\n",
              "            + ' to learn more about interactive tables.';\n",
              "          element.innerHTML = '';\n",
              "          dataTable['output_type'] = 'display_data';\n",
              "          await google.colab.output.renderOutput(dataTable, element);\n",
              "          const docLink = document.createElement('div');\n",
              "          docLink.innerHTML = docLinkHtml;\n",
              "          element.appendChild(docLink);\n",
              "        }\n",
              "      </script>\n",
              "    </div>\n",
              "  </div>\n",
              "  "
            ]
          },
          "metadata": {},
          "execution_count": 17
        }
      ]
    },
    {
      "cell_type": "code",
      "source": [
        "print(df.describe())\n",
        "sns.FacetGrid(df,hue=\"true_label\",height=7).map(plt.scatter,\"yes_score\",\"no_score\").add_legend()\n",
        "plt.show()"
      ],
      "metadata": {
        "id": "Z3JYW3W68deD",
        "outputId": "8870da61-8bb2-4bf3-ea1d-e205a71bb50b",
        "colab": {
          "base_uri": "https://localhost:8080/",
          "height": 669
        }
      },
      "id": "Z3JYW3W68deD",
      "execution_count": 18,
      "outputs": [
        {
          "output_type": "stream",
          "name": "stdout",
          "text": [
            "          yes_score      no_score    true_label\n",
            "count  70000.000000  70000.000000  70000.000000\n",
            "mean       0.894667      0.105333      0.098229\n",
            "std        0.219552      0.219552      0.297626\n",
            "min        0.000665      0.000028      0.000000\n",
            "25%        0.931046      0.000322      0.000000\n",
            "50%        0.996961      0.003039      0.000000\n",
            "75%        0.999678      0.068954      0.000000\n",
            "max        0.999972      0.999335      1.000000\n"
          ]
        },
        {
          "output_type": "display_data",
          "data": {
            "text/plain": [
              "<Figure size 561.75x504 with 1 Axes>"
            ],
            "image/png": "[encoded data removed]"
          },
          "metadata": {
            "needs_background": "light"
          }
        }
      ]
    },
    {
      "cell_type": "markdown",
      "id": "4c5c955a",
      "metadata": {
        "id": "4c5c955a"
      },
      "source": [
        "## Testing"
      ]
    },
    {
      "cell_type": "code",
      "execution_count": 19,
      "id": "6918db13",
      "metadata": {
        "id": "6918db13",
        "outputId": "7397c726-8aea-411f-f19c-0be4a683b4bf",
        "colab": {
          "base_uri": "https://localhost:8080/"
        }
      },
      "outputs": [
        {
          "output_type": "stream",
          "name": "stdout",
          "text": [
            "[0.  0.1 0.2 0.3 0.4 0.5 0.6 0.7 0.8 0.9]\n"
          ]
        }
      ],
      "source": [
        "# function to test the model on a given threshold\n",
        "def test_with_threshold(dataloader,model,threshold):\n",
        "  size = len(dataloader.dataset)\n",
        "  model.eval()\n",
        "  accuracy = 0\n",
        "  y_true = [] # store the true class\n",
        "  y_pred = [] # store the predicted class\n",
        "  y_pred_score = []\n",
        "  y_true_score = []\n",
        "  with torch.no_grad():\n",
        "      for images,logits in dataloader:\n",
        "        output = model(images)\n",
        "        output = softmax(output)\n",
        "        outnp = output.numpy()\n",
        "        logit_np = logits.numpy()\n",
        "        for i in range(len(outnp)):\n",
        "          true_label = 1 if logit_np[i][0] >= logit_np[i][1] else 0 # true class\n",
        "          y_true.append(true_label)\n",
        "          y_true_score.append(logit_np[i][0]) # true yes score\n",
        "          y_pred_score.append(outnp[i][0]) # predicted yes score\n",
        "          if outnp[i][0] >= threshold:\n",
        "            y_pred.append(1) # predicted positive class\n",
        "          else:\n",
        "            y_pred.append(0) # predicted negative class\n",
        "  accuracy = accuracy_score(y_true,y_pred) # calculate the accuracy\n",
        "  precision = precision_score(y_true,y_pred) # calculate precision\n",
        "  recall = recall_score(y_true,y_pred) # calculate recall\n",
        "  return (accuracy,precision,recall)\n",
        "\n",
        "\n",
        "threshold_data = np.empty((0,4),dtype=np.float32)\n",
        "\n",
        "yes_scores = np.linspace(0.0,1.0,10,endpoint=False)\n",
        "print(yes_scores)\n",
        "for threshold in yes_scores:\n",
        "  accuracy,precision,recall = test_with_threshold(test_loader,model,threshold)\n",
        "  threshold_data = np.vstack((threshold_data,[[threshold,accuracy,precision,recall]]))"
      ]
    },
    {
      "cell_type": "markdown",
      "source": [
        "### Plotting the metrics"
      ],
      "metadata": {
        "id": "6r29DIkOdHrm"
      },
      "id": "6r29DIkOdHrm"
    },
    {
      "cell_type": "code",
      "source": [
        "plt.figure(figsize=(8,8))\n",
        "plt.plot(threshold_data[:,0],threshold_data[:,1],c='b',label='Accuracy')\n",
        "plt.plot(threshold_data[:,0],threshold_data[:,2],c='r',label='Precision')\n",
        "plt.plot(threshold_data[:,0],threshold_data[:,3],c='g',label='Recall')\n",
        "plt.legend()\n",
        "plt.ylabel(\"Metric\")\n",
        "plt.xlabel(\"Threshold\")\n",
        "plt.show()"
      ],
      "metadata": {
        "id": "Tneu5R9bdG_M",
        "outputId": "798a84d5-111b-42d6-db65-4c1898079b76",
        "colab": {
          "base_uri": "https://localhost:8080/",
          "height": 497
        }
      },
      "id": "Tneu5R9bdG_M",
      "execution_count": 20,
      "outputs": [
        {
          "output_type": "display_data",
          "data": {
            "text/plain": [
              "<Figure size 576x576 with 1 Axes>"
            ],
            "image/png": "[encoded data removed]"
          },
          "metadata": {
            "needs_background": "light"
          }
        }
      ]
    }
  ],
  "metadata": {
    "kernelspec": {
      "display_name": "Python 3 (ipykernel)",
      "language": "python",
      "name": "python3"
    },
    "language_info": {
      "codemirror_mode": {
        "name": "ipython",
        "version": 3
      },
      "file_extension": ".py",
      "mimetype": "text/x-python",
      "name": "python",
      "nbconvert_exporter": "python",
      "pygments_lexer": "ipython3",
      "version": "3.9.7"
    },
    "colab": {
      "name": "MNIST classification.ipynb",
      "provenance": []
    }
  },
  "nbformat": 4,
  "nbformat_minor": 5
}