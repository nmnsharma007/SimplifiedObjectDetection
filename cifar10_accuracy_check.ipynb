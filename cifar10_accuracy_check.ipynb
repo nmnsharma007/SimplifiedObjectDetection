{
  "cells": [
    {
      "cell_type": "code",
      "execution_count": 1,
      "metadata": {
        "id": "wJcfjQPhtt0O"
      },
      "outputs": [],
      "source": [
        "import torch\n",
        "from torch.utils.data import Subset,DataLoader, TensorDataset, ConcatDataset\n",
        "from torchvision import datasets, transforms\n",
        "import numpy as np\n",
        "import matplotlib.pyplot as plt\n",
        "from torch import nn\n",
        "import torch.nn.functional as F\n",
        "import torch.optim as optim"
      ]
    },
    {
      "cell_type": "code",
      "source": [
        "batch_size = 64\n",
        "num_classes = 10\n",
        "epochs = 10\n",
        "device = \"cuda\" if torch.cuda.is_available() else \"cpu\"\n",
        "print(device)"
      ],
      "metadata": {
        "id": "wIdPQhV-3z6w",
        "colab": {
          "base_uri": "https://localhost:8080/"
        },
        "outputId": "864c16c8-91a8-4397-a61a-7218b4739b0c"
      },
      "execution_count": 2,
      "outputs": [
        {
          "output_type": "stream",
          "name": "stdout",
          "text": [
            "cuda\n"
          ]
        }
      ]
    },
    {
      "cell_type": "code",
      "source": [
        "train_set = datasets.CIFAR10('/content',train=True,download=True)\n",
        "test_set = datasets.CIFAR10('/content',train=False,download=True)"
      ],
      "metadata": {
        "id": "HlyLoDfix0Mv",
        "colab": {
          "base_uri": "https://localhost:8080/",
          "height": 101,
          "referenced_widgets": [
            "e39467b9ba304277864b350bf25ad569",
            "d4c6e8f21b0a4ee6accb3799f2efe160",
            "d80889e4aea14cf68b15a085130bc118",
            "b04776e1e32942f1848b84dbe9a959c4",
            "f9c8a1581f194b8f9992fac34c6afd82",
            "9057243fa055419897d630d0a089ceac",
            "ee8cb656321c459aa931c740b384ca59",
            "931161d71ba94e4a97cd0d2251833fb1",
            "f087fb9317a24a8080489896352284a0",
            "af724f3a658c4782a8d66d41e006e7f4",
            "cfe7491df4e842fa8f748b7762ff8942"
          ]
        },
        "outputId": "4635d22e-19b3-40d1-cda3-8b0572adc7c4"
      },
      "execution_count": 3,
      "outputs": [
        {
          "output_type": "stream",
          "name": "stdout",
          "text": [
            "Downloading https://www.cs.toronto.edu/~kriz/cifar-10-python.tar.gz to /content/cifar-10-python.tar.gz\n"
          ]
        },
        {
          "output_type": "display_data",
          "data": {
            "text/plain": [
              "  0%|          | 0/170498071 [00:00<?, ?it/s]"
            ],
            "application/vnd.jupyter.widget-view+json": {
              "version_major": 2,
              "version_minor": 0,
              "model_id": "e39467b9ba304277864b350bf25ad569"
            }
          },
          "metadata": {}
        },
        {
          "output_type": "stream",
          "name": "stdout",
          "text": [
            "Extracting /content/cifar-10-python.tar.gz to /content\n",
            "Files already downloaded and verified\n"
          ]
        }
      ]
    },
    {
      "cell_type": "markdown",
      "source": [
        "### Preprocessing"
      ],
      "metadata": {
        "id": "U3_ZRBDOzz6p"
      }
    },
    {
      "cell_type": "code",
      "source": [
        "# inversion and normalization\n",
        "invert = lambda image : 1 - image # function to invert the image\n",
        "normalize = lambda image : image / 255 # function for bringing pixel values in range [0,1]\n",
        "\n",
        "def preprocessing(dataset):\n",
        "    dataset_images = dataset.data\n",
        "    dataset_labels = dataset.targets\n",
        "    dataset_images = normalize(dataset_images)\n",
        "    # dataset_images = invert(dataset_images)\n",
        "    return dataset_images,dataset_labels\n",
        "\n",
        "train_images,train_labels = preprocessing(train_set)\n",
        "test_images,test_labels = preprocessing(test_set)"
      ],
      "metadata": {
        "id": "CbkiZhIzyb_8"
      },
      "execution_count": 4,
      "outputs": []
    },
    {
      "cell_type": "markdown",
      "source": [
        "### Define the network"
      ],
      "metadata": {
        "id": "qlY5zRh2MT_c"
      }
    },
    {
      "cell_type": "code",
      "source": [
        "class NeuralNetwork(nn.Module):\n",
        "  def __init__(self,classes,channels):\n",
        "    super().__init__()\n",
        "    self.conv1 = nn.Conv2d(channels,4,5)\n",
        "    self.conv2 = nn.Conv2d(4,6,5)\n",
        "    self.pool = nn.MaxPool2d(2,2)\n",
        "    self.fc1 = nn.Linear(6*5*5,128)\n",
        "    self.fc2 = nn.Linear(128,64)\n",
        "    self.fc3 = nn.Linear(64,classes)\n",
        "  \n",
        "  def forward(self,x):\n",
        "    # x = x.unsqueeze(1)\n",
        "    x = self.pool(F.relu(self.conv1(x)))\n",
        "    x = self.pool(F.relu(self.conv2(x)))\n",
        "    x = x.view(x.shape[0],-1)\n",
        "    x = F.relu(self.fc1(x))\n",
        "    x = F.relu(self.fc2(x))\n",
        "    x = self.fc3(x)\n",
        "    # x = F.softmax(x,dim=1)\n",
        "    return x"
      ],
      "metadata": {
        "id": "fxZZf9iFMVia"
      },
      "execution_count": 5,
      "outputs": []
    },
    {
      "cell_type": "markdown",
      "source": [
        "### Training the model"
      ],
      "metadata": {
        "id": "wN6Q0Dq4V7lw"
      }
    },
    {
      "cell_type": "code",
      "source": [
        "def train(model,trainloader):\n",
        "  criterion = nn.CrossEntropyLoss()\n",
        "  optimizer = optim.SGD(model.parameters(),lr=0.001,momentum=0.9)\n",
        "  model = model.to(device)\n",
        "  model.train()\n",
        "  for e in range(epochs):\n",
        "    running_loss = 0.0\n",
        "    for _,(images,labels) in enumerate(trainloader):\n",
        "      images,labels = images.to(device),labels.to(device)\n",
        "      optimizer.zero_grad()\n",
        "\n",
        "      output = model(images)\n",
        "      loss = criterion(output,labels)\n",
        "\n",
        "      loss.backward()\n",
        "      optimizer.step()\n",
        "      running_loss += loss.item()\n",
        "    # else:\n",
        "    #   print(f\"Training loss: {running_loss / len(trainloader)}\")\n",
        "  return model"
      ],
      "metadata": {
        "id": "HRs9DXunV-X3"
      },
      "execution_count": 6,
      "outputs": []
    },
    {
      "cell_type": "markdown",
      "source": [
        "### Testing the model"
      ],
      "metadata": {
        "id": "-20tMrzomwiI"
      }
    },
    {
      "cell_type": "code",
      "source": [
        "def test(model,testloader,classes=2):\n",
        "  correct = np.zeros(classes,dtype=np.float64)\n",
        "  total = np.zeros(classes,dtype=np.float64)\n",
        "  model = model.to(device)\n",
        "  with torch.no_grad():\n",
        "    for images,labels in testloader:\n",
        "      images,labels = images.to(device),labels.to(device)\n",
        "      output = model(images)\n",
        "      pred = torch.argmax(output,dim=1)\n",
        "      for i in range(len(labels)):\n",
        "        correct[labels[i]] += (pred[i] == labels[i])\n",
        "        total[labels[i]] += 1\n",
        "  # print(f\"Accuracy for {classes} classes: {np.sum(correct) / np.sum(total)}\")\n",
        "  return correct[0] / total[0]"
      ],
      "metadata": {
        "id": "k3HVhHkRmx0w"
      },
      "execution_count": 7,
      "outputs": []
    },
    {
      "cell_type": "markdown",
      "source": [
        "### Prepare initial training set"
      ],
      "metadata": {
        "id": "kK1ZrC6jLmo7"
      }
    },
    {
      "cell_type": "code",
      "source": [
        "training_subset = {target: np.empty((0,3,32,32),dtype=np.float64) for target in range(num_classes)}\n",
        "\n",
        "\n",
        "for image,label in zip(train_images,train_labels):\n",
        "  image = np.transpose(image,(2,0,1,))\n",
        "  training_subset[label] = np.vstack(([training_subset[label],[image]]))"
      ],
      "metadata": {
        "id": "Gd7GNwHO-R8x"
      },
      "execution_count": 8,
      "outputs": []
    },
    {
      "cell_type": "markdown",
      "source": [
        "### Prepare initial testing set"
      ],
      "metadata": {
        "id": "e7Lzd2p9Bpfm"
      }
    },
    {
      "cell_type": "code",
      "source": [
        "testing_subset = {target: np.empty((0,3,32,32),dtype=np.float64) for target in range(num_classes)}\n",
        "\n",
        "\n",
        "for image,label in zip(test_images,test_labels):\n",
        "  image = np.transpose(image,(2,0,1))\n",
        "  testing_subset[label] = np.vstack(([testing_subset[label],[image]]))"
      ],
      "metadata": {
        "id": "KuN_2jfABrTQ"
      },
      "execution_count": 10,
      "outputs": []
    },
    {
      "cell_type": "code",
      "source": [
        "for i in range(num_classes):\n",
        "  plt.subplot(2,5,i+1)\n",
        "  plt.axis(\"off\")\n",
        "  plt.imshow(np.transpose(testing_subset[i][100],(1,2,0)))"
      ],
      "metadata": {
        "id": "E7eoFrfEA4wU",
        "colab": {
          "base_uri": "https://localhost:8080/",
          "height": 207
        },
        "outputId": "6255cd6e-942f-432c-e3a0-4077a9d7f04a"
      },
      "execution_count": 15,
      "outputs": [
        {
          "output_type": "display_data",
          "data": {
            "text/plain": [
              "<Figure size 432x288 with 10 Axes>"
            ],
            "image/png": "[encoded data removed]"
          },
          "metadata": {
            "needs_background": "light"
          }
        }
      ]
    },
    {
      "cell_type": "code",
      "source": [
        "training_subset[2].shape"
      ],
      "metadata": {
        "id": "DU44-UGOGWtJ",
        "colab": {
          "base_uri": "https://localhost:8080/"
        },
        "outputId": "91182e0b-9aaf-4e09-937a-97f856d1715c"
      },
      "execution_count": 18,
      "outputs": [
        {
          "output_type": "execute_result",
          "data": {
            "text/plain": [
              "(5000, 3, 32, 32)"
            ]
          },
          "metadata": {},
          "execution_count": 18
        }
      ]
    },
    {
      "cell_type": "code",
      "source": [
        "accuracy_changes = [[] for x in range(num_classes)]\n",
        "\n",
        "for class_of_interest in range(num_classes):\n",
        "  # class_of_interest = 0\n",
        "  print(f\"Current target class: {class_of_interest}\")\n",
        "\n",
        "  multi_class_train_images = training_subset[class_of_interest].copy()\n",
        "  multi_class_train_labels = np.zeros(multi_class_train_images.shape[0])\n",
        "  multi_class_test_images = testing_subset[class_of_interest].copy()\n",
        "  multi_class_test_labels = np.zeros(multi_class_test_images.shape[0])\n",
        "\n",
        "  for i in range(num_classes):\n",
        "    # prepare the dataset\n",
        "    if i == class_of_interest:\n",
        "      continue\n",
        "    else:\n",
        "      multi_class_train_images = np.vstack((multi_class_train_images,training_subset[i].copy()))\n",
        "      multi_class_train_labels = np.append(multi_class_train_labels,np.ones(training_subset[i].shape[0]))\n",
        "\n",
        "      multi_class_test_images = np.vstack((multi_class_test_images,testing_subset[i]))\n",
        "      multi_class_test_labels = np.append(multi_class_test_labels,np.ones(testing_subset[i].shape[0]))\n",
        "\n",
        "      # print(positive_train_images.shape)\n",
        "      # print(negative_train_images.shape)\n",
        "      train_tensor_x = torch.Tensor(multi_class_train_images)\n",
        "      train_tensor_y = torch.Tensor(multi_class_train_labels)\n",
        "      test_tensor_x = torch.Tensor(multi_class_test_images)\n",
        "      test_tensor_y = torch.Tensor(multi_class_test_labels)\n",
        "      train_dataset = TensorDataset(train_tensor_x,train_tensor_y.to(torch.int64))\n",
        "      test_dataset = TensorDataset(test_tensor_x,test_tensor_y.to(torch.int64))\n",
        "\n",
        "      train_loader = DataLoader(train_dataset,batch_size=batch_size,shuffle=True)\n",
        "      test_loader = DataLoader(test_dataset,batch_size=batch_size)\n",
        "      model = NeuralNetwork(2,3)\n",
        "      model = train(model,train_loader)\n",
        "      accuracy = test(model,test_loader)\n",
        "      print(f\"Accuracy of positive class after adding class {i}: {accuracy}\")\n",
        "      accuracy_changes[class_of_interest].append(accuracy)"
      ],
      "metadata": {
        "id": "WuW6tOUdLqf9",
        "colab": {
          "base_uri": "https://localhost:8080/",
          "height": 408
        },
        "outputId": "04e04f65-35a7-4c3c-9ad0-dc49ee3edf90"
      },
      "execution_count": 20,
      "outputs": [
        {
          "output_type": "stream",
          "name": "stdout",
          "text": [
            "Current target class: 0\n",
            "Accuracy of positive class after adding class 1: 0.721\n",
            "Accuracy of positive class after adding class 2: 0.523\n"
          ]
        },
        {
          "output_type": "error",
          "ename": "KeyboardInterrupt",
          "evalue": "ignored",
          "traceback": [
            "\u001b[0;31m---------------------------------------------------------------------------\u001b[0m",
            "\u001b[0;31mKeyboardInterrupt\u001b[0m                         Traceback (most recent call last)",
            "\u001b[0;32m<ipython-input-20-a3b2a88cfeeb>\u001b[0m in \u001b[0;36m<module>\u001b[0;34m\u001b[0m\n\u001b[1;32m     33\u001b[0m       \u001b[0mtest_loader\u001b[0m \u001b[0;34m=\u001b[0m \u001b[0mDataLoader\u001b[0m\u001b[0;34m(\u001b[0m\u001b[0mtest_dataset\u001b[0m\u001b[0;34m,\u001b[0m\u001b[0mbatch_size\u001b[0m\u001b[0;34m=\u001b[0m\u001b[0mbatch_size\u001b[0m\u001b[0;34m)\u001b[0m\u001b[0;34m\u001b[0m\u001b[0;34m\u001b[0m\u001b[0m\n\u001b[1;32m     34\u001b[0m       \u001b[0mmodel\u001b[0m \u001b[0;34m=\u001b[0m \u001b[0mNeuralNetwork\u001b[0m\u001b[0;34m(\u001b[0m\u001b[0;36m2\u001b[0m\u001b[0;34m,\u001b[0m\u001b[0;36m3\u001b[0m\u001b[0;34m)\u001b[0m\u001b[0;34m\u001b[0m\u001b[0;34m\u001b[0m\u001b[0m\n\u001b[0;32m---> 35\u001b[0;31m       \u001b[0mmodel\u001b[0m \u001b[0;34m=\u001b[0m \u001b[0mtrain\u001b[0m\u001b[0;34m(\u001b[0m\u001b[0mmodel\u001b[0m\u001b[0;34m,\u001b[0m\u001b[0mtrain_loader\u001b[0m\u001b[0;34m)\u001b[0m\u001b[0;34m\u001b[0m\u001b[0;34m\u001b[0m\u001b[0m\n\u001b[0m\u001b[1;32m     36\u001b[0m       \u001b[0maccuracy\u001b[0m \u001b[0;34m=\u001b[0m \u001b[0mtest\u001b[0m\u001b[0;34m(\u001b[0m\u001b[0mmodel\u001b[0m\u001b[0;34m,\u001b[0m\u001b[0mtest_loader\u001b[0m\u001b[0;34m)\u001b[0m\u001b[0;34m\u001b[0m\u001b[0;34m\u001b[0m\u001b[0m\n\u001b[1;32m     37\u001b[0m       \u001b[0mprint\u001b[0m\u001b[0;34m(\u001b[0m\u001b[0;34mf\"Accuracy of positive class after adding class {i}: {accuracy}\"\u001b[0m\u001b[0;34m)\u001b[0m\u001b[0;34m\u001b[0m\u001b[0;34m\u001b[0m\u001b[0m\n",
            "\u001b[0;32m<ipython-input-6-f43ee2c03300>\u001b[0m in \u001b[0;36mtrain\u001b[0;34m(model, trainloader)\u001b[0m\n\u001b[1;32m      7\u001b[0m     \u001b[0mrunning_loss\u001b[0m \u001b[0;34m=\u001b[0m \u001b[0;36m0.0\u001b[0m\u001b[0;34m\u001b[0m\u001b[0;34m\u001b[0m\u001b[0m\n\u001b[1;32m      8\u001b[0m     \u001b[0;32mfor\u001b[0m \u001b[0m_\u001b[0m\u001b[0;34m,\u001b[0m\u001b[0;34m(\u001b[0m\u001b[0mimages\u001b[0m\u001b[0;34m,\u001b[0m\u001b[0mlabels\u001b[0m\u001b[0;34m)\u001b[0m \u001b[0;32min\u001b[0m \u001b[0menumerate\u001b[0m\u001b[0;34m(\u001b[0m\u001b[0mtrainloader\u001b[0m\u001b[0;34m)\u001b[0m\u001b[0;34m:\u001b[0m\u001b[0;34m\u001b[0m\u001b[0;34m\u001b[0m\u001b[0m\n\u001b[0;32m----> 9\u001b[0;31m       \u001b[0mimages\u001b[0m\u001b[0;34m,\u001b[0m\u001b[0mlabels\u001b[0m \u001b[0;34m=\u001b[0m \u001b[0mimages\u001b[0m\u001b[0;34m.\u001b[0m\u001b[0mto\u001b[0m\u001b[0;34m(\u001b[0m\u001b[0mdevice\u001b[0m\u001b[0;34m)\u001b[0m\u001b[0;34m,\u001b[0m\u001b[0mlabels\u001b[0m\u001b[0;34m.\u001b[0m\u001b[0mto\u001b[0m\u001b[0;34m(\u001b[0m\u001b[0mdevice\u001b[0m\u001b[0;34m)\u001b[0m\u001b[0;34m\u001b[0m\u001b[0;34m\u001b[0m\u001b[0m\n\u001b[0m\u001b[1;32m     10\u001b[0m       \u001b[0moptimizer\u001b[0m\u001b[0;34m.\u001b[0m\u001b[0mzero_grad\u001b[0m\u001b[0;34m(\u001b[0m\u001b[0;34m)\u001b[0m\u001b[0;34m\u001b[0m\u001b[0;34m\u001b[0m\u001b[0m\n\u001b[1;32m     11\u001b[0m \u001b[0;34m\u001b[0m\u001b[0m\n",
            "\u001b[0;31mKeyboardInterrupt\u001b[0m: "
          ]
        }
      ]
    },
    {
      "cell_type": "markdown",
      "source": [
        "### Plot the accuracy variation for the class of interest\n"
      ],
      "metadata": {
        "id": "zYJyTH9oT_jX"
      }
    },
    {
      "cell_type": "code",
      "source": [
        "plt.ylabel(\"Accuracy of target class\")\n",
        "plt.xlabel(\"Number of classes\")\n",
        "for i in range(num_classes):\n",
        "  x = np.linspace(0,10,num=9)\n",
        "  plt.plot(x,accuracy_changes[i],'-s',label = f'Class {i}')\n",
        "# plt.plot(x,accuracy_change_1,'-s',label = 'Class 1')\n",
        "plt.legend()\n",
        "plt.title(\"Accuracy fluctuation\")\n",
        "plt.show()"
      ],
      "metadata": {
        "id": "USy8cEz8UBil"
      },
      "execution_count": null,
      "outputs": []
    }
  ],
  "metadata": {
    "language_info": {
      "name": "python"
    },
    "orig_nbformat": 4,
    "colab": {
      "provenance": []
    },
    "kernelspec": {
      "name": "python3",
      "display_name": "Python 3"
    },
    "gpuClass": "standard",
    "accelerator": "GPU",
    "widgets": {
      "application/vnd.jupyter.widget-state+json": {
        "e39467b9ba304277864b350bf25ad569": {
          "model_module": "@jupyter-widgets/controls",
          "model_name": "HBoxModel",
          "model_module_version": "1.5.0",
          "state": {
            "_dom_classes": [],
            "_model_module": "@jupyter-widgets/controls",
            "_model_module_version": "1.5.0",
            "_model_name": "HBoxModel",
            "_view_count": null,
            "_view_module": "@jupyter-widgets/controls",
            "_view_module_version": "1.5.0",
            "_view_name": "HBoxView",
            "box_style": "",
            "children": [
              "IPY_MODEL_d4c6e8f21b0a4ee6accb3799f2efe160",
              "IPY_MODEL_d80889e4aea14cf68b15a085130bc118",
              "IPY_MODEL_b04776e1e32942f1848b84dbe9a959c4"
            ],
            "layout": "IPY_MODEL_f9c8a1581f194b8f9992fac34c6afd82"
          }
        },
        "d4c6e8f21b0a4ee6accb3799f2efe160": {
          "model_module": "@jupyter-widgets/controls",
          "model_name": "HTMLModel",
          "model_module_version": "1.5.0",
          "state": {
            "_dom_classes": [],
            "_model_module": "@jupyter-widgets/controls",
            "_model_module_version": "1.5.0",
            "_model_name": "HTMLModel",
            "_view_count": null,
            "_view_module": "@jupyter-widgets/controls",
            "_view_module_version": "1.5.0",
            "_view_name": "HTMLView",
            "description": "",
            "description_tooltip": null,
            "layout": "IPY_MODEL_9057243fa055419897d630d0a089ceac",
            "placeholder": "​",
            "style": "IPY_MODEL_ee8cb656321c459aa931c740b384ca59",
            "value": "100%"
          }
        },
        "d80889e4aea14cf68b15a085130bc118": {
          "model_module": "@jupyter-widgets/controls",
          "model_name": "FloatProgressModel",
          "model_module_version": "1.5.0",
          "state": {
            "_dom_classes": [],
            "_model_module": "@jupyter-widgets/controls",
            "_model_module_version": "1.5.0",
            "_model_name": "FloatProgressModel",
            "_view_count": null,
            "_view_module": "@jupyter-widgets/controls",
            "_view_module_version": "1.5.0",
            "_view_name": "ProgressView",
            "bar_style": "success",
            "description": "",
            "description_tooltip": null,
            "layout": "IPY_MODEL_931161d71ba94e4a97cd0d2251833fb1",
            "max": 170498071,
            "min": 0,
            "orientation": "horizontal",
            "style": "IPY_MODEL_f087fb9317a24a8080489896352284a0",
            "value": 170498071
          }
        },
        "b04776e1e32942f1848b84dbe9a959c4": {
          "model_module": "@jupyter-widgets/controls",
          "model_name": "HTMLModel",
          "model_module_version": "1.5.0",
          "state": {
            "_dom_classes": [],
            "_model_module": "@jupyter-widgets/controls",
            "_model_module_version": "1.5.0",
            "_model_name": "HTMLModel",
            "_view_count": null,
            "_view_module": "@jupyter-widgets/controls",
            "_view_module_version": "1.5.0",
            "_view_name": "HTMLView",
            "description": "",
            "description_tooltip": null,
            "layout": "IPY_MODEL_af724f3a658c4782a8d66d41e006e7f4",
            "placeholder": "​",
            "style": "IPY_MODEL_cfe7491df4e842fa8f748b7762ff8942",
            "value": " 170498071/170498071 [00:01&lt;00:00, 100119443.21it/s]"
          }
        },
        "f9c8a1581f194b8f9992fac34c6afd82": {
          "model_module": "@jupyter-widgets/base",
          "model_name": "LayoutModel",
          "model_module_version": "1.2.0",
          "state": {
            "_model_module": "@jupyter-widgets/base",
            "_model_module_version": "1.2.0",
            "_model_name": "LayoutModel",
            "_view_count": null,
            "_view_module": "@jupyter-widgets/base",
            "_view_module_version": "1.2.0",
            "_view_name": "LayoutView",
            "align_content": null,
            "align_items": null,
            "align_self": null,
            "border": null,
            "bottom": null,
            "display": null,
            "flex": null,
            "flex_flow": null,
            "grid_area": null,
            "grid_auto_columns": null,
            "grid_auto_flow": null,
            "grid_auto_rows": null,
            "grid_column": null,
            "grid_gap": null,
            "grid_row": null,
            "grid_template_areas": null,
            "grid_template_columns": null,
            "grid_template_rows": null,
            "height": null,
            "justify_content": null,
            "justify_items": null,
            "left": null,
            "margin": null,
            "max_height": null,
            "max_width": null,
            "min_height": null,
            "min_width": null,
            "object_fit": null,
            "object_position": null,
            "order": null,
            "overflow": null,
            "overflow_x": null,
            "overflow_y": null,
            "padding": null,
            "right": null,
            "top": null,
            "visibility": null,
            "width": null
          }
        },
        "9057243fa055419897d630d0a089ceac": {
          "model_module": "@jupyter-widgets/base",
          "model_name": "LayoutModel",
          "model_module_version": "1.2.0",
          "state": {
            "_model_module": "@jupyter-widgets/base",
            "_model_module_version": "1.2.0",
            "_model_name": "LayoutModel",
            "_view_count": null,
            "_view_module": "@jupyter-widgets/base",
            "_view_module_version": "1.2.0",
            "_view_name": "LayoutView",
            "align_content": null,
            "align_items": null,
            "align_self": null,
            "border": null,
            "bottom": null,
            "display": null,
            "flex": null,
            "flex_flow": null,
            "grid_area": null,
            "grid_auto_columns": null,
            "grid_auto_flow": null,
            "grid_auto_rows": null,
            "grid_column": null,
            "grid_gap": null,
            "grid_row": null,
            "grid_template_areas": null,
            "grid_template_columns": null,
            "grid_template_rows": null,
            "height": null,
            "justify_content": null,
            "justify_items": null,
            "left": null,
            "margin": null,
            "max_height": null,
            "max_width": null,
            "min_height": null,
            "min_width": null,
            "object_fit": null,
            "object_position": null,
            "order": null,
            "overflow": null,
            "overflow_x": null,
            "overflow_y": null,
            "padding": null,
            "right": null,
            "top": null,
            "visibility": null,
            "width": null
          }
        },
        "ee8cb656321c459aa931c740b384ca59": {
          "model_module": "@jupyter-widgets/controls",
          "model_name": "DescriptionStyleModel",
          "model_module_version": "1.5.0",
          "state": {
            "_model_module": "@jupyter-widgets/controls",
            "_model_module_version": "1.5.0",
            "_model_name": "DescriptionStyleModel",
            "_view_count": null,
            "_view_module": "@jupyter-widgets/base",
            "_view_module_version": "1.2.0",
            "_view_name": "StyleView",
            "description_width": ""
          }
        },
        "931161d71ba94e4a97cd0d2251833fb1": {
          "model_module": "@jupyter-widgets/base",
          "model_name": "LayoutModel",
          "model_module_version": "1.2.0",
          "state": {
            "_model_module": "@jupyter-widgets/base",
            "_model_module_version": "1.2.0",
            "_model_name": "LayoutModel",
            "_view_count": null,
            "_view_module": "@jupyter-widgets/base",
            "_view_module_version": "1.2.0",
            "_view_name": "LayoutView",
            "align_content": null,
            "align_items": null,
            "align_self": null,
            "border": null,
            "bottom": null,
            "display": null,
            "flex": null,
            "flex_flow": null,
            "grid_area": null,
            "grid_auto_columns": null,
            "grid_auto_flow": null,
            "grid_auto_rows": null,
            "grid_column": null,
            "grid_gap": null,
            "grid_row": null,
            "grid_template_areas": null,
            "grid_template_columns": null,
            "grid_template_rows": null,
            "height": null,
            "justify_content": null,
            "justify_items": null,
            "left": null,
            "margin": null,
            "max_height": null,
            "max_width": null,
            "min_height": null,
            "min_width": null,
            "object_fit": null,
            "object_position": null,
            "order": null,
            "overflow": null,
            "overflow_x": null,
            "overflow_y": null,
            "padding": null,
            "right": null,
            "top": null,
            "visibility": null,
            "width": null
          }
        },
        "f087fb9317a24a8080489896352284a0": {
          "model_module": "@jupyter-widgets/controls",
          "model_name": "ProgressStyleModel",
          "model_module_version": "1.5.0",
          "state": {
            "_model_module": "@jupyter-widgets/controls",
            "_model_module_version": "1.5.0",
            "_model_name": "ProgressStyleModel",
            "_view_count": null,
            "_view_module": "@jupyter-widgets/base",
            "_view_module_version": "1.2.0",
            "_view_name": "StyleView",
            "bar_color": null,
            "description_width": ""
          }
        },
        "af724f3a658c4782a8d66d41e006e7f4": {
          "model_module": "@jupyter-widgets/base",
          "model_name": "LayoutModel",
          "model_module_version": "1.2.0",
          "state": {
            "_model_module": "@jupyter-widgets/base",
            "_model_module_version": "1.2.0",
            "_model_name": "LayoutModel",
            "_view_count": null,
            "_view_module": "@jupyter-widgets/base",
            "_view_module_version": "1.2.0",
            "_view_name": "LayoutView",
            "align_content": null,
            "align_items": null,
            "align_self": null,
            "border": null,
            "bottom": null,
            "display": null,
            "flex": null,
            "flex_flow": null,
            "grid_area": null,
            "grid_auto_columns": null,
            "grid_auto_flow": null,
            "grid_auto_rows": null,
            "grid_column": null,
            "grid_gap": null,
            "grid_row": null,
            "grid_template_areas": null,
            "grid_template_columns": null,
            "grid_template_rows": null,
            "height": null,
            "justify_content": null,
            "justify_items": null,
            "left": null,
            "margin": null,
            "max_height": null,
            "max_width": null,
            "min_height": null,
            "min_width": null,
            "object_fit": null,
            "object_position": null,
            "order": null,
            "overflow": null,
            "overflow_x": null,
            "overflow_y": null,
            "padding": null,
            "right": null,
            "top": null,
            "visibility": null,
            "width": null
          }
        },
        "cfe7491df4e842fa8f748b7762ff8942": {
          "model_module": "@jupyter-widgets/controls",
          "model_name": "DescriptionStyleModel",
          "model_module_version": "1.5.0",
          "state": {
            "_model_module": "@jupyter-widgets/controls",
            "_model_module_version": "1.5.0",
            "_model_name": "DescriptionStyleModel",
            "_view_count": null,
            "_view_module": "@jupyter-widgets/base",
            "_view_module_version": "1.2.0",
            "_view_name": "StyleView",
            "description_width": ""
          }
        }
      }
    }
  },
  "nbformat": 4,
  "nbformat_minor": 0
}