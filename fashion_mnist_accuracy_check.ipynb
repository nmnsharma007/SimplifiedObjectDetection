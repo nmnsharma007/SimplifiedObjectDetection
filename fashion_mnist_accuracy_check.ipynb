{
  "cells": [
    {
      "cell_type": "code",
      "execution_count": 1,
      "metadata": {
        "id": "wJcfjQPhtt0O"
      },
      "outputs": [],
      "source": [
        "import torch\n",
        "from torch.utils.data import Subset,DataLoader, TensorDataset, ConcatDataset\n",
        "from torchvision import datasets, transforms\n",
        "import numpy as np\n",
        "import matplotlib.pyplot as plt\n",
        "from torch import nn\n",
        "import torch.nn.functional as F\n",
        "import torch.optim as optim"
      ]
    },
    {
      "cell_type": "code",
      "source": [
        "batch_size = 64\n",
        "num_classes = 10\n",
        "epochs = 10\n",
        "device = \"cuda\" if torch.cuda.is_available() else \"cpu\"\n",
        "print(device)"
      ],
      "metadata": {
        "id": "wIdPQhV-3z6w"
      },
      "execution_count": null,
      "outputs": []
    },
    {
      "cell_type": "code",
      "source": [
        "train_set = datasets.MNIST('/content',train=True,download=True)\n",
        "test_set = datasets.MNIST('/content',train=False,download=True)"
      ],
      "metadata": {
        "id": "HlyLoDfix0Mv"
      },
      "execution_count": null,
      "outputs": []
    },
    {
      "cell_type": "markdown",
      "source": [
        "### Preprocessing"
      ],
      "metadata": {
        "id": "U3_ZRBDOzz6p"
      }
    },
    {
      "cell_type": "code",
      "source": [
        "# inversion and normalization\n",
        "invert = lambda image : 1 - image # function to invert the image\n",
        "normalize = lambda image : image / 255 # function for bringing pixel values in range [0,1]\n",
        "\n",
        "def preprocessing(dataset):\n",
        "    dataset_images = dataset.data.numpy() # convert the dataset into numpy array\n",
        "    dataset_labels = dataset.targets.numpy() # convert the labels into numpy array\n",
        "    dataset_images = normalize(dataset_images)\n",
        "    # dataset_images = invert(dataset_images)\n",
        "    return dataset_images,dataset_labels\n",
        "\n",
        "train_images,train_labels = preprocessing(train_set)\n",
        "test_images,test_labels = preprocessing(test_set)"
      ],
      "metadata": {
        "id": "CbkiZhIzyb_8"
      },
      "execution_count": 4,
      "outputs": []
    },
    {
      "cell_type": "markdown",
      "source": [
        "### Define the network"
      ],
      "metadata": {
        "id": "qlY5zRh2MT_c"
      }
    },
    {
      "cell_type": "code",
      "source": [
        "class NeuralNetwork(nn.Module):\n",
        "  def __init__(self,classes,channels):\n",
        "    super().__init__()\n",
        "    self.conv1 = nn.Conv2d(channels,4,5)\n",
        "    self.conv2 = nn.Conv2d(4,6,5)\n",
        "    self.pool = nn.MaxPool2d(2,2)\n",
        "    self.fc1 = nn.Linear(6*4*4,128)\n",
        "    self.fc2 = nn.Linear(128,64)\n",
        "    self.fc3 = nn.Linear(64,classes)\n",
        "  \n",
        "  def forward(self,x):\n",
        "    x = x.unsqueeze(1)\n",
        "    x = self.pool(F.relu(self.conv1(x)))\n",
        "    x = self.pool(F.relu(self.conv2(x)))\n",
        "    x = x.view(x.shape[0],-1)\n",
        "    x = F.relu(self.fc1(x))\n",
        "    x = F.relu(self.fc2(x))\n",
        "    x = self.fc3(x)\n",
        "    # x = F.softmax(x,dim=1)\n",
        "    return x"
      ],
      "metadata": {
        "id": "fxZZf9iFMVia"
      },
      "execution_count": 5,
      "outputs": []
    },
    {
      "cell_type": "markdown",
      "source": [
        "### Training the model"
      ],
      "metadata": {
        "id": "wN6Q0Dq4V7lw"
      }
    },
    {
      "cell_type": "code",
      "source": [
        "def train(model,trainloader):\n",
        "  criterion = nn.CrossEntropyLoss()\n",
        "  optimizer = optim.SGD(model.parameters(),lr=0.001,momentum=0.9)\n",
        "  model = model.to(device)\n",
        "  model.train()\n",
        "  for e in range(epochs):\n",
        "    running_loss = 0.0\n",
        "    for _,(images,labels) in enumerate(trainloader):\n",
        "      images,labels = images.to(device),labels.to(device)\n",
        "      optimizer.zero_grad()\n",
        "\n",
        "      output = model(images)\n",
        "      loss = criterion(output,labels)\n",
        "\n",
        "      loss.backward()\n",
        "      optimizer.step()\n",
        "      running_loss += loss.item()\n",
        "    # else:\n",
        "    #   print(f\"Training loss: {running_loss / len(trainloader)}\")\n",
        "  return model"
      ],
      "metadata": {
        "id": "HRs9DXunV-X3"
      },
      "execution_count": 6,
      "outputs": []
    },
    {
      "cell_type": "markdown",
      "source": [
        "### Testing the model"
      ],
      "metadata": {
        "id": "-20tMrzomwiI"
      }
    },
    {
      "cell_type": "code",
      "source": [
        "def test(model,testloader,classes=2):\n",
        "  correct = np.zeros(classes,dtype=np.float64)\n",
        "  total = np.zeros(classes,dtype=np.float64)\n",
        "  model = model.to(device)\n",
        "  with torch.no_grad():\n",
        "    for images,labels in testloader:\n",
        "      images,labels = images.to(device),labels.to(device)\n",
        "      output = model(images)\n",
        "      pred = torch.argmax(output,dim=1)\n",
        "      for i in range(len(labels)):\n",
        "        correct[labels[i]] += (pred[i] == labels[i])\n",
        "        total[labels[i]] += 1\n",
        "  # print(f\"Accuracy for {classes} classes: {np.sum(correct) / np.sum(total)}\")\n",
        "  return correct[0] / total[0]"
      ],
      "metadata": {
        "id": "k3HVhHkRmx0w"
      },
      "execution_count": 7,
      "outputs": []
    },
    {
      "cell_type": "markdown",
      "source": [
        "### Prepare initial training set"
      ],
      "metadata": {
        "id": "kK1ZrC6jLmo7"
      }
    },
    {
      "cell_type": "code",
      "source": [
        "training_subset = {target: np.empty((0,28,28),dtype=np.float64) for target in range(num_classes)}\n",
        "\n",
        "\n",
        "for image,label in zip(train_images,train_labels):\n",
        "  training_subset[label] = np.vstack(([training_subset[label],[image]]))"
      ],
      "metadata": {
        "id": "Gd7GNwHO-R8x"
      },
      "execution_count": 8,
      "outputs": []
    },
    {
      "cell_type": "markdown",
      "source": [
        "### Prepare initial testing set"
      ],
      "metadata": {
        "id": "e7Lzd2p9Bpfm"
      }
    },
    {
      "cell_type": "code",
      "source": [
        "testing_subset = {target: np.empty((0,28,28),dtype=np.float64) for target in range(num_classes)}\n",
        "\n",
        "\n",
        "for image,label in zip(test_images,test_labels):\n",
        "  testing_subset[label] = np.vstack(([testing_subset[label],[image]]))"
      ],
      "metadata": {
        "id": "KuN_2jfABrTQ"
      },
      "execution_count": 9,
      "outputs": []
    },
    {
      "cell_type": "code",
      "source": [
        "for i in range(num_classes):\n",
        "  plt.subplot(2,5,i+1)\n",
        "  plt.axis(\"off\")\n",
        "  plt.imshow(testing_subset[i][100],cmap='gray')"
      ],
      "metadata": {
        "id": "E7eoFrfEA4wU"
      },
      "execution_count": null,
      "outputs": []
    },
    {
      "cell_type": "code",
      "source": [
        "training_subset[0].shape"
      ],
      "metadata": {
        "id": "DU44-UGOGWtJ"
      },
      "execution_count": null,
      "outputs": []
    },
    {
      "cell_type": "code",
      "source": [
        "accuracy_changes = [[] for x in range(num_classes)]\n",
        "\n",
        "for class_of_interest in range(num_classes):\n",
        "  # class_of_interest = 0\n",
        "  print(f\"Current target class: {class_of_interest}\")\n",
        "\n",
        "  multi_class_train_images = training_subset[class_of_interest].copy()\n",
        "  multi_class_train_labels = np.zeros(multi_class_train_images.shape[0])\n",
        "  multi_class_test_images = testing_subset[class_of_interest].copy()\n",
        "  multi_class_test_labels = np.zeros(multi_class_test_images.shape[0])\n",
        "\n",
        "  for i in range(num_classes):\n",
        "    # prepare the dataset\n",
        "    if i == class_of_interest:\n",
        "      continue\n",
        "    else:\n",
        "      multi_class_train_images = np.vstack((multi_class_train_images,training_subset[i].copy()))\n",
        "      multi_class_train_labels = np.append(multi_class_train_labels,np.ones(training_subset[i].shape[0]))\n",
        "\n",
        "      multi_class_test_images = np.vstack((multi_class_test_images,testing_subset[i]))\n",
        "      multi_class_test_labels = np.append(multi_class_test_labels,np.ones(testing_subset[i].shape[0]))\n",
        "\n",
        "      # print(positive_train_images.shape)\n",
        "      # print(negative_train_images.shape)\n",
        "      train_tensor_x = torch.Tensor(multi_class_train_images)\n",
        "      train_tensor_y = torch.Tensor(multi_class_train_labels)\n",
        "      test_tensor_x = torch.Tensor(multi_class_test_images)\n",
        "      test_tensor_y = torch.Tensor(multi_class_test_labels)\n",
        "      train_dataset = TensorDataset(train_tensor_x,train_tensor_y.to(torch.int64))\n",
        "      test_dataset = TensorDataset(test_tensor_x,test_tensor_y.to(torch.int64))\n",
        "\n",
        "      train_loader = DataLoader(train_dataset,batch_size=batch_size,shuffle=True)\n",
        "      test_loader = DataLoader(test_dataset,batch_size=batch_size)\n",
        "      model = NeuralNetwork(2,1)\n",
        "      model = train(model,train_loader)\n",
        "      accuracy = test(model,test_loader)\n",
        "      print(f\"Accuracy of positive class after adding class {i}: {accuracy}\")\n",
        "      accuracy_changes[class_of_interest].append(accuracy)"
      ],
      "metadata": {
        "colab": {
          "base_uri": "https://localhost:8080/"
        },
        "id": "WuW6tOUdLqf9",
        "outputId": "05fb03ea-216d-4bc4-9a1b-d9e9f6b298f4"
      },
      "execution_count": 26,
      "outputs": [
        {
          "output_type": "stream",
          "name": "stdout",
          "text": [
            "Current target class: 0\n",
            "Accuracy of positive class after adding class 1: 0.9989795918367347\n",
            "Accuracy of positive class after adding class 2: 0.9959183673469387\n",
            "Accuracy of positive class after adding class 3: 0.9938775510204082\n",
            "Accuracy of positive class after adding class 4: 0.9846938775510204\n",
            "Accuracy of positive class after adding class 5: 0.9826530612244898\n",
            "Accuracy of positive class after adding class 6: 0.9826530612244898\n",
            "Accuracy of positive class after adding class 7: 0.9622448979591837\n",
            "Accuracy of positive class after adding class 8: 0.9887755102040816\n",
            "Accuracy of positive class after adding class 9: 0.9887755102040816\n",
            "Current target class: 1\n",
            "Accuracy of positive class after adding class 0: 1.0\n",
            "Accuracy of positive class after adding class 2: 0.9947136563876652\n",
            "Accuracy of positive class after adding class 3: 0.9938325991189427\n",
            "Accuracy of positive class after adding class 4: 0.9947136563876652\n",
            "Accuracy of positive class after adding class 5: 0.9894273127753304\n",
            "Accuracy of positive class after adding class 6: 0.9876651982378855\n",
            "Accuracy of positive class after adding class 7: 0.9726872246696036\n",
            "Accuracy of positive class after adding class 8: 0.9832599118942731\n",
            "Accuracy of positive class after adding class 9: 0.9938325991189427\n",
            "Current target class: 2\n",
            "Accuracy of positive class after adding class 0: 0.9922480620155039\n",
            "Accuracy of positive class after adding class 1: 0.9864341085271318\n",
            "Accuracy of positive class after adding class 3: 0.9631782945736435\n",
            "Accuracy of positive class after adding class 4: 0.9689922480620154\n",
            "Accuracy of positive class after adding class 5: 0.9234496124031008\n",
            "Accuracy of positive class after adding class 6: 0.9767441860465116\n",
            "Accuracy of positive class after adding class 7: 0.9651162790697675\n",
            "Accuracy of positive class after adding class 8: 0.9786821705426356\n",
            "Accuracy of positive class after adding class 9: 0.9312015503875969\n",
            "Current target class: 3\n",
            "Accuracy of positive class after adding class 0: 0.997029702970297\n",
            "Accuracy of positive class after adding class 1: 0.9920792079207921\n",
            "Accuracy of positive class after adding class 2: 0.9841584158415841\n",
            "Accuracy of positive class after adding class 4: 0.9712871287128713\n",
            "Accuracy of positive class after adding class 5: 0.9851485148514851\n",
            "Accuracy of positive class after adding class 6: 0.9881188118811881\n",
            "Accuracy of positive class after adding class 7: 0.9633663366336633\n",
            "Accuracy of positive class after adding class 8: 0.9336633663366337\n",
            "Accuracy of positive class after adding class 9: 0.9673267326732673\n",
            "Current target class: 4\n",
            "Accuracy of positive class after adding class 0: 0.9979633401221996\n",
            "Accuracy of positive class after adding class 1: 0.9979633401221996\n",
            "Accuracy of positive class after adding class 2: 0.9765784114052953\n",
            "Accuracy of positive class after adding class 3: 0.9887983706720977\n",
            "Accuracy of positive class after adding class 5: 0.9786150712830958\n",
            "Accuracy of positive class after adding class 6: 0.9826883910386965\n",
            "Accuracy of positive class after adding class 7: 0.9857433808553971\n",
            "Accuracy of positive class after adding class 8: 0.9877800407331976\n",
            "Accuracy of positive class after adding class 9: 0.9592668024439919\n",
            "Current target class: 5\n",
            "Accuracy of positive class after adding class 0: 0.992152466367713\n",
            "Accuracy of positive class after adding class 1: 0.9955156950672646\n",
            "Accuracy of positive class after adding class 2: 0.9887892376681614\n",
            "Accuracy of positive class after adding class 3: 0.9585201793721974\n",
            "Accuracy of positive class after adding class 4: 0.9607623318385651\n",
            "Accuracy of positive class after adding class 6: 0.976457399103139\n",
            "Accuracy of positive class after adding class 7: 0.9607623318385651\n",
            "Accuracy of positive class after adding class 8: 0.9405829596412556\n",
            "Accuracy of positive class after adding class 9: 0.9282511210762332\n",
            "Current target class: 6\n",
            "Accuracy of positive class after adding class 0: 0.9843423799582464\n",
            "Accuracy of positive class after adding class 1: 0.9770354906054279\n",
            "Accuracy of positive class after adding class 2: 0.9822546972860126\n",
            "Accuracy of positive class after adding class 3: 0.9853862212943633\n",
            "Accuracy of positive class after adding class 4: 0.9822546972860126\n",
            "Accuracy of positive class after adding class 5: 0.9749478079331941\n",
            "Accuracy of positive class after adding class 7: 0.9801670146137788\n",
            "Accuracy of positive class after adding class 8: 0.954070981210856\n",
            "Accuracy of positive class after adding class 9: 0.975991649269311\n",
            "Current target class: 7\n",
            "Accuracy of positive class after adding class 0: 0.9902723735408561\n",
            "Accuracy of positive class after adding class 1: 0.9815175097276264\n",
            "Accuracy of positive class after adding class 2: 0.9562256809338522\n",
            "Accuracy of positive class after adding class 3: 0.9426070038910506\n",
            "Accuracy of positive class after adding class 4: 0.9571984435797666\n",
            "Accuracy of positive class after adding class 5: 0.9523346303501945\n",
            "Accuracy of positive class after adding class 6: 0.938715953307393\n",
            "Accuracy of positive class after adding class 8: 0.9484435797665369\n",
            "Accuracy of positive class after adding class 9: 0.9348249027237354\n",
            "Current target class: 8\n",
            "Accuracy of positive class after adding class 0: 0.9897330595482546\n",
            "Accuracy of positive class after adding class 1: 0.9938398357289527\n",
            "Accuracy of positive class after adding class 2: 0.9835728952772074\n",
            "Accuracy of positive class after adding class 3: 0.9804928131416838\n",
            "Accuracy of positive class after adding class 4: 0.9568788501026694\n",
            "Accuracy of positive class after adding class 5: 0.9548254620123203\n",
            "Accuracy of positive class after adding class 6: 0.9589322381930184\n",
            "Accuracy of positive class after adding class 7: 0.9650924024640657\n",
            "Accuracy of positive class after adding class 9: 0.9743326488706365\n",
            "Current target class: 9\n",
            "Accuracy of positive class after adding class 0: 0.9871159563924677\n",
            "Accuracy of positive class after adding class 1: 0.9732408325074331\n",
            "Accuracy of positive class after adding class 2: 0.9752229930624381\n",
            "Accuracy of positive class after adding class 3: 0.9643211100099108\n",
            "Accuracy of positive class after adding class 4: 0.9415262636273538\n",
            "Accuracy of positive class after adding class 5: 0.9623389494549058\n",
            "Accuracy of positive class after adding class 6: 0.9474727452923687\n",
            "Accuracy of positive class after adding class 7: 0.9633300297324083\n",
            "Accuracy of positive class after adding class 8: 0.9405351833498513\n"
          ]
        }
      ]
    },
    {
      "cell_type": "markdown",
      "source": [
        "### Plot the accuracy variation for the class of interest\n"
      ],
      "metadata": {
        "id": "zYJyTH9oT_jX"
      }
    },
    {
      "cell_type": "code",
      "source": [
        "plt.ylabel(\"Accuracy of target class\")\n",
        "plt.xlabel(\"Number of classes\")\n",
        "for i in range(num_classes):\n",
        "  x = np.linspace(0,10,num=9)\n",
        "  plt.plot(x,accuracy_changes[i],'-s',label = f'Class {i}')\n",
        "# plt.plot(x,accuracy_change_1,'-s',label = 'Class 1')\n",
        "plt.legend()\n",
        "plt.title(\"Accuracy fluctuation\")\n",
        "plt.show()"
      ],
      "metadata": {
        "id": "USy8cEz8UBil",
        "outputId": "f6535bb7-3d82-4d41-e7bf-8652b8ecec84",
        "colab": {
          "base_uri": "https://localhost:8080/",
          "height": 295
        }
      },
      "execution_count": 33,
      "outputs": [
        {
          "output_type": "display_data",
          "data": {
            "text/plain": [
              "<Figure size 432x288 with 1 Axes>"
            ],
            "image/png": "[encoded data removed]"
          },
          "metadata": {
            "needs_background": "light"
          }
        }
      ]
    }
  ],
  "metadata": {
    "language_info": {
      "name": "python"
    },
    "orig_nbformat": 4,
    "colab": {
      "provenance": []
    },
    "kernelspec": {
      "name": "python3",
      "display_name": "Python 3"
    },
    "gpuClass": "standard",
    "accelerator": "GPU"
  },
  "nbformat": 4,
  "nbformat_minor": 0
}