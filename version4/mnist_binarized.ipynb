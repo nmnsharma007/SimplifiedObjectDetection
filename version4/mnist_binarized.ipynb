{
  "cells": [
    {
      "cell_type": "markdown",
      "source": [
        "### Imports"
      ],
      "metadata": {
        "id": "IVP7gUnl9Zv0"
      },
      "id": "IVP7gUnl9Zv0"
    },
    {
      "cell_type": "code",
      "source": [
        "import numpy as np\n",
        "import torchvision\n",
        "import matplotlib.pyplot as plt\n",
        "from torchvision import datasets\n",
        "from sklearn.tree import DecisionTreeClassifier\n",
        "from sklearn.utils import shuffle\n",
        "from sklearn.metrics import accuracy_score,precision_score,recall_score,f1_score"
      ],
      "metadata": {
        "id": "SuNAsRli9anP"
      },
      "id": "SuNAsRli9anP",
      "execution_count": 100,
      "outputs": []
    },
    {
      "cell_type": "markdown",
      "source": [
        "### Download the dataset"
      ],
      "metadata": {
        "id": "rRf3dZDY95WJ"
      },
      "id": "rRf3dZDY95WJ"
    },
    {
      "cell_type": "code",
      "source": [
        "train_set = datasets.MNIST('/content',train=True,download=True)\n",
        "test_set = datasets.MNIST('/content',train=False,download=True)"
      ],
      "metadata": {
        "id": "X11-tMxY97Lk"
      },
      "id": "X11-tMxY97Lk",
      "execution_count": 101,
      "outputs": []
    },
    {
      "cell_type": "code",
      "source": [
        "# inversion and normalization\n",
        "invert = lambda image : 255 - image # function to invert the image\n",
        "\n",
        "def preprocessing(dataset):\n",
        "    dataset_images = dataset.data.numpy() # convert the dataset into numpy array\n",
        "    dataset_labels = dataset.targets.numpy() # convert the labels into numpy array\n",
        "    return dataset_images,dataset_labels\n",
        "\n",
        "train_images,train_labels = preprocessing(train_set)\n",
        "test_images,test_labels = preprocessing(test_set)"
      ],
      "metadata": {
        "id": "PjQKDHPx99-9"
      },
      "id": "PjQKDHPx99-9",
      "execution_count": 102,
      "outputs": []
    },
    {
      "cell_type": "markdown",
      "source": [
        "### Prepare the data"
      ],
      "metadata": {
        "id": "rQvDFNBx-VAZ"
      },
      "id": "rQvDFNBx-VAZ"
    },
    {
      "cell_type": "code",
      "source": [
        "def generate_labels(dataset_images,image_type):\n",
        "  labels = np.full(shape=(dataset_images.shape[0]),fill_value=[image_type])\n",
        "  return labels\n",
        "\n",
        "def binarize(dataset_images):\n",
        "  result = np.copy(dataset_images)\n",
        "  for i in range(result.shape[0]):\n",
        "    for j in range(result.shape[1]):\n",
        "      for k in range(result.shape[2]):\n",
        "        if result[i][j][k] > 127:\n",
        "          result[i][j][k] = 1\n",
        "        else:\n",
        "          result[i][j][k] = 0\n",
        "  return result\n",
        "\n",
        "# function for inverting data\n",
        "def get_inverted_data(source_dataset_images,source_dataset_labels,target_dataset,class_num):\n",
        "    image_indices = np.asarray(np.where(source_dataset_labels == class_num))\n",
        "    image_indices = image_indices.flatten()\n",
        "    original_images = invert(source_dataset_images[image_indices]) # get the original images and invert them\n",
        "    target_dataset = np.concatenate((target_dataset,original_images)) # concatenate to our training dataset\n",
        "    return target_dataset\n",
        "\n",
        "# function to prepare training data for a given digit\n",
        "def prepare_training_data(dataset_images,dataset_labels,class_num):\n",
        "    indices = np.asarray(np.where(dataset_labels == class_num)) # indices of occurrence of digit as label\n",
        "    indices = indices.flatten()\n",
        "    # get the images for making positive dataset\n",
        "    dataset_images_positive = dataset_images[indices] # images consisting of positive class\n",
        "    dataset_images_positive = binarize(dataset_images_positive) # binarize the images \n",
        "    dataset_labels_positive = generate_labels(dataset_images_positive,0) # generate the class labels\n",
        "    # print(f\"Positive train data shape: {dataset_images_positive.shape}\")\n",
        "    # get the images for making negative dataset\n",
        "    dataset_images_negative = np.empty((0,28,28),dtype=np.float32)\n",
        "    dataset_images_negative = get_inverted_data(dataset_images,dataset_labels,dataset_images_negative,class_num)\n",
        "    dataset_images_negative = binarize(dataset_images_negative) # binarize the images \n",
        "    dataset_labels_negative = generate_labels(dataset_images_negative,1) # generate the class labels\n",
        "    # print(f\"Negative train data shape: {dataset_images_negative.shape}\")\n",
        "    # concatenate the negative and positive datasets\n",
        "    modified_dataset_images = np.concatenate((dataset_images_positive,dataset_images_negative))\n",
        "    modified_dataset_labels = np.concatenate((dataset_labels_positive,dataset_labels_negative))\n",
        "    return modified_dataset_images,modified_dataset_labels\n",
        "\n",
        "def prepare_testing_data(dataset_images,dataset_labels,class_num):\n",
        "  positive_indices = np.asarray(np.where(dataset_labels == class_num)) # indices of occurrence of digit as label\n",
        "  positive_indices = positive_indices.flatten()\n",
        "  # get the images for making positive dataset\n",
        "  dataset_images_positive = dataset_images[positive_indices] # images consisting of positive class\n",
        "  dataset_images_positive = binarize(dataset_images_positive)\n",
        "  dataset_labels_positive = generate_labels(dataset_images_positive,0) # generate the class labels\n",
        "  # print(f\"Positive test data shape: {dataset_images_positive.shape}\")\n",
        "  # get the images for making negative classes for testing\n",
        "  negative_indices = np.asarray(np.where(((dataset_labels != class_num))))\n",
        "  negative_indices = negative_indices.flatten()\n",
        "  # get the images for making negative dataset\n",
        "  dataset_images_negative = dataset_images[negative_indices]\n",
        "  dataset_images_negative = binarize(dataset_images_negative)\n",
        "  dataset_labels_negative = generate_labels(dataset_images_negative,1)\n",
        "  # print(f\"Negative test data shape: {dataset_images_negative.shape}\")\n",
        "  # concatenate the negative and positive datasets\n",
        "  modified_dataset_images = np.concatenate((dataset_images_positive,dataset_images_negative))\n",
        "  modified_dataset_labels = np.concatenate((dataset_labels_positive,dataset_labels_negative))\n",
        "  return modified_dataset_images,modified_dataset_labels"
      ],
      "metadata": {
        "id": "Y9yNgkwL-WWw"
      },
      "id": "Y9yNgkwL-WWw",
      "execution_count": 103,
      "outputs": []
    },
    {
      "cell_type": "markdown",
      "source": [
        "### Get training and test data"
      ],
      "metadata": {
        "id": "E_vc75lz_TGK"
      },
      "id": "E_vc75lz_TGK"
    },
    {
      "cell_type": "code",
      "source": [
        "class_num = 0\n",
        "trainX,trainy = prepare_training_data(train_images,train_labels,class_num)\n",
        "testX,testy = prepare_testing_data(test_images,test_labels,class_num)"
      ],
      "metadata": {
        "id": "Nkjhda_L_Se6"
      },
      "id": "Nkjhda_L_Se6",
      "execution_count": 104,
      "outputs": []
    },
    {
      "cell_type": "markdown",
      "source": [
        "### Function for creating modified dataset"
      ],
      "metadata": {
        "id": "_T5X8LKHIezR"
      },
      "id": "_T5X8LKHIezR"
    },
    {
      "cell_type": "code",
      "source": [
        "def modify_dataset(X,y,patterns,antipatterns):\n",
        "  p = patterns.shape[0]\n",
        "  ap = antipatterns.shape[0]\n",
        "  modified_train_X = np.empty((0,p+ap),dtype=X.dtype)\n",
        "  modified_train_y = y.copy()\n",
        "  for i in range(X.shape[0]):\n",
        "    image,label = X[i],y[i]\n",
        "    modified_X = np.zeros(p+ap)\n",
        "    for i in (range(p)):\n",
        "      score = np.sum(patterns[i]*image)\n",
        "      modified_X[i] = score\n",
        "    for i in range(ap):\n",
        "      score = np.sum(antipatterns[i]*image)\n",
        "      modified_X[p+i] = score\n",
        "    \n",
        "    modified_train_X = np.vstack((modified_train_X,modified_X))\n",
        "  \n",
        "  return modified_train_X,modified_train_y"
      ],
      "metadata": {
        "id": "IKl1zgJFIgy3"
      },
      "id": "IKl1zgJFIgy3",
      "execution_count": 105,
      "outputs": []
    },
    {
      "cell_type": "markdown",
      "source": [
        "### Find patterns"
      ],
      "metadata": {
        "id": "ckIG-nBO-vAk"
      },
      "id": "ckIG-nBO-vAk"
    },
    {
      "cell_type": "code",
      "source": [
        "patterns = np.empty((0,28,28),dtype=np.float32)\n",
        "antipatterns = np.empty((0,28,28),dtype=np.float32)\n",
        "\n",
        "positive_image_indices = [i for i in range(trainX.shape[0]) if trainy[i] == 0]\n",
        "positive_image = trainX[positive_image_indices[0]]\n",
        "patterns = np.vstack((patterns,[positive_image]))\n",
        "antipatterns = np.vstack((antipatterns,[1 - positive_image]))\n",
        "running_trainX,running_trainy = trainX.copy(),trainy.copy()\n",
        "thresh = 0\n",
        "\n",
        "while True:\n",
        "  y_pred = []\n",
        "  y_actual = []\n",
        "  latest_pattern = patterns[-1]\n",
        "  latest_antipattern = antipatterns[-1]\n",
        "  tempX = np.empty((0,28,28),dtype=np.float32)\n",
        "  tempy = []\n",
        "\n",
        "  for i in range(running_trainX.shape[0]):\n",
        "    yes_score = np.sum(running_trainX[i] * latest_pattern)\n",
        "    no_score = np.sum(running_trainX[i] * latest_antipattern)\n",
        "    pred = 0 if ((yes_score - no_score) >= thresh) else 1\n",
        "    y_pred.append(pred)\n",
        "    y_actual.append(running_trainy[i])\n",
        "\n",
        "    if pred != running_trainy[i]:\n",
        "      tempy.append(running_trainy[i])\n",
        "      tempX = np.vstack((tempX,[running_trainX[i]]))\n",
        "\n",
        "  if accuracy_score(y_actual,y_pred) == 1:\n",
        "    break\n",
        "  tempy = np.array(tempy)\n",
        "  for i in range(len(y_pred)):\n",
        "    if y_pred[i] == 1 and running_trainy[i] == 0: # found a false negative\n",
        "      patterns = np.vstack((patterns,[running_trainX[i]]))\n",
        "      antipatterns = np.vstack((antipatterns,[1 - running_trainX[i]]))\n",
        "      break\n",
        "  \n",
        "  running_trainX,running_trainy = tempX.copy(),tempy.copy()"
      ],
      "metadata": {
        "id": "UDfLxqK_-wb_"
      },
      "id": "UDfLxqK_-wb_",
      "execution_count": 106,
      "outputs": []
    },
    {
      "cell_type": "markdown",
      "source": [
        "### Plot variations"
      ],
      "metadata": {
        "id": "WqchAoD6FJpG"
      },
      "id": "WqchAoD6FJpG"
    },
    {
      "cell_type": "code",
      "source": [
        "for i in range(patterns.shape[0]):\n",
        "  if i+1 > 16:\n",
        "    break\n",
        "  plt.subplot(4,4,i+1)\n",
        "  plt.axis(\"off\")\n",
        "  plt.imshow(patterns[i].squeeze(),cmap='gray')"
      ],
      "metadata": {
        "colab": {
          "base_uri": "https://localhost:8080/",
          "height": 248
        },
        "id": "xySuT2QqFLWZ",
        "outputId": "1a9b6034-e54b-4994-818a-0cf2baa2ff19"
      },
      "id": "xySuT2QqFLWZ",
      "execution_count": 107,
      "outputs": [
        {
          "output_type": "display_data",
          "data": {
            "text/plain": [
              "<Figure size 432x288 with 13 Axes>"
            ],
            "image/png": "[encoded data removed]"
          },
          "metadata": {
            "needs_background": "light"
          }
        }
      ]
    },
    {
      "cell_type": "markdown",
      "source": [
        "### Testing the model"
      ],
      "metadata": {
        "id": "gWPJX8qpFXj1"
      },
      "id": "gWPJX8qpFXj1"
    },
    {
      "cell_type": "code",
      "source": [
        "def test(X,y,thresh):\n",
        "  y_pred = []\n",
        "  y_true = []\n",
        "  for i in range(X.shape[0]):\n",
        "    image,label = X[i],y[i]\n",
        "    cnt = 0\n",
        "    for j in range(patterns.shape[0]):\n",
        "      yes_score = np.sum(patterns[j] * image)\n",
        "      no_score = np.sum(antipatterns[j] * image)\n",
        "      cnt += ((yes_score - no_score) >= thresh)\n",
        "    \n",
        "    if cnt >= 1:\n",
        "      y_pred.append(0)\n",
        "    else:\n",
        "      y_pred.append(1)\n",
        "    y_true.append(label)\n",
        "  \n",
        "  return y_true,y_pred"
      ],
      "metadata": {
        "id": "dKK1hVaywCrJ"
      },
      "id": "dKK1hVaywCrJ",
      "execution_count": 108,
      "outputs": []
    },
    {
      "cell_type": "markdown",
      "source": [
        "### Train set results"
      ],
      "metadata": {
        "id": "CaZiFbzkIFZt"
      },
      "id": "CaZiFbzkIFZt"
    },
    {
      "cell_type": "code",
      "source": [
        "# for thresh in range(30,52,2):\n",
        "y_train_true,y_train_pred = test(trainX,trainy,thresh)\n",
        "print(\"#######################################################################\")\n",
        "print(f\"On Training set for threshold: {thresh}\")\n",
        "print(f\"Accuracy of model: {accuracy_score(y_train_true,y_train_pred)}\")\n",
        "print(f\"Precision score: {precision_score(y_train_true,y_train_pred,pos_label=0)}\")\n",
        "print(f\"Recall score: {recall_score(y_train_true,y_train_pred,pos_label=0)}\")\n",
        "print(f\"F1 score: {f1_score(y_train_true,y_train_pred,pos_label=0)}\")\n",
        "tp = 0\n",
        "fp = 0\n",
        "tn = 0\n",
        "fn = 0\n",
        "for i in range(len(y_train_true)):\n",
        "  if y_train_true[i] == 0:\n",
        "    if y_train_pred[i] == 1:\n",
        "      fn += 1\n",
        "    else:\n",
        "      tp += 1\n",
        "  else:\n",
        "    if y_train_pred[i] == 0:\n",
        "      fp += 1\n",
        "    else:\n",
        "      tn += 1\n",
        "\n",
        "print(f\"True positives: {tp}\")\n",
        "print(f\"False positives: {fp}\")\n",
        "print(f\"True negatives: {tn}\")\n",
        "print(f\"False negatives: {fn}\")\n",
        "print(\"#######################################################################\")"
      ],
      "metadata": {
        "colab": {
          "base_uri": "https://localhost:8080/"
        },
        "id": "OHqQ-MkcGc6s",
        "outputId": "00dee037-d406-4837-a9cf-71157373c04d"
      },
      "id": "OHqQ-MkcGc6s",
      "execution_count": 109,
      "outputs": [
        {
          "output_type": "stream",
          "name": "stdout",
          "text": [
            "#######################################################################\n",
            "On Training set for threshold: 0\n",
            "Accuracy of model: 1.0\n",
            "Precision score: 1.0\n",
            "Recall score: 1.0\n",
            "F1 score: 1.0\n",
            "True positives: 5923\n",
            "False positives: 0\n",
            "True negatives: 5923\n",
            "False negatives: 0\n",
            "#######################################################################\n"
          ]
        }
      ]
    },
    {
      "cell_type": "markdown",
      "source": [
        "### Test set results"
      ],
      "metadata": {
        "id": "rCj_P7jiIIYV"
      },
      "id": "rCj_P7jiIIYV"
    },
    {
      "cell_type": "code",
      "source": [
        "y_test_true,y_test_pred = test(testX,testy,thresh)\n",
        "# print(f\"On Testing set for threshold: {thresh}\")\n",
        "print(f\"Accuracy of model: {accuracy_score(y_test_true,y_test_pred)}\")\n",
        "print(f\"Precision score: {precision_score(y_test_true,y_test_pred,pos_label=0)}\")\n",
        "print(f\"Recall score: {recall_score(y_test_true,y_test_pred,pos_label=0)}\")\n",
        "print(f\"F1 score: {f1_score(y_test_true,y_test_pred,pos_label=0)}\")\n",
        "tp = 0\n",
        "fp = 0\n",
        "tn = 0\n",
        "fn = 0\n",
        "for i in range(len(y_test_true)):\n",
        "  if y_test_true[i] == 0:\n",
        "    if y_test_pred[i] == 1:\n",
        "      fn += 1\n",
        "    else:\n",
        "      tp += 1\n",
        "  else:\n",
        "    if y_test_pred[i] == 0:\n",
        "      fp += 1\n",
        "    else:\n",
        "      tn += 1\n",
        "\n",
        "print(f\"True positives: {tp}\")\n",
        "print(f\"False positives: {fp}\")\n",
        "print(f\"True negatives: {tn}\")\n",
        "print(f\"False negatives: {fn}\")"
      ],
      "metadata": {
        "colab": {
          "base_uri": "https://localhost:8080/"
        },
        "id": "efxTO8_SIEYP",
        "outputId": "26af0231-abdd-413f-bc49-95914f2fcbfe"
      },
      "id": "efxTO8_SIEYP",
      "execution_count": 110,
      "outputs": [
        {
          "output_type": "stream",
          "name": "stdout",
          "text": [
            "Accuracy of model: 0.126\n",
            "Precision score: 0.10082304526748971\n",
            "Recall score: 1.0\n",
            "F1 score: 0.18317757009345795\n",
            "True positives: 980\n",
            "False positives: 8740\n",
            "True negatives: 280\n",
            "False negatives: 0\n"
          ]
        }
      ]
    }
  ],
  "metadata": {
    "kernelspec": {
      "display_name": "Python 3 (ipykernel)",
      "language": "python",
      "name": "python3"
    },
    "language_info": {
      "codemirror_mode": {
        "name": "ipython",
        "version": 3
      },
      "file_extension": ".py",
      "mimetype": "text/x-python",
      "name": "python",
      "nbconvert_exporter": "python",
      "pygments_lexer": "ipython3",
      "version": "3.9.7"
    },
    "colab": {
      "name": "MNIST classification.ipynb",
      "provenance": []
    },
    "gpuClass": "standard"
  },
  "nbformat": 4,
  "nbformat_minor": 5
}