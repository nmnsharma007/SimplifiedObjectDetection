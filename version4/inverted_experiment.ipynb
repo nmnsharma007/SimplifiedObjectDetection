{
  "cells": [
    {
      "cell_type": "markdown",
      "source": [
        "### Imports"
      ],
      "metadata": {
        "id": "IVP7gUnl9Zv0"
      },
      "id": "IVP7gUnl9Zv0"
    },
    {
      "cell_type": "code",
      "source": [
        "import numpy as np\n",
        "import torchvision\n",
        "import matplotlib.pyplot as plt\n",
        "from torchvision import datasets\n",
        "from sklearn.metrics import accuracy_score,precision_score,recall_score,f1_score"
      ],
      "metadata": {
        "id": "SuNAsRli9anP"
      },
      "id": "SuNAsRli9anP",
      "execution_count": 75,
      "outputs": []
    },
    {
      "cell_type": "markdown",
      "source": [
        "### Download the dataset"
      ],
      "metadata": {
        "id": "rRf3dZDY95WJ"
      },
      "id": "rRf3dZDY95WJ"
    },
    {
      "cell_type": "code",
      "source": [
        "train_set = datasets.MNIST('/content',train=True,download=True)\n",
        "test_set = datasets.MNIST('/content',train=False,download=True)"
      ],
      "metadata": {
        "id": "X11-tMxY97Lk"
      },
      "id": "X11-tMxY97Lk",
      "execution_count": 76,
      "outputs": []
    },
    {
      "cell_type": "code",
      "source": [
        "# inversion \n",
        "invert = lambda image : 255 - image # function to invert the image\n",
        "\n",
        "def preprocessing(dataset):\n",
        "    dataset_images = dataset.data.numpy() # convert the dataset into numpy array\n",
        "    dataset_labels = dataset.targets.numpy() # convert the labels into numpy array\n",
        "    return dataset_images,dataset_labels\n",
        "\n",
        "train_images,train_labels = preprocessing(train_set)\n",
        "test_images,test_labels = preprocessing(test_set)"
      ],
      "metadata": {
        "id": "PjQKDHPx99-9"
      },
      "id": "PjQKDHPx99-9",
      "execution_count": 77,
      "outputs": []
    },
    {
      "cell_type": "markdown",
      "source": [
        "### Prepare the data"
      ],
      "metadata": {
        "id": "rQvDFNBx-VAZ"
      },
      "id": "rQvDFNBx-VAZ"
    },
    {
      "cell_type": "code",
      "source": [
        "def generate_labels(dataset_images,image_type):\n",
        "  labels = np.full(shape=(dataset_images.shape[0]),fill_value=[image_type])\n",
        "  return labels\n",
        "\n",
        "def binarize(dataset_images):\n",
        "  result = np.copy(dataset_images)\n",
        "  for i in range(result.shape[0]):\n",
        "    for j in range(result.shape[1]):\n",
        "      for k in range(result.shape[2]):\n",
        "        if result[i][j][k] > 127:\n",
        "          result[i][j][k] = 1\n",
        "        else:\n",
        "          result[i][j][k] = 0\n",
        "  return result\n",
        "\n",
        "# function for inverting data\n",
        "def get_inverted_data(source_dataset_images,source_dataset_labels,target_dataset,class_num):\n",
        "    image_indices = np.asarray(np.where(source_dataset_labels == class_num))\n",
        "    image_indices = image_indices.flatten()\n",
        "    original_images = invert(source_dataset_images[image_indices]) # get the original images and invert them\n",
        "    target_dataset = np.concatenate((target_dataset,original_images)) # concatenate to our training dataset\n",
        "    return target_dataset\n",
        "\n",
        "# function to prepare training data for a given digit\n",
        "def prepare_training_data(dataset_images,dataset_labels,class_num):\n",
        "    indices = np.asarray(np.where(dataset_labels == class_num)) # indices of occurrence of digit as label\n",
        "    indices = indices.flatten()\n",
        "    # get the images for making positive dataset\n",
        "    dataset_images_positive = dataset_images[indices] # images consisting of positive class\n",
        "    dataset_images_positive = binarize(dataset_images_positive) # binarize the images \n",
        "    dataset_labels_positive = generate_labels(dataset_images_positive,0) # generate the class labels\n",
        "    # print(f\"Positive train data shape: {dataset_images_positive.shape}\")\n",
        "    # get the images for making negative dataset\n",
        "    dataset_images_negative = np.empty((0,28,28),dtype=np.float32)\n",
        "    dataset_images_negative = get_inverted_data(dataset_images,dataset_labels,dataset_images_negative,class_num)\n",
        "    dataset_images_negative = binarize(dataset_images_negative) # binarize the images \n",
        "    dataset_labels_negative = generate_labels(dataset_images_negative,1) # generate the class labels\n",
        "    # print(f\"Negative train data shape: {dataset_images_negative.shape}\")\n",
        "    # concatenate the negative and positive datasets\n",
        "    modified_dataset_images = np.concatenate((dataset_images_positive,dataset_images_negative))\n",
        "    modified_dataset_labels = np.concatenate((dataset_labels_positive,dataset_labels_negative))\n",
        "    return modified_dataset_images,modified_dataset_labels\n",
        "\n",
        "# test dataset where given class is positive and all other classes are negative\n",
        "def prepare_testing_data(dataset_images,dataset_labels,class_num):\n",
        "  positive_indices = np.asarray(np.where(dataset_labels == class_num)) # indices of occurrence of digit as label\n",
        "  positive_indices = positive_indices.flatten()\n",
        "  # get the images for making positive dataset\n",
        "  dataset_images_positive = dataset_images[positive_indices] # images consisting of positive class\n",
        "  dataset_images_positive = binarize(dataset_images_positive)\n",
        "  dataset_labels_positive = generate_labels(dataset_images_positive,0) # generate the class labels\n",
        "  # print(f\"Positive test data shape: {dataset_images_positive.shape}\")\n",
        "  # get the images for making negative classes for testing\n",
        "  negative_indices = np.asarray(np.where(((dataset_labels != class_num))))\n",
        "  negative_indices = negative_indices.flatten()\n",
        "  # get the images for making negative dataset\n",
        "  dataset_images_negative = dataset_images[negative_indices]\n",
        "  dataset_images_negative = binarize(dataset_images_negative)\n",
        "  dataset_labels_negative = generate_labels(dataset_images_negative,1)\n",
        "  # print(f\"Negative test data shape: {dataset_images_negative.shape}\")\n",
        "  # concatenate the negative and positive datasets\n",
        "  modified_dataset_images = np.concatenate((dataset_images_positive,dataset_images_negative))\n",
        "  modified_dataset_labels = np.concatenate((dataset_labels_positive,dataset_labels_negative))\n",
        "  return modified_dataset_images,modified_dataset_labels"
      ],
      "metadata": {
        "id": "Y9yNgkwL-WWw"
      },
      "id": "Y9yNgkwL-WWw",
      "execution_count": 78,
      "outputs": []
    },
    {
      "cell_type": "markdown",
      "source": [
        "### Get training and test data"
      ],
      "metadata": {
        "id": "E_vc75lz_TGK"
      },
      "id": "E_vc75lz_TGK"
    },
    {
      "cell_type": "code",
      "source": [
        "class_num = 0 # target digit\n",
        "trainX,trainy = prepare_training_data(train_images,train_labels,class_num)\n",
        "testX,testy = prepare_testing_data(test_images,test_labels,class_num)"
      ],
      "metadata": {
        "id": "Nkjhda_L_Se6"
      },
      "id": "Nkjhda_L_Se6",
      "execution_count": 79,
      "outputs": []
    },
    {
      "cell_type": "markdown",
      "source": [
        "### Plot train set"
      ],
      "metadata": {
        "id": "_RSb5BGgzNFL"
      },
      "id": "_RSb5BGgzNFL"
    },
    {
      "cell_type": "code",
      "source": [
        "num_of_images = 30\n",
        "# plot positive class\n",
        "for index in range(1,num_of_images+1):\n",
        "    plt.subplot(6,10,index)\n",
        "    plt.axis('off')\n",
        "    plt.imshow(trainX[index].squeeze(),cmap='gray')\n",
        "\n",
        "# plot negative class\n",
        "for index in range(1,num_of_images+1):\n",
        "    plt.subplot(6,10,30+index)\n",
        "    plt.axis('off')\n",
        "    plt.imshow(trainX[-index].squeeze(),cmap='gray')"
      ],
      "metadata": {
        "colab": {
          "base_uri": "https://localhost:8080/",
          "height": 246
        },
        "id": "r7go4l_8zOlf",
        "outputId": "2e90a9ce-ead8-4c15-8802-eab876d4f40e"
      },
      "id": "r7go4l_8zOlf",
      "execution_count": 80,
      "outputs": [
        {
          "output_type": "display_data",
          "data": {
            "text/plain": [
              "<Figure size 432x288 with 60 Axes>"
            ],
            "image/png": "[encoded data removed]"
          },
          "metadata": {
            "needs_background": "light"
          }
        }
      ]
    },
    {
      "cell_type": "markdown",
      "source": [
        "### Plot test set"
      ],
      "metadata": {
        "id": "PtBj65M8z0BK"
      },
      "id": "PtBj65M8z0BK"
    },
    {
      "cell_type": "code",
      "source": [
        "num_of_images = 30\n",
        "# plot positive class\n",
        "for index in range(1,num_of_images+1):\n",
        "    plt.subplot(6,10,index)\n",
        "    plt.axis('off')\n",
        "    plt.imshow(testX[index].squeeze(),cmap='gray')\n",
        "\n",
        "# plot negative class\n",
        "for index in range(1,num_of_images+1):\n",
        "    plt.subplot(6,10,30+index)\n",
        "    plt.axis('off')\n",
        "    plt.imshow(testX[-index].squeeze(),cmap='gray')"
      ],
      "metadata": {
        "colab": {
          "base_uri": "https://localhost:8080/",
          "height": 246
        },
        "id": "t48BhYBMz1ZC",
        "outputId": "164a70d7-8b0b-4733-c218-0bb07173b018"
      },
      "id": "t48BhYBMz1ZC",
      "execution_count": 81,
      "outputs": [
        {
          "output_type": "display_data",
          "data": {
            "text/plain": [
              "<Figure size 432x288 with 60 Axes>"
            ],
            "image/png": "[encoded data removed]"
          },
          "metadata": {
            "needs_background": "light"
          }
        }
      ]
    },
    {
      "cell_type": "markdown",
      "source": [
        "### Find patterns"
      ],
      "metadata": {
        "id": "ckIG-nBO-vAk"
      },
      "id": "ckIG-nBO-vAk"
    },
    {
      "cell_type": "code",
      "source": [
        "patterns = np.empty((0,28,28),dtype=np.float32)\n",
        "antipatterns = np.empty((0,28,28),dtype=np.float32)\n",
        "\n",
        "positive_image_indices = [i for i in range(trainX.shape[0]) if trainy[i] == 0]\n",
        "positive_image = trainX[positive_image_indices[0]]\n",
        "patterns = np.vstack((patterns,[positive_image])) # store a pattern image\n",
        "antipatterns = np.vstack((antipatterns,[1-positive_image])) # store an antipattern image"
      ],
      "metadata": {
        "id": "UDfLxqK_-wb_"
      },
      "id": "UDfLxqK_-wb_",
      "execution_count": 82,
      "outputs": []
    },
    {
      "cell_type": "markdown",
      "source": [
        "### Plot patterns"
      ],
      "metadata": {
        "id": "WqchAoD6FJpG"
      },
      "id": "WqchAoD6FJpG"
    },
    {
      "cell_type": "code",
      "source": [
        "for i in range(patterns.shape[0]):\n",
        "  if i+1 > 16:\n",
        "    break\n",
        "  plt.subplot(4,4,i+1)\n",
        "  plt.axis(\"off\")\n",
        "  plt.imshow(patterns[i].squeeze(),cmap='gray')\n"
      ],
      "metadata": {
        "colab": {
          "base_uri": "https://localhost:8080/",
          "height": 78
        },
        "id": "xySuT2QqFLWZ",
        "outputId": "623817a3-f5e0-45b0-b0d0-6ad06b085d11"
      },
      "id": "xySuT2QqFLWZ",
      "execution_count": 83,
      "outputs": [
        {
          "output_type": "display_data",
          "data": {
            "text/plain": [
              "<Figure size 432x288 with 1 Axes>"
            ],
            "image/png": "[encoded data removed]"
          },
          "metadata": {
            "needs_background": "light"
          }
        }
      ]
    },
    {
      "cell_type": "markdown",
      "source": [
        "### Testing the model"
      ],
      "metadata": {
        "id": "gWPJX8qpFXj1"
      },
      "id": "gWPJX8qpFXj1"
    },
    {
      "cell_type": "code",
      "source": [
        "def test(X,y,thresh=0):\n",
        "  y_pred = []\n",
        "  y_true = []\n",
        "  for i in range(X.shape[0]):\n",
        "    image,label = X[i],y[i]\n",
        "    cnt = 0\n",
        "    for j in range(patterns.shape[0]):\n",
        "      yes_score = np.sum(patterns[j] * image)\n",
        "      no_score = np.sum(antipatterns[j] * image)\n",
        "      cnt += ((yes_score - no_score) >= thresh)\n",
        "    \n",
        "    if cnt >= 1:\n",
        "      y_pred.append(0)\n",
        "    else:\n",
        "      y_pred.append(1)\n",
        "    y_true.append(label)\n",
        "  \n",
        "  return y_true,y_pred"
      ],
      "metadata": {
        "id": "dKK1hVaywCrJ"
      },
      "id": "dKK1hVaywCrJ",
      "execution_count": 84,
      "outputs": []
    },
    {
      "cell_type": "markdown",
      "source": [
        "### Train set results"
      ],
      "metadata": {
        "id": "CaZiFbzkIFZt"
      },
      "id": "CaZiFbzkIFZt"
    },
    {
      "cell_type": "code",
      "source": [
        "# for thresh in range(30,52,2):\n",
        "y_train_true,y_train_pred = test(trainX,trainy,0)\n",
        "print(\"#######################################################################\")\n",
        "print(f\"On Training set for threshold: {0}\")\n",
        "print(f\"Accuracy of model: {accuracy_score(y_train_true,y_train_pred)}\")\n",
        "print(f\"Precision score: {precision_score(y_train_true,y_train_pred,pos_label=0)}\")\n",
        "print(f\"Recall score: {recall_score(y_train_true,y_train_pred,pos_label=0)}\")\n",
        "print(f\"F1 score: {f1_score(y_train_true,y_train_pred,pos_label=0)}\")\n",
        "tp = 0\n",
        "fp = 0\n",
        "tn = 0\n",
        "fn = 0\n",
        "for i in range(len(y_train_true)):\n",
        "  if y_train_true[i] == 0:\n",
        "    if y_train_pred[i] == 1:\n",
        "      fn += 1\n",
        "    else:\n",
        "      tp += 1\n",
        "  else:\n",
        "    if y_train_pred[i] == 0:\n",
        "      fp += 1\n",
        "    else:\n",
        "      tn += 1\n",
        "\n",
        "print(f\"True positives: {tp}\")\n",
        "print(f\"False positives: {fp}\")\n",
        "print(f\"True negatives: {tn}\")\n",
        "print(f\"False negatives: {fn}\")\n",
        "print(\"#######################################################################\")"
      ],
      "metadata": {
        "colab": {
          "base_uri": "https://localhost:8080/",
          "height": 0
        },
        "id": "OHqQ-MkcGc6s",
        "outputId": "9e4e9d32-5a81-4cc5-bb83-2ce1725a0c09"
      },
      "id": "OHqQ-MkcGc6s",
      "execution_count": 85,
      "outputs": [
        {
          "output_type": "stream",
          "name": "stdout",
          "text": [
            "#######################################################################\n",
            "On Training set for threshold: 0\n",
            "Accuracy of model: 0.8502448083741347\n",
            "Precision score: 1.0\n",
            "Recall score: 0.7004896167482695\n",
            "F1 score: 0.823868149324861\n",
            "True positives: 4149\n",
            "False positives: 0\n",
            "True negatives: 5923\n",
            "False negatives: 1774\n",
            "#######################################################################\n"
          ]
        }
      ]
    },
    {
      "cell_type": "markdown",
      "source": [
        "### Test set results"
      ],
      "metadata": {
        "id": "rCj_P7jiIIYV"
      },
      "id": "rCj_P7jiIIYV"
    },
    {
      "cell_type": "code",
      "source": [
        "y_test_true,y_test_pred = test(testX,testy,0)\n",
        "print(f\"On Testing set for threshold: {0}\")\n",
        "print(f\"Accuracy of model: {accuracy_score(y_test_true,y_test_pred)}\")\n",
        "print(f\"Precision score: {precision_score(y_test_true,y_test_pred,pos_label=0)}\")\n",
        "print(f\"Recall score: {recall_score(y_test_true,y_test_pred,pos_label=0)}\")\n",
        "print(f\"F1 score: {f1_score(y_test_true,y_test_pred,pos_label=0)}\")\n",
        "tp = 0\n",
        "fp = 0\n",
        "tn = 0\n",
        "fn = 0\n",
        "for i in range(len(y_test_true)):\n",
        "  if y_test_true[i] == 0:\n",
        "    if y_test_pred[i] == 1:\n",
        "      fn += 1\n",
        "    else:\n",
        "      tp += 1\n",
        "  else:\n",
        "    if y_test_pred[i] == 0:\n",
        "      fp += 1\n",
        "    else:\n",
        "      tn += 1\n",
        "\n",
        "print(f\"True positives: {tp}\")\n",
        "print(f\"False positives: {fp}\")\n",
        "print(f\"True negatives: {tn}\")\n",
        "print(f\"False negatives: {fn}\")"
      ],
      "metadata": {
        "colab": {
          "base_uri": "https://localhost:8080/",
          "height": 0
        },
        "id": "efxTO8_SIEYP",
        "outputId": "e481a9bb-723b-4b23-9c32-c32ae0d6dcdb"
      },
      "id": "efxTO8_SIEYP",
      "execution_count": 86,
      "outputs": [
        {
          "output_type": "stream",
          "name": "stdout",
          "text": [
            "On Testing set for threshold: 0\n",
            "Accuracy of model: 0.9036\n",
            "Precision score: 0.5057553956834533\n",
            "Recall score: 0.7173469387755103\n",
            "F1 score: 0.5932489451476793\n",
            "True positives: 703\n",
            "False positives: 687\n",
            "True negatives: 8333\n",
            "False negatives: 277\n"
          ]
        }
      ]
    }
  ],
  "metadata": {
    "kernelspec": {
      "display_name": "Python 3 (ipykernel)",
      "language": "python",
      "name": "python3"
    },
    "language_info": {
      "codemirror_mode": {
        "name": "ipython",
        "version": 3
      },
      "file_extension": ".py",
      "mimetype": "text/x-python",
      "name": "python",
      "nbconvert_exporter": "python",
      "pygments_lexer": "ipython3",
      "version": "3.9.7"
    },
    "colab": {
      "name": "MNIST classification.ipynb",
      "provenance": []
    },
    "gpuClass": "standard"
  },
  "nbformat": 4,
  "nbformat_minor": 5
}