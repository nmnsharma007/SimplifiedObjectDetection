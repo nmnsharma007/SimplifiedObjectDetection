{
  "cells": [
    {
      "cell_type": "markdown",
      "id": "cf6a1420",
      "metadata": {
        "id": "cf6a1420"
      },
      "source": [
        "## Import libraries"
      ]
    },
    {
      "cell_type": "code",
      "execution_count": 100,
      "id": "26cfa340",
      "metadata": {
        "id": "26cfa340"
      },
      "outputs": [],
      "source": [
        "import numpy as np\n",
        "import torch\n",
        "import torchvision\n",
        "import matplotlib.pyplot as plt\n",
        "from time import time\n",
        "from torchvision import datasets, transforms\n",
        "from torch import nn,optim\n",
        "from torch.utils.data import TensorDataset,DataLoader\n",
        "from sklearn.metrics import f1_score,precision_score,recall_score,accuracy_score\n",
        "from sklearn.preprocessing import LabelBinarizer\n",
        "import pandas as pd\n",
        "import seaborn as sns"
      ]
    },
    {
      "cell_type": "markdown",
      "id": "effc4c9e",
      "metadata": {
        "id": "effc4c9e"
      },
      "source": [
        "## Download and Preprocess Dataset"
      ]
    },
    {
      "cell_type": "code",
      "execution_count": 101,
      "id": "39b2cf22",
      "metadata": {
        "id": "39b2cf22"
      },
      "outputs": [],
      "source": [
        "train_set = datasets.MNIST('/content',train=True,download=True)\n",
        "test_set = datasets.MNIST('/content',train=False,download=True)\n",
        "\n",
        "num_classes = 10"
      ]
    },
    {
      "cell_type": "markdown",
      "id": "e42069f6",
      "metadata": {
        "id": "e42069f6"
      },
      "source": [
        "## Preprocessing"
      ]
    },
    {
      "cell_type": "code",
      "execution_count": 102,
      "id": "8ce40f00",
      "metadata": {
        "id": "8ce40f00"
      },
      "outputs": [],
      "source": [
        "# inversion and normalization\n",
        "invert = lambda image : 1 - image # function to invert the image\n",
        "normalize = lambda image : image / 256 # function for bringing pixel values in range [0,1]\n",
        "\n",
        "def preprocessing(dataset):\n",
        "    dataset_images = dataset.data.numpy() # convert the dataset into numpy array\n",
        "    dataset_labels = dataset.targets.numpy() # convert the labels into numpy array\n",
        "    dataset_images = normalize(dataset_images)\n",
        "    dataset_images = invert(dataset_images)\n",
        "    return dataset_images,dataset_labels\n",
        "\n",
        "train_images,train_labels = preprocessing(train_set)\n",
        "test_images,test_labels = preprocessing(test_set)"
      ]
    },
    {
      "cell_type": "markdown",
      "id": "57b53b31",
      "metadata": {
        "id": "57b53b31"
      },
      "source": [
        "## Prepare the data"
      ]
    },
    {
      "cell_type": "code",
      "execution_count": 103,
      "id": "eb717edb",
      "metadata": {
        "id": "eb717edb"
      },
      "outputs": [],
      "source": [
        "# function for adding some more data from other classes\n",
        "def put_extra_data(source_dataset_images,source_dataset_labels,target_dataset,class_num):\n",
        "    for i in range(num_classes):\n",
        "        if class_num != i:\n",
        "            # get the indices where label == i\n",
        "            temp_indices = np.asarray(np.where(source_dataset_labels == i))\n",
        "            temp_indices = temp_indices.flatten()\n",
        "            temp_indices = temp_indices[0:10]\n",
        "            extra_images = source_dataset_images[temp_indices] # get some more negative images\n",
        "            target_dataset = np.concatenate((target_dataset,extra_images))\n",
        "    \n",
        "    return target_dataset\n",
        "\n",
        "def generate_labels(dataset_images,images_type):\n",
        "  labels = np.zeros((dataset_images.shape[0],2))\n",
        "  for i,image in enumerate(dataset_images):\n",
        "    labels[i][images_type] = np.sum(dataset_images[i]) / 256\n",
        "  # labels = np.full(shape=(dataset_images.shape[0],2),fill_value=[1-images_type,images_type],dtype=np.float32)\n",
        "  return labels\n",
        "\n",
        "# function to prepare the dataset for a given digit\n",
        "def prepare_training_data(dataset_images,dataset_labels,class_num):\n",
        "    indices = np.asarray(np.where(dataset_labels == class_num)) # indices of occurrence of digit as label\n",
        "    indices = indices.flatten()\n",
        "    # get the images for making positive dataset\n",
        "    dataset_images_positive = dataset_images[indices] # images consisting of positive class\n",
        "    dataset_labels_positive = generate_labels(dataset_images_positive,0) # generate the class labels which are the sum of pixel values\n",
        "    print(dataset_images_positive.shape)\n",
        "    # get the images for making negative dataset\n",
        "    dataset_images_negative = invert(dataset_images_positive) # inverted images\n",
        "    # dataset_images_negative = np.empty((0,28,28),dtype=np.float32)\n",
        "    # dataset_images_negative = put_extra_data(dataset_images,dataset_labels,dataset_images_negative,class_num)\n",
        "    print(dataset_images_negative.shape)\n",
        "\n",
        "    # negative_data_indices = [i for i in range(len(dataset_labels)) if i not in indices]\n",
        "    # dataset_images_negative = dataset_images[negative_data_indices]\n",
        "    \n",
        "    dataset_labels_negative = generate_labels(dataset_images_negative,1)\n",
        "    # concatenate the negative and positive datasets\n",
        "    modified_dataset_images = np.concatenate((dataset_images_positive,dataset_images_negative))\n",
        "    modified_dataset_labels = np.concatenate((dataset_labels_positive,dataset_labels_negative))\n",
        "    tensor_x = torch.Tensor(modified_dataset_images)\n",
        "    tensor_y = torch.Tensor(modified_dataset_labels)\n",
        "    new_dataset = TensorDataset(tensor_x,tensor_y)\n",
        "    return new_dataset\n",
        "\n",
        "def concat_datasets(dataset1_images,dataset1_labels,dataset2_images,dataset2_labels,class_num):\n",
        "    # join the two datasets\n",
        "    joined_dataset_images = np.concatenate((dataset1_images,dataset2_images))\n",
        "    joined_dataset_labels = np.concatenate((dataset1_labels,dataset2_labels))\n",
        "    \n",
        "    indices = np.asarray(np.where(joined_dataset_labels == class_num)) # indices of occurrence of class as label\n",
        "    indices = indices.flatten()\n",
        "    dataset_images_positive = joined_dataset_images[indices] # images consisting of positive class\n",
        "    dataset_labels_positive = generate_labels(dataset_images_positive,0)\n",
        "    negative_data_indices = [i for i in range(len(joined_dataset_labels)) if i not in indices]\n",
        "    \n",
        "    dataset_images_negative = joined_dataset_images[negative_data_indices]\n",
        "    dataset_labels_negative = generate_labels(dataset_images_negative,1)\n",
        "    \n",
        "    modified_dataset_images = np.concatenate((dataset_images_positive,dataset_images_negative))\n",
        "    modified_dataset_labels = np.concatenate((dataset_labels_positive,dataset_labels_negative))\n",
        "    \n",
        "    tensor_x = torch.Tensor(modified_dataset_images)\n",
        "    tensor_y = torch.Tensor(modified_dataset_labels)\n",
        "    new_dataset = TensorDataset(tensor_x,tensor_y)\n",
        "    return new_dataset"
      ]
    },
    {
      "cell_type": "markdown",
      "source": [
        "### Prepare the training set"
      ],
      "metadata": {
        "id": "pNKh_D3E-dXM"
      },
      "id": "pNKh_D3E-dXM"
    },
    {
      "cell_type": "code",
      "source": [
        "class_num = 6\n",
        "batch_size = 64\n",
        "train_class_set = prepare_training_data(train_images,train_labels,class_num) # fetch the training set for a class\n",
        "test_class_set = concat_datasets(train_images,train_labels,test_images,test_labels,class_num)\n",
        "train_loader = DataLoader(train_class_set,batch_size=batch_size,shuffle=True)\n",
        "test_loader = DataLoader(test_class_set,batch_size=batch_size,shuffle=True) # take original testing set of all classes"
      ],
      "metadata": {
        "id": "jKMZUGyU-k9F",
        "outputId": "327e61a5-39c2-4563-a2d2-efd3565b830f",
        "colab": {
          "base_uri": "https://localhost:8080/"
        }
      },
      "id": "jKMZUGyU-k9F",
      "execution_count": 104,
      "outputs": [
        {
          "output_type": "stream",
          "name": "stdout",
          "text": [
            "(5918, 28, 28)\n",
            "(5918, 28, 28)\n"
          ]
        }
      ]
    },
    {
      "cell_type": "markdown",
      "id": "75041a27",
      "metadata": {
        "id": "75041a27"
      },
      "source": [
        "### Plotting some data"
      ]
    },
    {
      "cell_type": "code",
      "execution_count": 123,
      "id": "eba6221d",
      "metadata": {
        "id": "eba6221d",
        "outputId": "ea89eabb-6a3e-43e5-8bd7-817046551e66",
        "colab": {
          "base_uri": "https://localhost:8080/",
          "height": 1000
        }
      },
      "outputs": [
        {
          "output_type": "stream",
          "name": "stdout",
          "text": [
            "tensor([[2.6862, 0.0000],\n",
            "        [0.0000, 2.5755],\n",
            "        [0.0000, 2.6907],\n",
            "        [0.0000, 2.9334],\n",
            "        [0.0000, 2.6463],\n",
            "        [0.0000, 2.7232],\n",
            "        [0.0000, 2.6377],\n",
            "        [0.0000, 2.3598],\n",
            "        [0.0000, 2.5853],\n",
            "        [2.8364, 0.0000],\n",
            "        [0.0000, 2.7237],\n",
            "        [2.8114, 0.0000],\n",
            "        [0.0000, 2.8358],\n",
            "        [0.0000, 2.7180],\n",
            "        [0.0000, 2.3744],\n",
            "        [0.0000, 2.8044],\n",
            "        [0.0000, 2.6545],\n",
            "        [0.0000, 2.5475],\n",
            "        [0.0000, 2.5692],\n",
            "        [2.7164, 0.0000],\n",
            "        [0.0000, 2.6056],\n",
            "        [0.0000, 2.4974],\n",
            "        [0.0000, 2.7049],\n",
            "        [2.5993, 0.0000],\n",
            "        [0.0000, 2.8190],\n",
            "        [2.7369, 0.0000],\n",
            "        [2.5681, 0.0000],\n",
            "        [0.0000, 2.7111],\n",
            "        [0.0000, 2.7408],\n",
            "        [0.0000, 2.4874],\n",
            "        [0.0000, 2.5130],\n",
            "        [2.4014, 0.0000],\n",
            "        [0.0000, 2.8703],\n",
            "        [0.0000, 2.7216],\n",
            "        [0.0000, 2.9055],\n",
            "        [0.0000, 2.7009],\n",
            "        [0.0000, 2.7606],\n",
            "        [2.6187, 0.0000],\n",
            "        [0.0000, 2.6389],\n",
            "        [0.0000, 2.7817],\n",
            "        [0.0000, 2.4132],\n",
            "        [0.0000, 2.3766],\n",
            "        [0.0000, 2.7418],\n",
            "        [0.0000, 2.7240],\n",
            "        [0.0000, 2.8281],\n",
            "        [0.0000, 2.8365],\n",
            "        [0.0000, 2.6672],\n",
            "        [0.0000, 2.8708],\n",
            "        [0.0000, 2.8469],\n",
            "        [0.0000, 2.6576],\n",
            "        [0.0000, 2.8294],\n",
            "        [0.0000, 2.6765],\n",
            "        [0.0000, 2.7050],\n",
            "        [2.5803, 0.0000],\n",
            "        [0.0000, 2.7707],\n",
            "        [2.5543, 0.0000],\n",
            "        [0.0000, 2.7636],\n",
            "        [0.0000, 2.4855],\n",
            "        [2.7413, 0.0000],\n",
            "        [0.0000, 2.6723],\n",
            "        [0.0000, 2.8546],\n",
            "        [0.0000, 2.7290],\n",
            "        [0.0000, 2.7509],\n",
            "        [0.0000, 2.7520]])\n"
          ]
        },
        {
          "output_type": "display_data",
          "data": {
            "text/plain": [
              "<Figure size 432x288 with 60 Axes>"
            ],
            "image/png": "[encoded data removed]"
          },
          "metadata": {
            "needs_background": "light"
          }
        }
      ],
      "source": [
        "dataiter = iter(test_loader)\n",
        "images,labels = dataiter.next()\n",
        "figure = plt.figure()\n",
        "print(labels)\n",
        "num_of_images = 60\n",
        "for index in range(1,num_of_images+1):\n",
        "    plt.subplot(6,10,index)\n",
        "    plt.axis('off')\n",
        "    plt.imshow(images[index].numpy().squeeze(),cmap='gray_r')"
      ]
    },
    {
      "cell_type": "markdown",
      "id": "78ef3a88",
      "metadata": {
        "id": "78ef3a88"
      },
      "source": [
        "## Build the neural network"
      ]
    },
    {
      "cell_type": "code",
      "execution_count": 128,
      "id": "5433be70",
      "metadata": {
        "id": "5433be70",
        "colab": {
          "base_uri": "https://localhost:8080/"
        },
        "outputId": "47e68837-bbe8-46aa-f90c-1fe537ba3608"
      },
      "outputs": [
        {
          "output_type": "stream",
          "name": "stdout",
          "text": [
            "Training loss: 0.1205414243898279\n",
            "Training loss: 0.002739910999740902\n",
            "Training loss: 0.0019315019633772002\n",
            "Training loss: 0.0015569218959835534\n",
            "Training loss: 0.001288335260028976\n",
            "Training loss: 0.0011241257684682874\n",
            "Training loss: 0.0009993776468232877\n",
            "Training loss: 0.0009019041144465273\n",
            "Training loss: 0.0008203297025977155\n",
            "Training loss: 0.000751282409072627\n",
            "Training loss: 0.0006925031267471511\n",
            "Training loss: 0.0006416931956049961\n",
            "Training loss: 0.0005981348407756839\n",
            "Training loss: 0.0005588907414946604\n",
            "Training loss: 0.0005257767878435049\n",
            "Training loss: 0.0004952276441759455\n",
            "Training loss: 0.00046854433477730364\n",
            "Training loss: 0.00044409507205961526\n",
            "Training loss: 0.0004219576829691996\n",
            "Training loss: 0.0004027647207761687\n",
            "Training loss: 0.00038465052100552903\n",
            "Training loss: 0.00036845240668028696\n",
            "Training loss: 0.0003539418953477179\n",
            "Training loss: 0.00034007334151947116\n",
            "Training loss: 0.000327514618323688\n",
            "Training loss: 0.0003156214376684983\n",
            "Training loss: 0.00030535386129584467\n",
            "Training loss: 0.0002949300646857434\n",
            "Training loss: 0.0002860015619237832\n",
            "Training loss: 0.0002768647632045621\n"
          ]
        }
      ],
      "source": [
        "# Model class\n",
        "class NeuralNetwork(nn.Module):\n",
        "    def __init__(self):\n",
        "        super(NeuralNetwork,self).__init__()\n",
        "        self.flatten = nn.Flatten()\n",
        "        self.linear_relu_stack = nn.Sequential(\n",
        "            nn.Linear(28*28,100),\n",
        "            nn.ReLU(),\n",
        "            nn.Linear(100,10),\n",
        "            nn.ReLU(),\n",
        "            nn.Linear(10,2)\n",
        "        )\n",
        "        \n",
        "    def forward(self,x):\n",
        "        x = self.flatten(x)\n",
        "        logits = self.linear_relu_stack(x)\n",
        "        return logits\n",
        "\n",
        "epochs = 30\n",
        "model = NeuralNetwork()\n",
        "criterion = nn.MSELoss()\n",
        "optimizer = optim.SGD(model.parameters(),lr=1e-3,momentum=0.9)\n",
        "\n",
        "# function to train the model\n",
        "loss_vals = []\n",
        "model.train()\n",
        "for e in range(epochs):\n",
        "  # epoch_loss = []\n",
        "  running_loss = 0.0\n",
        "  for batch, (images,logits) in enumerate(train_loader):\n",
        "    optimizer.zero_grad()\n",
        "    # compute prediction error\n",
        "    output = model(images)\n",
        "    # print(output)\n",
        "    # break\n",
        "    loss = criterion(output,logits)\n",
        "    # loss = torch.sum(criterion(output,logits),dim=1)\n",
        "    # print(loss.item())\n",
        "    # break\n",
        "    # Backpropagation\n",
        "    loss.backward()\n",
        "    optimizer.step()\n",
        "    # epoch_loss.append(loss.item())\n",
        "    running_loss += loss.item()\n",
        "  else:\n",
        "    print(f\"Training loss: {running_loss/len(train_loader)}\")\n",
        "  # plt.plot(epoch_loss)\n",
        "  # break\n",
        "  \n"
      ]
    },
    {
      "cell_type": "markdown",
      "id": "4c5c955a",
      "metadata": {
        "id": "4c5c955a"
      },
      "source": [
        "## Testing"
      ]
    },
    {
      "cell_type": "code",
      "execution_count": 136,
      "id": "6918db13",
      "metadata": {
        "id": "6918db13",
        "outputId": "49d63ba6-09ec-41aa-9ca3-c64e2c865dc0",
        "colab": {
          "base_uri": "https://localhost:8080/"
        }
      },
      "outputs": [
        {
          "output_type": "stream",
          "name": "stdout",
          "text": [
            "[0.  0.1 0.2 0.3 0.4 0.5 0.6 0.7 0.8 0.9 1.  1.1 1.2 1.3 1.4 1.5 1.6 1.7\n",
            " 1.8 1.9 2.  2.1 2.2 2.3 2.4 2.5 2.6 2.7 2.8 2.9 3. ]\n",
            "6876.0 63124.0 0.0 0.0\n",
            "6876.0 63124.0 0.0 0.0\n",
            "6876.0 63124.0 0.0 0.0\n",
            "6876.0 63124.0 0.0 0.0\n",
            "6876.0 63124.0 0.0 0.0\n",
            "6876.0 63124.0 0.0 0.0\n",
            "6876.0 63124.0 0.0 0.0\n",
            "6876.0 63124.0 0.0 0.0\n",
            "6876.0 63124.0 0.0 0.0\n",
            "6876.0 63124.0 0.0 0.0\n",
            "6876.0 63124.0 0.0 0.0\n",
            "6876.0 63124.0 0.0 0.0\n",
            "6876.0 63124.0 0.0 0.0\n",
            "6876.0 63124.0 0.0 0.0\n",
            "6876.0 63124.0 0.0 0.0\n",
            "6876.0 63124.0 0.0 0.0\n",
            "6876.0 63124.0 0.0 0.0\n",
            "6876.0 63124.0 0.0 0.0\n",
            "6876.0 63124.0 0.0 0.0\n",
            "6876.0 63123.0 1.0 0.0\n",
            "6876.0 63122.0 2.0 0.0\n",
            "6876.0 63116.0 8.0 0.0\n",
            "6871.0 63051.0 73.0 5.0\n",
            "6841.0 62717.0 407.0 35.0\n",
            "6671.0 61324.0 1800.0 205.0\n",
            "6116.0 56290.0 6834.0 760.0\n",
            "4555.0 44091.0 19033.0 2321.0\n",
            "2184.0 24377.0 38747.0 4692.0\n",
            "397.0 6675.0 56449.0 6479.0\n",
            "2.0 149.0 62975.0 6874.0\n",
            "0.0 0.0 63124.0 6876.0\n"
          ]
        },
        {
          "output_type": "stream",
          "name": "stderr",
          "text": [
            "/usr/local/lib/python3.7/dist-packages/sklearn/metrics/_classification.py:1318: UndefinedMetricWarning: Precision is ill-defined and being set to 0.0 due to no predicted samples. Use `zero_division` parameter to control this behavior.\n",
            "  _warn_prf(average, modifier, msg_start, len(result))\n"
          ]
        },
        {
          "output_type": "execute_result",
          "data": {
            "text/plain": [
              "array([[0.00000000e+00, 9.82285714e-02, 9.82285714e-02, 1.00000000e+00],\n",
              "       [1.00000000e-01, 9.82285714e-02, 9.82285714e-02, 1.00000000e+00],\n",
              "       [2.00000000e-01, 9.82285714e-02, 9.82285714e-02, 1.00000000e+00],\n",
              "       [3.00000000e-01, 9.82285714e-02, 9.82285714e-02, 1.00000000e+00],\n",
              "       [4.00000000e-01, 9.82285714e-02, 9.82285714e-02, 1.00000000e+00],\n",
              "       [5.00000000e-01, 9.82285714e-02, 9.82285714e-02, 1.00000000e+00],\n",
              "       [6.00000000e-01, 9.82285714e-02, 9.82285714e-02, 1.00000000e+00],\n",
              "       [7.00000000e-01, 9.82285714e-02, 9.82285714e-02, 1.00000000e+00],\n",
              "       [8.00000000e-01, 9.82285714e-02, 9.82285714e-02, 1.00000000e+00],\n",
              "       [9.00000000e-01, 9.82285714e-02, 9.82285714e-02, 1.00000000e+00],\n",
              "       [1.00000000e+00, 9.82285714e-02, 9.82285714e-02, 1.00000000e+00],\n",
              "       [1.10000000e+00, 9.82285714e-02, 9.82285714e-02, 1.00000000e+00],\n",
              "       [1.20000000e+00, 9.82285714e-02, 9.82285714e-02, 1.00000000e+00],\n",
              "       [1.30000000e+00, 9.82285714e-02, 9.82285714e-02, 1.00000000e+00],\n",
              "       [1.40000000e+00, 9.82285714e-02, 9.82285714e-02, 1.00000000e+00],\n",
              "       [1.50000000e+00, 9.82285714e-02, 9.82285714e-02, 1.00000000e+00],\n",
              "       [1.60000000e+00, 9.82285714e-02, 9.82285714e-02, 1.00000000e+00],\n",
              "       [1.70000000e+00, 9.82285714e-02, 9.82285714e-02, 1.00000000e+00],\n",
              "       [1.80000000e+00, 9.82285714e-02, 9.82285714e-02, 1.00000000e+00],\n",
              "       [1.90000000e+00, 9.82428571e-02, 9.82299747e-02, 1.00000000e+00],\n",
              "       [2.00000000e+00, 9.82571429e-02, 9.82313780e-02, 1.00000000e+00],\n",
              "       [2.10000000e+00, 9.83428571e-02, 9.82397988e-02, 1.00000000e+00],\n",
              "       [2.20000000e+00, 9.92000000e-02, 9.82666400e-02, 9.99272833e-01],\n",
              "       [2.30000000e+00, 1.03542857e-01, 9.83495788e-02, 9.94909831e-01],\n",
              "       [2.40000000e+00, 1.21014286e-01, 9.81101552e-02, 9.70186155e-01],\n",
              "       [2.50000000e+00, 1.85000000e-01, 9.80033971e-02, 8.89470622e-01],\n",
              "       [2.60000000e+00, 3.36971429e-01, 9.36356535e-02, 6.62449098e-01],\n",
              "       [2.70000000e+00, 5.84728571e-01, 8.22258198e-02, 3.17626527e-01],\n",
              "       [2.80000000e+00, 8.12085714e-01, 5.61368778e-02, 5.77370564e-02],\n",
              "       [2.90000000e+00, 8.99671429e-01, 1.32450331e-02, 2.90866783e-04],\n",
              "       [3.00000000e+00, 9.01771429e-01, 0.00000000e+00, 0.00000000e+00]])"
            ]
          },
          "metadata": {},
          "execution_count": 136
        }
      ],
      "source": [
        "# for class_num in range(num_classes):\n",
        "#     train_class_set = prepare_training_data(train_images,train_labels,class_num) # fetch the training set for a class\n",
        "#     test_class_set = concat_datasets(train_images,train_labels,test_images,test_labels,class_num)\n",
        "#     train_loader = DataLoader(train_class_set,batch_size=64,shuffle=True)\n",
        "#     test_loader = DataLoader(test_class_set,batch_size=64,shuffle=True) # take original testing set of all classes\n",
        "    \n",
        "#     model = NeuralNetwork()\n",
        "\n",
        "#     criterion = nn.CrossEntropyLoss()\n",
        "#     optimizer = optim.SGD(model.parameters(),lr = 1e-3,momentum=0.9)\n",
        "#     print(f\"Class Number: {class_num}\")\n",
        "#     train(train_loader,model,criterion,optimizer)\n",
        "#     y_pred_train = test(train_loader,model)\n",
        "#     y_pred_test = test(test_loader,model)\n",
        "# lb = LabelBinarizer()\n",
        "# lb.fit([0,1])\n",
        "# binarized_labels = lb.transform(y_pred_test)\n",
        "# binarized_labels = np.hstack((binarized_labels,1-binarized_labels))\n",
        "# print(binarized_labels)\n",
        "\n",
        "# function to test the model\n",
        "def test(dataloader,model,threshold):\n",
        "  size = len(dataloader.dataset)\n",
        "  model.eval()\n",
        "  accuracy = 0\n",
        "  y_true = []\n",
        "  y_pred = []\n",
        "  with torch.no_grad():\n",
        "      for images,logits in dataloader:\n",
        "        output = model(images)\n",
        "        outnp = output.numpy()\n",
        "        logit_np = logits.numpy()\n",
        "        for i in range(len(outnp)):\n",
        "          true_label = 1 if logit_np[i][0] > logit_np[i][1] else 0\n",
        "          y_true.append(true_label)\n",
        "          if outnp[i][0] >= threshold:\n",
        "            y_pred.append(1)\n",
        "          else:\n",
        "            y_pred.append(0)\n",
        "        # correct += (output.argmax(1) == logits.argmax(1)).type(torch.float).sum().item()\n",
        "        # for i in range(len(output)):\n",
        "        #   pred.append(np.argmax(output.numpy()[i]))\n",
        "  accuracy = accuracy_score(y_true,y_pred)\n",
        "  precision = precision_score(y_true,y_pred)\n",
        "  tp = 0.0\n",
        "  fp = 0.0\n",
        "  tn = 0.0\n",
        "  fn = 0.0\n",
        "  for i in range(len(y_true)):\n",
        "    if y_true[i] == 1 and y_pred[i] == 1:\n",
        "      tp += 1\n",
        "    elif y_true[i] == 0 and y_pred[i] == 1:\n",
        "      fp += 1\n",
        "    elif y_true[i] == 1 and y_pred[i] == 0:\n",
        "      fn += 1\n",
        "    else:\n",
        "      tn += 1\n",
        "  # if tp == 0 and fp == 0:\n",
        "  #   print(threshold)\n",
        "  # precision = tp / (tp + fp)\n",
        "  print(tp,fp,tn,fn,sep=\" \")\n",
        "  recall = recall_score(y_true,y_pred)\n",
        "  # print(f\"Accuracy : {(100*correct):>0.1f}%\")\n",
        "  return (accuracy,precision,recall)\n",
        "\n",
        "# scores = np.empty((0,3),dtype=np.float32)\n",
        "data = np.empty((0,4),dtype=np.float32)\n",
        "\n",
        "yes_scores = np.linspace(0.0,3.0,31,endpoint=True)\n",
        "print(yes_scores)\n",
        "for threshold in yes_scores:\n",
        "  accuracy,precision,recall = test(test_loader,model,threshold)\n",
        "  data = np.vstack((data,[[threshold,accuracy,precision,recall]]))\n",
        "\n",
        "data\n",
        "# df = pd.DataFrame(data)\n",
        "# df.columns = ['threshold','accuracy','precision','recall']\n",
        "# df\n",
        "# with torch.no_grad():\n",
        "#     for images,logits in test_loader:\n",
        "#       output = model(images)\n",
        "#       output = output.numpy()\n",
        "#       logits = logits.numpy()\n",
        "#       for i in range(len(output)):\n",
        "#         yes_score = output[i][0]\n",
        "#         no_score = output[i][1]\n",
        "#         # print(no_score)\n",
        "#         true_label =  1 if np.argmax(logits[i]) == 0 else 0 \n",
        "#         # if true_label == 0:\n",
        "#         scores = np.vstack((scores,[[yes_score,no_score,true_label]]))\n",
        "#       # break\n",
        "# # print(scores)\n",
        "\n",
        "# df = pd.DataFrame(scores)\n",
        "# df.columns = ['yes_score','no_score','true_label']\n",
        "# df"
      ]
    },
    {
      "cell_type": "markdown",
      "source": [
        "### Plotting the probability scores"
      ],
      "metadata": {
        "id": "6r29DIkOdHrm"
      },
      "id": "6r29DIkOdHrm"
    },
    {
      "cell_type": "code",
      "source": [
        "\n",
        "# print(df.describe())\n",
        "# sns.FacetGrid(df,hue=\"true_label\",height=7).map(plt.scatter,\"yes_score\",\"no_score\",alpha=1).add_legend()\n",
        "plt.figure(figsize=(8,8))\n",
        "plt.plot(data[:,0],data[:,1],c='b',label='Accuracy')\n",
        "plt.plot(data[:,0],data[:,2],c='r',label='Precision')\n",
        "plt.plot(data[:,0],data[:,3],c='g',label='Recall')\n",
        "plt.legend()\n",
        "plt.ylabel(\"Metric\")\n",
        "plt.xlabel(\"Threshold\")\n",
        "plt.show()"
      ],
      "metadata": {
        "id": "Tneu5R9bdG_M",
        "outputId": "57c6bcb3-3c24-45ed-b6c0-cbcb7758503d",
        "colab": {
          "base_uri": "https://localhost:8080/",
          "height": 497
        }
      },
      "id": "Tneu5R9bdG_M",
      "execution_count": 134,
      "outputs": [
        {
          "output_type": "display_data",
          "data": {
            "text/plain": [
              "<Figure size 576x576 with 1 Axes>"
            ],
            "image/png": "[encoded data removed]"
          },
          "metadata": {
            "needs_background": "light"
          }
        }
      ]
    },
    {
      "cell_type": "code",
      "source": [
        "# plt.scatter(np.log(scores[:,0]),np.log(scores[:,1]))"
      ],
      "metadata": {
        "id": "sPTNnPeIOPmv"
      },
      "id": "sPTNnPeIOPmv",
      "execution_count": 109,
      "outputs": []
    }
  ],
  "metadata": {
    "kernelspec": {
      "display_name": "Python 3 (ipykernel)",
      "language": "python",
      "name": "python3"
    },
    "language_info": {
      "codemirror_mode": {
        "name": "ipython",
        "version": 3
      },
      "file_extension": ".py",
      "mimetype": "text/x-python",
      "name": "python",
      "nbconvert_exporter": "python",
      "pygments_lexer": "ipython3",
      "version": "3.9.7"
    },
    "colab": {
      "name": "MNIST classification.ipynb",
      "provenance": []
    }
  },
  "nbformat": 4,
  "nbformat_minor": 5
}