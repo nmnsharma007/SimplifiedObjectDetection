{
  "cells": [
    {
      "cell_type": "markdown",
      "id": "cf6a1420",
      "metadata": {
        "id": "cf6a1420"
      },
      "source": [
        "## Import libraries"
      ]
    },
    {
      "cell_type": "code",
      "execution_count": 9,
      "id": "26cfa340",
      "metadata": {
        "id": "26cfa340"
      },
      "outputs": [],
      "source": [
        "import numpy as np\n",
        "import torch\n",
        "import torchvision\n",
        "import matplotlib.pyplot as plt\n",
        "from time import time\n",
        "from torchvision import datasets, transforms\n",
        "from torch import nn,optim\n",
        "from torch.utils.data import TensorDataset,DataLoader\n",
        "from sklearn.metrics import f1_score,precision_score,recall_score,accuracy_score\n",
        "from sklearn.preprocessing import LabelBinarizer\n",
        "import pandas as pd\n",
        "import seaborn as sns\n",
        "import torch.nn.functional as F"
      ]
    },
    {
      "cell_type": "markdown",
      "id": "effc4c9e",
      "metadata": {
        "id": "effc4c9e"
      },
      "source": [
        "## Download and Preprocess Dataset"
      ]
    },
    {
      "cell_type": "code",
      "execution_count": 10,
      "id": "39b2cf22",
      "metadata": {
        "id": "39b2cf22"
      },
      "outputs": [],
      "source": [
        "train_set = datasets.MNIST('/content',train=True,download=True)\n",
        "test_set = datasets.MNIST('/content',train=False,download=True)\n",
        "\n",
        "num_classes = 10"
      ]
    },
    {
      "cell_type": "markdown",
      "id": "e42069f6",
      "metadata": {
        "id": "e42069f6"
      },
      "source": [
        "## Preprocessing"
      ]
    },
    {
      "cell_type": "code",
      "execution_count": 11,
      "id": "8ce40f00",
      "metadata": {
        "id": "8ce40f00"
      },
      "outputs": [],
      "source": [
        "# inversion and normalization\n",
        "invert = lambda image : 1 - image # function to invert the image\n",
        "normalize = lambda image : image / 255 # function for bringing pixel values in range [0,1]\n",
        "\n",
        "def preprocessing(dataset):\n",
        "    dataset_images = dataset.data.numpy() # convert the dataset into numpy array\n",
        "    dataset_labels = dataset.targets.numpy() # convert the labels into numpy array\n",
        "    dataset_images = normalize(dataset_images)\n",
        "    dataset_images = invert(dataset_images)\n",
        "    return dataset_images,dataset_labels\n",
        "\n",
        "train_images,train_labels = preprocessing(train_set)\n",
        "test_images,test_labels = preprocessing(test_set)"
      ]
    },
    {
      "cell_type": "markdown",
      "id": "57b53b31",
      "metadata": {
        "id": "57b53b31"
      },
      "source": [
        "## Prepare the data"
      ]
    },
    {
      "cell_type": "code",
      "execution_count": 12,
      "id": "eb717edb",
      "metadata": {
        "id": "eb717edb"
      },
      "outputs": [],
      "source": [
        "# function for adding some more data from other classes\n",
        "def put_extra_data(source_dataset_images,source_dataset_labels,target_dataset,class_num):\n",
        "    for i in range(num_classes):\n",
        "        if class_num != i:\n",
        "            # get the indices where label == i\n",
        "            temp_indices = np.asarray(np.where(source_dataset_labels == i))\n",
        "            temp_indices = temp_indices.flatten()\n",
        "            temp_indices = temp_indices[0:10]\n",
        "            extra_images = source_dataset_images[temp_indices] # get some more negative images\n",
        "            target_dataset = np.concatenate((target_dataset,extra_images))\n",
        "    \n",
        "    return target_dataset\n",
        "\n",
        "def generate_labels(dataset_images,images_type):\n",
        "  labels = np.zeros((dataset_images.shape[0],2))\n",
        "  for i,image in enumerate(dataset_images):\n",
        "    labels[i][images_type] = np.sum(dataset_images[i]) / 784\n",
        "  # labels = np.full(shape=(dataset_images.shape[0],2),fill_value=[1-images_type,images_type],dtype=np.float32)\n",
        "  return labels\n",
        "\n",
        "# function to prepare the dataset for a given digit\n",
        "def prepare_training_data(dataset_images,dataset_labels,class_num):\n",
        "    indices = np.asarray(np.where(dataset_labels == class_num)) # indices of occurrence of digit as label\n",
        "    indices = indices.flatten()\n",
        "    # get the images for making positive dataset\n",
        "    dataset_images_positive = dataset_images[indices] # images consisting of positive class\n",
        "    dataset_labels_positive = generate_labels(dataset_images_positive,0) # generate the class labels which are the sum of pixel values\n",
        "    print(dataset_images_positive.shape)\n",
        "    # get the images for making negative dataset\n",
        "    dataset_images_negative = invert(dataset_images_positive) # inverted images\n",
        "    # dataset_images_negative = np.empty((0,28,28),dtype=np.float32)\n",
        "    # dataset_images_negative = put_extra_data(dataset_images,dataset_labels,dataset_images_negative,class_num)\n",
        "    print(dataset_images_negative.shape)\n",
        "\n",
        "    # negative_data_indices = [i for i in range(len(dataset_labels)) if i not in indices]\n",
        "    # dataset_images_negative = dataset_images[negative_data_indices]\n",
        "    \n",
        "    dataset_labels_negative = generate_labels(dataset_images_negative,1)\n",
        "    # concatenate the negative and positive datasets\n",
        "    modified_dataset_images = np.concatenate((dataset_images_positive,dataset_images_negative))\n",
        "    modified_dataset_labels = np.concatenate((dataset_labels_positive,dataset_labels_negative))\n",
        "    tensor_x = torch.Tensor(modified_dataset_images)\n",
        "    tensor_y = torch.Tensor(modified_dataset_labels)\n",
        "    new_dataset = TensorDataset(tensor_x,tensor_y)\n",
        "    return new_dataset\n",
        "\n",
        "def concat_datasets(dataset1_images,dataset1_labels,dataset2_images,dataset2_labels,class_num):\n",
        "    # join the two datasets\n",
        "    joined_dataset_images = np.concatenate((dataset1_images,dataset2_images))\n",
        "    joined_dataset_labels = np.concatenate((dataset1_labels,dataset2_labels))\n",
        "    \n",
        "    indices = np.asarray(np.where(joined_dataset_labels == class_num)) # indices of occurrence of class as label\n",
        "    indices = indices.flatten()\n",
        "    dataset_images_positive = joined_dataset_images[indices] # images consisting of positive class\n",
        "    dataset_labels_positive = generate_labels(dataset_images_positive,0)\n",
        "    negative_data_indices = [i for i in range(len(joined_dataset_labels)) if i not in indices]\n",
        "    \n",
        "    dataset_images_negative = joined_dataset_images[negative_data_indices]\n",
        "    dataset_labels_negative = generate_labels(dataset_images_negative,1)\n",
        "    \n",
        "    modified_dataset_images = np.concatenate((dataset_images_positive,dataset_images_negative))\n",
        "    modified_dataset_labels = np.concatenate((dataset_labels_positive,dataset_labels_negative))\n",
        "    \n",
        "    tensor_x = torch.Tensor(modified_dataset_images)\n",
        "    tensor_y = torch.Tensor(modified_dataset_labels)\n",
        "    new_dataset = TensorDataset(tensor_x,tensor_y)\n",
        "    return new_dataset"
      ]
    },
    {
      "cell_type": "markdown",
      "source": [
        "### Prepare the training set"
      ],
      "metadata": {
        "id": "pNKh_D3E-dXM"
      },
      "id": "pNKh_D3E-dXM"
    },
    {
      "cell_type": "code",
      "source": [
        "class_num = 6\n",
        "batch_size = 64\n",
        "train_class_set = prepare_training_data(train_images,train_labels,class_num) # fetch the training set for a class\n",
        "test_class_set = concat_datasets(train_images,train_labels,test_images,test_labels,class_num)\n",
        "train_loader = DataLoader(train_class_set,batch_size=batch_size,shuffle=True)\n",
        "test_loader = DataLoader(test_class_set,batch_size=batch_size,shuffle=True) # take original testing set of all classes"
      ],
      "metadata": {
        "id": "jKMZUGyU-k9F",
        "outputId": "90ff5b1b-4ba1-4f1d-8bf3-c8bcc4df2e5a",
        "colab": {
          "base_uri": "https://localhost:8080/"
        }
      },
      "id": "jKMZUGyU-k9F",
      "execution_count": 13,
      "outputs": [
        {
          "output_type": "stream",
          "name": "stdout",
          "text": [
            "(5918, 28, 28)\n",
            "(5918, 28, 28)\n"
          ]
        }
      ]
    },
    {
      "cell_type": "markdown",
      "id": "75041a27",
      "metadata": {
        "id": "75041a27"
      },
      "source": [
        "### Plotting some data"
      ]
    },
    {
      "cell_type": "code",
      "execution_count": 14,
      "id": "eba6221d",
      "metadata": {
        "id": "eba6221d",
        "outputId": "16d4f80f-9e93-4549-c7fb-c06d54fc8d9f",
        "colab": {
          "base_uri": "https://localhost:8080/",
          "height": 1000
        }
      },
      "outputs": [
        {
          "output_type": "stream",
          "name": "stdout",
          "text": [
            "tensor([[0.8056, 0.0000],\n",
            "        [0.9219, 0.0000],\n",
            "        [0.0000, 0.1296],\n",
            "        [0.9051, 0.0000],\n",
            "        [0.8494, 0.0000],\n",
            "        [0.0000, 0.1052],\n",
            "        [0.0000, 0.1268],\n",
            "        [0.8738, 0.0000],\n",
            "        [0.8866, 0.0000],\n",
            "        [0.8526, 0.0000],\n",
            "        [0.0000, 0.0988],\n",
            "        [0.8836, 0.0000],\n",
            "        [0.0000, 0.1566],\n",
            "        [0.0000, 0.1329],\n",
            "        [0.0000, 0.1500],\n",
            "        [0.8006, 0.0000],\n",
            "        [0.8791, 0.0000],\n",
            "        [0.8468, 0.0000],\n",
            "        [0.0000, 0.1018],\n",
            "        [0.8833, 0.0000],\n",
            "        [0.0000, 0.1275],\n",
            "        [0.0000, 0.1052],\n",
            "        [0.8152, 0.0000],\n",
            "        [0.0000, 0.1807],\n",
            "        [0.9198, 0.0000],\n",
            "        [0.0000, 0.1077],\n",
            "        [0.0000, 0.1024],\n",
            "        [0.0000, 0.1081],\n",
            "        [0.0000, 0.1085],\n",
            "        [0.8281, 0.0000],\n",
            "        [0.8308, 0.0000],\n",
            "        [0.0000, 0.1019],\n",
            "        [0.0000, 0.2166],\n",
            "        [0.8440, 0.0000],\n",
            "        [0.0000, 0.1238],\n",
            "        [0.8970, 0.0000],\n",
            "        [0.8373, 0.0000],\n",
            "        [0.0000, 0.1436],\n",
            "        [0.0000, 0.1244],\n",
            "        [0.0000, 0.1137],\n",
            "        [0.0000, 0.1835],\n",
            "        [0.8644, 0.0000],\n",
            "        [0.8329, 0.0000],\n",
            "        [0.0000, 0.1281],\n",
            "        [0.9065, 0.0000],\n",
            "        [0.0000, 0.1257],\n",
            "        [0.0000, 0.0984],\n",
            "        [0.8270, 0.0000],\n",
            "        [0.0000, 0.1333],\n",
            "        [0.0000, 0.1903],\n",
            "        [0.0000, 0.2111],\n",
            "        [0.9178, 0.0000],\n",
            "        [0.7806, 0.0000],\n",
            "        [0.8732, 0.0000],\n",
            "        [0.8557, 0.0000],\n",
            "        [0.7726, 0.0000],\n",
            "        [0.8595, 0.0000],\n",
            "        [0.0000, 0.1533],\n",
            "        [0.8229, 0.0000],\n",
            "        [0.0000, 0.1478],\n",
            "        [0.0000, 0.1327],\n",
            "        [0.0000, 0.1119],\n",
            "        [0.8813, 0.0000],\n",
            "        [0.9001, 0.0000]])\n"
          ]
        },
        {
          "output_type": "display_data",
          "data": {
            "text/plain": [
              "<Figure size 432x288 with 60 Axes>"
            ],
            "image/png": "[encoded data removed]"
          },
          "metadata": {
            "needs_background": "light"
          }
        }
      ],
      "source": [
        "dataiter = iter(train_loader)\n",
        "images,labels = dataiter.next()\n",
        "figure = plt.figure()\n",
        "print(labels)\n",
        "num_of_images = 60\n",
        "for index in range(1,num_of_images+1):\n",
        "    plt.subplot(6,10,index)\n",
        "    plt.axis('off')\n",
        "    plt.imshow(images[index].numpy().squeeze(),cmap='gray_r')"
      ]
    },
    {
      "cell_type": "markdown",
      "id": "78ef3a88",
      "metadata": {
        "id": "78ef3a88"
      },
      "source": [
        "## Build the neural network"
      ]
    },
    {
      "cell_type": "code",
      "execution_count": 24,
      "id": "5433be70",
      "metadata": {
        "id": "5433be70",
        "colab": {
          "base_uri": "https://localhost:8080/"
        },
        "outputId": "70cf1d00-8663-488a-c0e4-13bb8dcce838"
      },
      "outputs": [
        {
          "output_type": "stream",
          "name": "stdout",
          "text": [
            "Training loss: 0.013355302948479515\n",
            "Training loss: 0.0011470170990513587\n",
            "Training loss: 0.0009823465405183064\n",
            "Training loss: 0.0008914150876572003\n",
            "Training loss: 0.0008127893450216869\n",
            "Training loss: 0.0007453430590307894\n",
            "Training loss: 0.0006858834823769693\n",
            "Training loss: 0.0006337383074522321\n",
            "Training loss: 0.0005866654237694534\n",
            "Training loss: 0.0005449338106602128\n",
            "Training loss: 0.00050698865733638\n",
            "Training loss: 0.00047267654271972544\n",
            "Training loss: 0.00044197883123431254\n",
            "Training loss: 0.0004141782200423296\n",
            "Training loss: 0.00038946969741389056\n",
            "Training loss: 0.00036716300811668906\n",
            "Training loss: 0.0003475559690520419\n",
            "Training loss: 0.0003304748404991335\n",
            "Training loss: 0.0003151190508081502\n",
            "Training loss: 0.0003015223339929975\n",
            "Training loss: 0.00028924667638273455\n",
            "Training loss: 0.0002781956650102763\n",
            "Training loss: 0.00026840774808079004\n",
            "Training loss: 0.0002592038474914089\n",
            "Training loss: 0.00025071316135959144\n",
            "Training loss: 0.0002430367930100073\n",
            "Training loss: 0.00023594899150240864\n",
            "Training loss: 0.00022935767278918444\n",
            "Training loss: 0.00022330649316663274\n",
            "Training loss: 0.00021767524657833917\n"
          ]
        }
      ],
      "source": [
        "# Model class\n",
        "class NeuralNetwork(nn.Module):\n",
        "    def __init__(self):\n",
        "        super().__init__()\n",
        "        self.fc1 = nn.Linear(28*28,100)\n",
        "        # torch.nn.init.uniform_(self.fc1.weight.data)\n",
        "        self.fc2 = nn.Linear(100,10)\n",
        "        # torch.nn.init.uniform_(self.fc2.weight.data)\n",
        "        self.fc3 = nn.Linear(10,2)\n",
        "        # torch.nn.init.uniform_(self.fc3.weight.data)\n",
        "        \n",
        "    def forward(self,x):\n",
        "        x = x.view(x.shape[0],-1)\n",
        "        x = F.relu(self.fc1(x))\n",
        "        x = F.relu(self.fc2(x))\n",
        "        x = self.fc3(x)\n",
        "        return x\n",
        "\n",
        "epochs = 30\n",
        "model = NeuralNetwork()\n",
        "criterion = nn.MSELoss()\n",
        "optimizer = optim.SGD(model.parameters(),lr=0.001,momentum=0.9)\n",
        "# function to train the model\n",
        "# loss_vals = []\n",
        "model.train()\n",
        "for e in range(epochs):\n",
        "  # epoch_loss = []\n",
        "  running_loss = 0.0\n",
        "  for batch, (images,logits) in enumerate(train_loader):\n",
        "    optimizer.zero_grad()\n",
        "    # compute prediction error\n",
        "    output = model(images)\n",
        "    # print(output)\n",
        "    # break\n",
        "    loss = criterion(output,logits)\n",
        "    # loss = torch.sum(criterion(output,logits),dim=1)\n",
        "    # print(loss.item())\n",
        "    # break\n",
        "    # Backpropagation\n",
        "    loss.backward()\n",
        "    optimizer.step()\n",
        "    # epoch_loss.append(loss.item())\n",
        "    running_loss += loss.item()\n",
        "  else:\n",
        "    print(f\"Training loss: {running_loss/len(train_loader)}\")\n",
        "  # plt.plot(epoch_loss)\n",
        "  # break\n",
        "  \n"
      ]
    },
    {
      "cell_type": "markdown",
      "id": "4c5c955a",
      "metadata": {
        "id": "4c5c955a"
      },
      "source": [
        "## Testing"
      ]
    },
    {
      "cell_type": "code",
      "execution_count": null,
      "id": "6918db13",
      "metadata": {
        "id": "6918db13",
        "outputId": "2c8e8835-d253-49b1-a949-50f85c4864ca",
        "colab": {
          "base_uri": "https://localhost:8080/"
        }
      },
      "outputs": [
        {
          "output_type": "stream",
          "name": "stdout",
          "text": [
            "[0.  0.1 0.2 0.3 0.4 0.5 0.6 0.7 0.8 0.9 1.  1.1 1.2 1.3 1.4 1.5 1.6 1.7\n",
            " 1.8 1.9 2.  2.1 2.2 2.3 2.4 2.5 2.6 2.7 2.8 2.9 3. ]\n",
            "6876.0 63124.0 0.0 0.0\n"
          ]
        },
        {
          "output_type": "execute_result",
          "data": {
            "text/plain": [
              "array([[0.        , 0.09822857, 0.09822857, 1.        ]])"
            ]
          },
          "metadata": {},
          "execution_count": 8
        }
      ],
      "source": [
        "# for class_num in range(num_classes):\n",
        "#     train_class_set = prepare_training_data(train_images,train_labels,class_num) # fetch the training set for a class\n",
        "#     test_class_set = concat_datasets(train_images,train_labels,test_images,test_labels,class_num)\n",
        "#     train_loader = DataLoader(train_class_set,batch_size=64,shuffle=True)\n",
        "#     test_loader = DataLoader(test_class_set,batch_size=64,shuffle=True) # take original testing set of all classes\n",
        "    \n",
        "#     model = NeuralNetwork()\n",
        "\n",
        "#     criterion = nn.CrossEntropyLoss()\n",
        "#     optimizer = optim.SGD(model.parameters(),lr = 1e-3,momentum=0.9)\n",
        "#     print(f\"Class Number: {class_num}\")\n",
        "#     train(train_loader,model,criterion,optimizer)\n",
        "#     y_pred_train = test(train_loader,model)\n",
        "#     y_pred_test = test(test_loader,model)\n",
        "# lb = LabelBinarizer()\n",
        "# lb.fit([0,1])\n",
        "# binarized_labels = lb.transform(y_pred_test)\n",
        "# binarized_labels = np.hstack((binarized_labels,1-binarized_labels))\n",
        "# print(binarized_labels)\n",
        "\n",
        "# function to test the model on a given threshold\n",
        "def test(dataloader,model,threshold):\n",
        "  size = len(dataloader.dataset)\n",
        "  model.eval()\n",
        "  accuracy = 0\n",
        "  y_true = [] # store the true class\n",
        "  y_pred = [] # store the predicted class\n",
        "  y_pred_score = []\n",
        "  y_true_score = []\n",
        "  with torch.no_grad():\n",
        "      for images,logits in dataloader:\n",
        "        output = model(images)\n",
        "        outnp = output.numpy()\n",
        "        logit_np = logits.numpy()\n",
        "        for i in range(len(outnp)):\n",
        "          true_label = 1 if logit_np[i][0] > logit_np[i][1] else 0 # true class\n",
        "          y_true.append(true_label)\n",
        "          y_true_score.append(logit_np[i][0]) # true yes score\n",
        "          y_pred_score.append(outnp[i][0]) # predicted yes score\n",
        "          if outnp[i][0] >= threshold:\n",
        "            y_pred.append(1) # predicted positive class\n",
        "          else:\n",
        "            y_pred.append(0) # predicted negative class\n",
        "  accuracy = accuracy_score(y_true,y_pred) # calculate the accuracy\n",
        "  precision = precision_score(y_true,y_pred) # calculate precision\n",
        "  recall = recall_score(y_true,y_pred) # calculate recall\n",
        "\n",
        "\n",
        "\n",
        "  # tp = 0.0\n",
        "  # fp = 0.0\n",
        "  # tn = 0.0\n",
        "  # fn = 0.0\n",
        "  # for i in range(len(y_true)):\n",
        "  #   if y_true[i] == 1 and y_pred[i] == 1:\n",
        "  #     tp += 1\n",
        "  #   elif y_true[i] == 0 and y_pred[i] == 1:\n",
        "  #     fp += 1\n",
        "  #   elif y_true[i] == 1 and y_pred[i] == 0:\n",
        "  #     fn += 1\n",
        "  #   else:\n",
        "  #     tn += 1\n",
        "  # if tp == 0 and fp == 0:\n",
        "  #   print(threshold)\n",
        "  # precision = tp / (tp + fp)\n",
        "  # np.savetxt(\"y_pred_score.txt\",y_pred_score,delimiter=\",\")\n",
        "  # np.savetxt(\"y_true_score.txt\",y_true_score,delimiter=\",\")\n",
        "  # print(tp,fp,tn,fn,sep=\" \")\n",
        "  # print(f\"Accuracy : {(100*correct):>0.1f}%\")\n",
        "  return (accuracy,precision,recall)\n",
        "\n",
        "# scores = np.empty((0,3),dtype=np.float32)\n",
        "data = np.empty((0,4),dtype=np.float32)\n",
        "\n",
        "yes_scores = np.linspace(0.0,3.0,31,endpoint=True)\n",
        "print(yes_scores)\n",
        "for threshold in yes_scores:\n",
        "  accuracy,precision,recall = test(test_loader,model,threshold)\n",
        "  data = np.vstack((data,[[threshold,accuracy,precision,recall]]))\n",
        "  break\n",
        "\n",
        "data\n",
        "# y = [3]\n",
        "# np.savetxt(\"y_pred_score\",y,delimiter=\",\")\n",
        "  # np.savetxt(\"y_true_score\",y,delimiter=\",\")\n",
        "# df = pd.DataFrame(data)\n",
        "# df.columns = ['threshold','accuracy','precision','recall']\n",
        "# df\n",
        "# with torch.no_grad():\n",
        "#     for images,logits in test_loader:\n",
        "#       output = model(images)\n",
        "#       output = output.numpy()\n",
        "#       logits = logits.numpy()\n",
        "#       for i in range(len(output)):\n",
        "#         yes_score = output[i][0]\n",
        "#         no_score = output[i][1]\n",
        "#         # print(no_score)\n",
        "#         true_label =  1 if np.argmax(logits[i]) == 0 else 0 \n",
        "#         # if true_label == 0:\n",
        "#         scores = np.vstack((scores,[[yes_score,no_score,true_label]]))\n",
        "#       # break\n",
        "# # print(scores)\n",
        "\n",
        "# df = pd.DataFrame(scores)\n",
        "# df.columns = ['yes_score','no_score','true_label']\n",
        "# df"
      ]
    },
    {
      "cell_type": "markdown",
      "source": [
        "### Plotting the probability scores"
      ],
      "metadata": {
        "id": "6r29DIkOdHrm"
      },
      "id": "6r29DIkOdHrm"
    },
    {
      "cell_type": "code",
      "source": [
        "\n",
        "# print(df.describe())\n",
        "# sns.FacetGrid(df,hue=\"true_label\",height=7).map(plt.scatter,\"yes_score\",\"no_score\",alpha=1).add_legend()\n",
        "plt.figure(figsize=(8,8))\n",
        "plt.plot(data[:,0],data[:,1],c='b',label='Accuracy')\n",
        "plt.plot(data[:,0],data[:,2],c='r',label='Precision')\n",
        "plt.plot(data[:,0],data[:,3],c='g',label='Recall')\n",
        "plt.legend()\n",
        "plt.ylabel(\"Metric\")\n",
        "plt.xlabel(\"Threshold\")\n",
        "plt.show()"
      ],
      "metadata": {
        "id": "Tneu5R9bdG_M",
        "outputId": "88fb0521-781f-41b8-f4aa-afc1f58c065f",
        "colab": {
          "base_uri": "https://localhost:8080/",
          "height": 497
        }
      },
      "id": "Tneu5R9bdG_M",
      "execution_count": null,
      "outputs": [
        {
          "output_type": "display_data",
          "data": {
            "text/plain": [
              "<Figure size 576x576 with 1 Axes>"
            ],
            "image/png": "[encoded data removed]"
          },
          "metadata": {
            "needs_background": "light"
          }
        }
      ]
    },
    {
      "cell_type": "code",
      "source": [
        "# plt.scatter(np.log(scores[:,0]),np.log(scores[:,1]))"
      ],
      "metadata": {
        "id": "sPTNnPeIOPmv"
      },
      "id": "sPTNnPeIOPmv",
      "execution_count": null,
      "outputs": []
    }
  ],
  "metadata": {
    "kernelspec": {
      "display_name": "Python 3 (ipykernel)",
      "language": "python",
      "name": "python3"
    },
    "language_info": {
      "codemirror_mode": {
        "name": "ipython",
        "version": 3
      },
      "file_extension": ".py",
      "mimetype": "text/x-python",
      "name": "python",
      "nbconvert_exporter": "python",
      "pygments_lexer": "ipython3",
      "version": "3.9.7"
    },
    "colab": {
      "name": "MNIST classification.ipynb",
      "provenance": []
    }
  },
  "nbformat": 4,
  "nbformat_minor": 5
}