{
  "cells": [
    {
      "cell_type": "markdown",
      "id": "cf6a1420",
      "metadata": {
        "id": "cf6a1420"
      },
      "source": [
        "## Import libraries"
      ]
    },
    {
      "cell_type": "code",
      "execution_count": 13,
      "id": "26cfa340",
      "metadata": {
        "id": "26cfa340"
      },
      "outputs": [],
      "source": [
        "import numpy as np\n",
        "import torch\n",
        "import torchvision\n",
        "import matplotlib.pyplot as plt\n",
        "from time import time\n",
        "from torchvision import datasets, transforms\n",
        "from torch import nn,optim\n",
        "from torch.utils.data import TensorDataset,DataLoader\n",
        "from sklearn.metrics import f1_score,precision_score,recall_score,accuracy_score\n",
        "from sklearn.preprocessing import LabelBinarizer\n",
        "import pandas as pd\n",
        "import seaborn as sns\n",
        "import torch.nn.functional as F"
      ]
    },
    {
      "cell_type": "markdown",
      "id": "effc4c9e",
      "metadata": {
        "id": "effc4c9e"
      },
      "source": [
        "## Download and Preprocess Dataset"
      ]
    },
    {
      "cell_type": "code",
      "execution_count": 14,
      "id": "39b2cf22",
      "metadata": {
        "id": "39b2cf22"
      },
      "outputs": [],
      "source": [
        "train_set = datasets.MNIST('/content',train=True,download=True)\n",
        "test_set = datasets.MNIST('/content',train=False,download=True)\n",
        "num_classes = 10"
      ]
    },
    {
      "cell_type": "markdown",
      "id": "e42069f6",
      "metadata": {
        "id": "e42069f6"
      },
      "source": [
        "## Preprocessing"
      ]
    },
    {
      "cell_type": "code",
      "execution_count": 15,
      "id": "8ce40f00",
      "metadata": {
        "id": "8ce40f00"
      },
      "outputs": [],
      "source": [
        "# inversion and normalization\n",
        "invert = lambda image : 1 - image # function to invert the image\n",
        "normalize = lambda image : image / 255 # function for bringing pixel values in range [0,1]\n",
        "\n",
        "def preprocessing(dataset):\n",
        "    dataset_images = dataset.data.numpy() # convert the dataset into numpy array\n",
        "    dataset_labels = dataset.targets.numpy() # convert the labels into numpy array\n",
        "    dataset_images = normalize(dataset_images)\n",
        "    dataset_images = invert(dataset_images)\n",
        "    return dataset_images,dataset_labels\n",
        "\n",
        "train_images,train_labels = preprocessing(train_set)\n",
        "test_images,test_labels = preprocessing(test_set)"
      ]
    },
    {
      "cell_type": "markdown",
      "id": "57b53b31",
      "metadata": {
        "id": "57b53b31"
      },
      "source": [
        "## Prepare the data"
      ]
    },
    {
      "cell_type": "code",
      "execution_count": 16,
      "id": "eb717edb",
      "metadata": {
        "id": "eb717edb"
      },
      "outputs": [],
      "source": [
        "# function for adding some more data from other classes\n",
        "def put_extra_data(source_dataset_images,source_dataset_labels,target_dataset,class_num):\n",
        "    for i in range(num_classes):\n",
        "        if class_num != i:\n",
        "            # get the indices where label == i\n",
        "            temp_indices = np.asarray(np.where(source_dataset_labels == i))\n",
        "            temp_indices = temp_indices.flatten()\n",
        "            temp_indices = temp_indices[0:50]\n",
        "            extra_images = source_dataset_images[temp_indices] # get some more negative images\n",
        "            target_dataset = np.concatenate((target_dataset,extra_images))\n",
        "    \n",
        "    return target_dataset\n",
        "\n",
        "def generate_labels(dataset_images,images_type):\n",
        "  labels = np.zeros((dataset_images.shape[0],2))\n",
        "  # for i,image in enumerate(dataset_images):\n",
        "  #   labels[i][images_type] = np.sum(dataset_images[i]) / 784\n",
        "  labels = np.full(shape=(dataset_images.shape[0],2),fill_value=[1-images_type,images_type],dtype=np.float32)\n",
        "  return labels\n",
        "\n",
        "# function to prepare the dataset for a given digit\n",
        "def prepare_training_data(dataset_images,dataset_labels,class_num):\n",
        "    indices = np.asarray(np.where(dataset_labels == class_num)) # indices of occurrence of digit as label\n",
        "    indices = indices.flatten()\n",
        "    # get the images for making positive dataset\n",
        "    dataset_images_positive = dataset_images[indices] # images consisting of positive class\n",
        "    dataset_labels_positive = generate_labels(dataset_images_positive,0) # generate the class labels which are the sum of pixel values\n",
        "    print(dataset_images_positive.shape)\n",
        "    # get the images for making negative dataset\n",
        "    dataset_images_negative = invert(dataset_images_positive) # inverted images\n",
        "    # dataset_images_negative = np.empty((0,28,28),dtype=np.float32)\n",
        "    # dataset_images_negative = put_extra_data(dataset_images,dataset_labels,dataset_images_negative,class_num)\n",
        "    print(dataset_images_negative.shape)\n",
        "\n",
        "    # negative_data_indices = [i for i in range(len(dataset_labels)) if i not in indices]\n",
        "    # dataset_images_negative = dataset_images[negative_data_indices]\n",
        "    \n",
        "    dataset_labels_negative = generate_labels(dataset_images_negative,1)\n",
        "    # concatenate the negative and positive datasets\n",
        "    modified_dataset_images = np.concatenate((dataset_images_positive,dataset_images_negative))\n",
        "    modified_dataset_labels = np.concatenate((dataset_labels_positive,dataset_labels_negative))\n",
        "    tensor_x = torch.Tensor(modified_dataset_images)\n",
        "    tensor_y = torch.Tensor(modified_dataset_labels)\n",
        "    new_dataset = TensorDataset(tensor_x,tensor_y)\n",
        "    return new_dataset\n",
        "\n",
        "def concat_datasets(dataset1_images,dataset1_labels,dataset2_images,dataset2_labels,class_num):\n",
        "    # join the two datasets\n",
        "    joined_dataset_images = np.concatenate((dataset1_images,dataset2_images))\n",
        "    joined_dataset_labels = np.concatenate((dataset1_labels,dataset2_labels))\n",
        "    \n",
        "    indices = np.asarray(np.where(joined_dataset_labels == class_num)) # indices of occurrence of class as label\n",
        "    indices = indices.flatten()\n",
        "    dataset_images_positive = joined_dataset_images[indices] # images consisting of positive class\n",
        "    dataset_labels_positive = generate_labels(dataset_images_positive,0)\n",
        "    negative_data_indices = [i for i in range(len(joined_dataset_labels)) if i not in indices]\n",
        "    \n",
        "    dataset_images_negative = joined_dataset_images[negative_data_indices]\n",
        "    dataset_labels_negative = generate_labels(dataset_images_negative,1)\n",
        "    \n",
        "    modified_dataset_images = np.concatenate((dataset_images_positive,dataset_images_negative))\n",
        "    modified_dataset_labels = np.concatenate((dataset_labels_positive,dataset_labels_negative))\n",
        "    \n",
        "    tensor_x = torch.Tensor(modified_dataset_images)\n",
        "    tensor_y = torch.Tensor(modified_dataset_labels)\n",
        "    new_dataset = TensorDataset(tensor_x,tensor_y)\n",
        "    return new_dataset"
      ]
    },
    {
      "cell_type": "markdown",
      "source": [
        "### Prepare the training set"
      ],
      "metadata": {
        "id": "pNKh_D3E-dXM"
      },
      "id": "pNKh_D3E-dXM"
    },
    {
      "cell_type": "code",
      "source": [
        "class_num = 6\n",
        "batch_size = 64\n",
        "train_class_set = prepare_training_data(train_images,train_labels,class_num) # fetch the training set for a class\n",
        "test_class_set = concat_datasets(train_images,train_labels,test_images,test_labels,class_num)\n",
        "train_loader = DataLoader(train_class_set,batch_size=batch_size,shuffle=True)\n",
        "test_loader = DataLoader(test_class_set,batch_size=batch_size,shuffle=True) # take original testing set of all classes"
      ],
      "metadata": {
        "id": "jKMZUGyU-k9F",
        "outputId": "9f046b78-81df-4117-c55c-7f117e69fc51",
        "colab": {
          "base_uri": "https://localhost:8080/"
        }
      },
      "id": "jKMZUGyU-k9F",
      "execution_count": 17,
      "outputs": [
        {
          "output_type": "stream",
          "name": "stdout",
          "text": [
            "(5918, 28, 28)\n",
            "(5918, 28, 28)\n"
          ]
        }
      ]
    },
    {
      "cell_type": "markdown",
      "id": "75041a27",
      "metadata": {
        "id": "75041a27"
      },
      "source": [
        "### Plotting some data"
      ]
    },
    {
      "cell_type": "code",
      "execution_count": 18,
      "id": "eba6221d",
      "metadata": {
        "id": "eba6221d",
        "outputId": "1eb987c4-e660-4d18-d474-84f05605addc",
        "colab": {
          "base_uri": "https://localhost:8080/",
          "height": 246
        }
      },
      "outputs": [
        {
          "output_type": "display_data",
          "data": {
            "text/plain": [
              "<Figure size 432x288 with 60 Axes>"
            ],
            "image/png": "[encoded data removed]"
          },
          "metadata": {
            "needs_background": "light"
          }
        }
      ],
      "source": [
        "dataiter = iter(train_loader)\n",
        "images,labels = dataiter.next()\n",
        "figure = plt.figure()\n",
        "# print(labels)\n",
        "num_of_images = 60\n",
        "for index in range(1,num_of_images+1):\n",
        "    plt.subplot(6,10,index)\n",
        "    plt.axis('off')\n",
        "    plt.imshow(images[index].numpy().squeeze(),cmap='gray_r')"
      ]
    },
    {
      "cell_type": "markdown",
      "id": "78ef3a88",
      "metadata": {
        "id": "78ef3a88"
      },
      "source": [
        "## Build the neural network"
      ]
    },
    {
      "cell_type": "code",
      "execution_count": 19,
      "id": "5433be70",
      "metadata": {
        "id": "5433be70",
        "colab": {
          "base_uri": "https://localhost:8080/"
        },
        "outputId": "7464c0c7-d40c-4e09-8e35-080da75b725f"
      },
      "outputs": [
        {
          "output_type": "stream",
          "name": "stdout",
          "text": [
            "Training loss: 0.2862960258045712\n",
            "Training loss: 0.047027259662344646\n",
            "Training loss: 0.003367869570423421\n",
            "Training loss: 0.0021366448840126396\n",
            "Training loss: 0.0017133748385350447\n",
            "Training loss: 0.001438050449360162\n",
            "Training loss: 0.0012392638713700345\n",
            "Training loss: 0.001082195488207445\n",
            "Training loss: 0.0009640185549427327\n",
            "Training loss: 0.0008682916633079987\n"
          ]
        }
      ],
      "source": [
        "# Model class\n",
        "class NeuralNetwork(nn.Module):\n",
        "    def __init__(self):\n",
        "        super().__init__()\n",
        "        # 1 input image channel, 6 output channels, 5x5 square convolution\n",
        "        # kernel\n",
        "        self.conv1 = nn.Conv2d(1, 6, 5)\n",
        "        self.pool = nn.MaxPool2d(2,2)\n",
        "        self.conv2 = nn.Conv2d(6, 16, 5)\n",
        "        self.fc1 = nn.Linear(16 * 4 * 4, 100)  # 4*4 from image dimension\n",
        "        self.fc2 = nn.Linear(100, 10)\n",
        "        self.fc3 = nn.Linear(10, 2)\n",
        "\n",
        "    def forward(self, x):\n",
        "        x = x.unsqueeze(1)\n",
        "        # Max pooling over a (2, 2) window\n",
        "        x = self.pool(F.relu(self.conv1(x)))\n",
        "        # If the size is a square, you can specify with a single number\n",
        "        x = self.pool(F.relu(self.conv2(x)))\n",
        "        x = torch.flatten(x, 1) # flatten all dimensions except the batch dimension\n",
        "        x = F.relu(self.fc1(x))\n",
        "        x = F.relu(self.fc2(x))\n",
        "        x = self.fc3(x)\n",
        "        return x\n",
        "\n",
        "epochs = 10\n",
        "model = NeuralNetwork()\n",
        "criterion = nn.MSELoss()\n",
        "optimizer = optim.SGD(model.parameters(),lr=0.001,momentum=0.9)\n",
        "# function to train the model\n",
        "# loss_vals = []\n",
        "model.train()\n",
        "for e in range(epochs):\n",
        "  # epoch_loss = []\n",
        "  running_loss = 0.0\n",
        "  for batch, (images,scores) in enumerate(train_loader):\n",
        "    optimizer.zero_grad()\n",
        "    # compute prediction error\n",
        "    output = model(images)\n",
        "    # print(output)\n",
        "    # break\n",
        "    loss = criterion(output,scores)\n",
        "    # loss = torch.sum(criterion(output,logits),dim=1)\n",
        "    # print(loss.item())\n",
        "    # break\n",
        "    # Backpropagation\n",
        "    loss.backward()\n",
        "    optimizer.step()\n",
        "    # epoch_loss.append(loss.item())\n",
        "    running_loss += loss.item()\n",
        "  else:\n",
        "    print(f\"Training loss: {running_loss/len(train_loader)}\")\n",
        "  # plt.plot(epoch_loss)\n",
        "  # break\n",
        "  "
      ]
    },
    {
      "cell_type": "code",
      "source": [
        "def scale(x):\n",
        "  return (x + 1)/ (torch.sum(x,dim=1) + 1).view(-1,1)\n",
        "\n",
        "# function to test without threshold\n",
        "def test(dataloader,model):\n",
        "  size = len(dataloader.dataset)\n",
        "  model.eval()\n",
        "  correct = 0\n",
        "  with torch.no_grad():\n",
        "    for images,scores in dataloader:\n",
        "      output = model(images)\n",
        "      output = scale(output)\n",
        "      # print(output.shape)\n",
        "      correct += (output.argmax(1) == scores.argmax(1)).type(torch.float).sum().item()\n",
        "  correct /= size\n",
        "  print(f\"Accuracy : {(100*correct):>0.1f}%\")\n",
        "\n",
        "test(test_loader,model)\n",
        "data = np.empty((0,3),dtype=np.float32)\n",
        "\n",
        "with torch.no_grad():\n",
        "    for images,scores in test_loader:\n",
        "      output = model(images)\n",
        "      output = scale(output)\n",
        "      output = output.numpy()\n",
        "      scores = scores.numpy()\n",
        "      for i in range(len(output)):\n",
        "        yes_score = output[i][0]\n",
        "        no_score = output[i][1]\n",
        "        true_label =  1 if np.argmax(scores[i]) == 0 else 0 \n",
        "        # if true_label == 0:\n",
        "        data = np.vstack((data,[[yes_score,no_score,true_label]]))\n",
        "df = pd.DataFrame(data)\n",
        "df.columns = ['yes_score','no_score','true_label']\n",
        "df.describe()"
      ],
      "metadata": {
        "id": "gRtBtx9qul08",
        "colab": {
          "base_uri": "https://localhost:8080/",
          "height": 318
        },
        "outputId": "8ccd6482-73f3-4421-873a-4d60d14138e3"
      },
      "id": "gRtBtx9qul08",
      "execution_count": 24,
      "outputs": [
        {
          "output_type": "stream",
          "name": "stdout",
          "text": [
            "Accuracy : 9.8%\n"
          ]
        },
        {
          "output_type": "execute_result",
          "data": {
            "text/plain": [
              "          yes_score      no_score    true_label\n",
              "count  70000.000000  70000.000000  70000.000000\n",
              "mean       0.978170      0.519010      0.098229\n",
              "std        0.023207      0.021698      0.297626\n",
              "min        0.809992      0.465226      0.000000\n",
              "25%        0.965615      0.503992      0.000000\n",
              "50%        0.981507      0.515271      0.000000\n",
              "75%        0.993987      0.530324      0.000000\n",
              "max        1.043041      0.673484      1.000000"
            ],
            "text/html": [
              "\n",
              "  <div id=\"df-de17c7fe-25ab-49b6-aa5d-e83b7e0d7a66\">\n",
              "    <div class=\"colab-df-container\">\n",
              "      <div>\n",
              "<style scoped>\n",
              "    .dataframe tbody tr th:only-of-type {\n",
              "        vertical-align: middle;\n",
              "    }\n",
              "\n",
              "    .dataframe tbody tr th {\n",
              "        vertical-align: top;\n",
              "    }\n",
              "\n",
              "    .dataframe thead th {\n",
              "        text-align: right;\n",
              "    }\n",
              "</style>\n",
              "<table border=\"1\" class=\"dataframe\">\n",
              "  <thead>\n",
              "    <tr style=\"text-align: right;\">\n",
              "      <th></th>\n",
              "      <th>yes_score</th>\n",
              "      <th>no_score</th>\n",
              "      <th>true_label</th>\n",
              "    </tr>\n",
              "  </thead>\n",
              "  <tbody>\n",
              "    <tr>\n",
              "      <th>count</th>\n",
              "      <td>70000.000000</td>\n",
              "      <td>70000.000000</td>\n",
              "      <td>70000.000000</td>\n",
              "    </tr>\n",
              "    <tr>\n",
              "      <th>mean</th>\n",
              "      <td>0.978170</td>\n",
              "      <td>0.519010</td>\n",
              "      <td>0.098229</td>\n",
              "    </tr>\n",
              "    <tr>\n",
              "      <th>std</th>\n",
              "      <td>0.023207</td>\n",
              "      <td>0.021698</td>\n",
              "      <td>0.297626</td>\n",
              "    </tr>\n",
              "    <tr>\n",
              "      <th>min</th>\n",
              "      <td>0.809992</td>\n",
              "      <td>0.465226</td>\n",
              "      <td>0.000000</td>\n",
              "    </tr>\n",
              "    <tr>\n",
              "      <th>25%</th>\n",
              "      <td>0.965615</td>\n",
              "      <td>0.503992</td>\n",
              "      <td>0.000000</td>\n",
              "    </tr>\n",
              "    <tr>\n",
              "      <th>50%</th>\n",
              "      <td>0.981507</td>\n",
              "      <td>0.515271</td>\n",
              "      <td>0.000000</td>\n",
              "    </tr>\n",
              "    <tr>\n",
              "      <th>75%</th>\n",
              "      <td>0.993987</td>\n",
              "      <td>0.530324</td>\n",
              "      <td>0.000000</td>\n",
              "    </tr>\n",
              "    <tr>\n",
              "      <th>max</th>\n",
              "      <td>1.043041</td>\n",
              "      <td>0.673484</td>\n",
              "      <td>1.000000</td>\n",
              "    </tr>\n",
              "  </tbody>\n",
              "</table>\n",
              "</div>\n",
              "      <button class=\"colab-df-convert\" onclick=\"convertToInteractive('df-de17c7fe-25ab-49b6-aa5d-e83b7e0d7a66')\"\n",
              "              title=\"Convert this dataframe to an interactive table.\"\n",
              "              style=\"display:none;\">\n",
              "        \n",
              "  <svg xmlns=\"http://www.w3.org/2000/svg\" height=\"24px\"viewBox=\"0 0 24 24\"\n",
              "       width=\"24px\">\n",
              "    <path d=\"M0 0h24v24H0V0z\" fill=\"none\"/>\n",
              "    <path d=\"M18.56 5.44l.94 2.06.94-2.06 2.06-.94-2.06-.94-.94-2.06-.94 2.06-2.06.94zm-11 1L8.5 8.5l.94-2.06 2.06-.94-2.06-.94L8.5 2.5l-.94 2.06-2.06.94zm10 10l.94 2.06.94-2.06 2.06-.94-2.06-.94-.94-2.06-.94 2.06-2.06.94z\"/><path d=\"M17.41 7.96l-1.37-1.37c-.4-.4-.92-.59-1.43-.59-.52 0-1.04.2-1.43.59L10.3 9.45l-7.72 7.72c-.78.78-.78 2.05 0 2.83L4 21.41c.39.39.9.59 1.41.59.51 0 1.02-.2 1.41-.59l7.78-7.78 2.81-2.81c.8-.78.8-2.07 0-2.86zM5.41 20L4 18.59l7.72-7.72 1.47 1.35L5.41 20z\"/>\n",
              "  </svg>\n",
              "      </button>\n",
              "      \n",
              "  <style>\n",
              "    .colab-df-container {\n",
              "      display:flex;\n",
              "      flex-wrap:wrap;\n",
              "      gap: 12px;\n",
              "    }\n",
              "\n",
              "    .colab-df-convert {\n",
              "      background-color: #E8F0FE;\n",
              "      border: none;\n",
              "      border-radius: 50%;\n",
              "      cursor: pointer;\n",
              "      display: none;\n",
              "      fill: #1967D2;\n",
              "      height: 32px;\n",
              "      padding: 0 0 0 0;\n",
              "      width: 32px;\n",
              "    }\n",
              "\n",
              "    .colab-df-convert:hover {\n",
              "      background-color: #E2EBFA;\n",
              "      box-shadow: 0px 1px 2px rgba(60, 64, 67, 0.3), 0px 1px 3px 1px rgba(60, 64, 67, 0.15);\n",
              "      fill: #174EA6;\n",
              "    }\n",
              "\n",
              "    [theme=dark] .colab-df-convert {\n",
              "      background-color: #3B4455;\n",
              "      fill: #D2E3FC;\n",
              "    }\n",
              "\n",
              "    [theme=dark] .colab-df-convert:hover {\n",
              "      background-color: #434B5C;\n",
              "      box-shadow: 0px 1px 3px 1px rgba(0, 0, 0, 0.15);\n",
              "      filter: drop-shadow(0px 1px 2px rgba(0, 0, 0, 0.3));\n",
              "      fill: #FFFFFF;\n",
              "    }\n",
              "  </style>\n",
              "\n",
              "      <script>\n",
              "        const buttonEl =\n",
              "          document.querySelector('#df-de17c7fe-25ab-49b6-aa5d-e83b7e0d7a66 button.colab-df-convert');\n",
              "        buttonEl.style.display =\n",
              "          google.colab.kernel.accessAllowed ? 'block' : 'none';\n",
              "\n",
              "        async function convertToInteractive(key) {\n",
              "          const element = document.querySelector('#df-de17c7fe-25ab-49b6-aa5d-e83b7e0d7a66');\n",
              "          const dataTable =\n",
              "            await google.colab.kernel.invokeFunction('convertToInteractive',\n",
              "                                                     [key], {});\n",
              "          if (!dataTable) return;\n",
              "\n",
              "          const docLinkHtml = 'Like what you see? Visit the ' +\n",
              "            '<a target=\"_blank\" href=https://colab.research.google.com/notebooks/data_table.ipynb>data table notebook</a>'\n",
              "            + ' to learn more about interactive tables.';\n",
              "          element.innerHTML = '';\n",
              "          dataTable['output_type'] = 'display_data';\n",
              "          await google.colab.output.renderOutput(dataTable, element);\n",
              "          const docLink = document.createElement('div');\n",
              "          docLink.innerHTML = docLinkHtml;\n",
              "          element.appendChild(docLink);\n",
              "        }\n",
              "      </script>\n",
              "    </div>\n",
              "  </div>\n",
              "  "
            ]
          },
          "metadata": {},
          "execution_count": 24
        }
      ]
    },
    {
      "cell_type": "code",
      "source": [
        "print(df.describe())\n",
        "sns.FacetGrid(df,hue=\"true_label\",height=7).map(plt.scatter,\"yes_score\",\"no_score\").add_legend()\n",
        "plt.show()"
      ],
      "metadata": {
        "colab": {
          "base_uri": "https://localhost:8080/",
          "height": 669
        },
        "id": "vXFnTVdD7GRE",
        "outputId": "7350eba6-c581-44a2-9012-7dd76a82b266"
      },
      "id": "vXFnTVdD7GRE",
      "execution_count": 25,
      "outputs": [
        {
          "output_type": "stream",
          "name": "stdout",
          "text": [
            "          yes_score      no_score    true_label\n",
            "count  70000.000000  70000.000000  70000.000000\n",
            "mean       0.978170      0.519010      0.098229\n",
            "std        0.023207      0.021698      0.297626\n",
            "min        0.809992      0.465226      0.000000\n",
            "25%        0.965615      0.503992      0.000000\n",
            "50%        0.981507      0.515271      0.000000\n",
            "75%        0.993987      0.530324      0.000000\n",
            "max        1.043041      0.673484      1.000000\n"
          ]
        },
        {
          "output_type": "display_data",
          "data": {
            "text/plain": [
              "<Figure size 561.75x504 with 1 Axes>"
            ],
            "image/png": "[encoded data removed]"
          },
          "metadata": {
            "needs_background": "light"
          }
        }
      ]
    },
    {
      "cell_type": "markdown",
      "id": "4c5c955a",
      "metadata": {
        "id": "4c5c955a"
      },
      "source": [
        "## Testing"
      ]
    },
    {
      "cell_type": "code",
      "execution_count": 27,
      "id": "6918db13",
      "metadata": {
        "id": "6918db13",
        "outputId": "c652f6b8-7e8d-4a23-966a-bb7ea47672ce",
        "colab": {
          "base_uri": "https://localhost:8080/"
        }
      },
      "outputs": [
        {
          "output_type": "stream",
          "name": "stdout",
          "text": [
            "[0.  0.1 0.2 0.3 0.4 0.5 0.6 0.7 0.8 0.9 1. ]\n"
          ]
        }
      ],
      "source": [
        "# for class_num in range(num_classes):\n",
        "#     train_class_set = prepare_training_data(train_images,train_labels,class_num) # fetch the training set for a class\n",
        "#     test_class_set = concat_datasets(train_images,train_labels,test_images,test_labels,class_num)\n",
        "#     train_loader = DataLoader(train_class_set,batch_size=64,shuffle=True)\n",
        "#     test_loader = DataLoader(test_class_set,batch_size=64,shuffle=True) # take original testing set of all classes\n",
        "    \n",
        "#     model = NeuralNetwork()\n",
        "\n",
        "#     criterion = nn.CrossEntropyLoss()\n",
        "#     optimizer = optim.SGD(model.parameters(),lr = 1e-3,momentum=0.9)\n",
        "#     print(f\"Class Number: {class_num}\")\n",
        "#     train(train_loader,model,criterion,optimizer)\n",
        "#     y_pred_train = test(train_loader,model)\n",
        "#     y_pred_test = test(test_loader,model)\n",
        "# lb = LabelBinarizer()\n",
        "# lb.fit([0,1])\n",
        "# binarized_labels = lb.transform(y_pred_test)\n",
        "# binarized_labels = np.hstack((binarized_labels,1-binarized_labels))\n",
        "# print(binarized_labels)\n",
        "\n",
        "# function to test the model on a given threshold\n",
        "def test_with_threshold(dataloader,model,threshold):\n",
        "  size = len(dataloader.dataset)\n",
        "  model.eval()\n",
        "  accuracy = 0\n",
        "  y_true = [] # store the true class\n",
        "  y_pred = [] # store the predicted class\n",
        "  y_pred_score = []\n",
        "  y_true_score = []\n",
        "  with torch.no_grad():\n",
        "      for images,logits in dataloader:\n",
        "        output = model(images)\n",
        "        output = scale(output)\n",
        "        outnp = output.numpy()\n",
        "        logit_np = logits.numpy()\n",
        "        for i in range(len(outnp)):\n",
        "          true_label = 1 if logit_np[i][0] >= logit_np[i][1] else 0 # true class\n",
        "          y_true.append(true_label)\n",
        "          y_true_score.append(logit_np[i][0]) # true yes score\n",
        "          y_pred_score.append(outnp[i][0]) # predicted yes score\n",
        "          if outnp[i][0] >= threshold:\n",
        "            y_pred.append(1) # predicted positive class\n",
        "          else:\n",
        "            y_pred.append(0) # predicted negative class\n",
        "  accuracy = accuracy_score(y_true,y_pred) # calculate the accuracy\n",
        "  precision = precision_score(y_true,y_pred) # calculate precision\n",
        "  recall = recall_score(y_true,y_pred) # calculate recall\n",
        "\n",
        "  # tp = 0.0\n",
        "  # fp = 0.0\n",
        "  # tn = 0.0\n",
        "  # fn = 0.0\n",
        "  # for i in range(len(y_true)):\n",
        "  #   if y_true[i] == 1 and y_pred[i] == 1:\n",
        "  #     tp += 1\n",
        "  #   elif y_true[i] == 0 and y_pred[i] == 1:\n",
        "  #     fp += 1\n",
        "  #   elif y_true[i] == 1 and y_pred[i] == 0:\n",
        "  #     fn += 1\n",
        "  #   else:\n",
        "  #     tn += 1\n",
        "  # if tp == 0 and fp == 0:\n",
        "  #   print(threshold)\n",
        "  # precision = tp / (tp + fp)\n",
        "  # print(threshold,tp,fp,tn,fn,sep=\" \")\n",
        "  # print(f\"Accuracy : {(100*correct):>0.1f}%\")\n",
        "  return (accuracy,precision,recall)\n",
        "\n",
        "# scores = np.empty((0,3),dtype=np.float32)\n",
        "threshold_data = np.empty((0,4),dtype=np.float32)\n",
        "\n",
        "yes_scores = np.linspace(0.0,1,11,endpoint=True)\n",
        "print(yes_scores)\n",
        "for threshold in yes_scores:\n",
        "  accuracy,precision,recall = test_with_threshold(test_loader,model,threshold)\n",
        "  threshold_data = np.vstack((threshold_data,[[threshold,accuracy,precision,recall]]))\n",
        "\n",
        "# data\n",
        "# y = [3]\n",
        "# np.savetxt(\"y_pred_score\",y,delimiter=\",\")\n",
        "  # np.savetxt(\"y_true_score\",y,delimiter=\",\")\n",
        "# df = pd.DataFrame(data)\n",
        "# df.columns = ['threshold','accuracy','precision','recall']\n",
        "# df\n",
        "# with torch.no_grad():\n",
        "#     for images,logits in test_loader:\n",
        "#       output = model(images)\n",
        "#       output = output.numpy()\n",
        "#       logits = logits.numpy()\n",
        "#       for i in range(len(output)):\n",
        "#         yes_score = output[i][0]\n",
        "#         no_score = output[i][1]\n",
        "#         # print(no_score)\n",
        "#         true_label =  1 if np.argmax(logits[i]) == 0 else 0 \n",
        "#         # if true_label == 0:\n",
        "#         scores = np.vstack((scores,[[yes_score,no_score,true_label]]))\n",
        "#       # break\n",
        "# # print(scores)\n",
        "\n",
        "# df = pd.DataFrame(scores)\n",
        "# df.columns = ['yes_score','no_score','true_label']\n",
        "# df"
      ]
    },
    {
      "cell_type": "markdown",
      "source": [
        "### Plotting the probability scores"
      ],
      "metadata": {
        "id": "6r29DIkOdHrm"
      },
      "id": "6r29DIkOdHrm"
    },
    {
      "cell_type": "code",
      "source": [
        "\n",
        "# print(df.describe())\n",
        "# sns.FacetGrid(df,hue=\"true_label\",height=7).map(plt.scatter,\"yes_score\",\"no_score\",alpha=1).add_legend()\n",
        "plt.figure(figsize=(8,8))\n",
        "plt.plot(threshold_data[:,0],threshold_data[:,1],c='b',label='Accuracy')\n",
        "plt.plot(threshold_data[:,0],threshold_data[:,2],c='r',label='Precision')\n",
        "plt.plot(threshold_data[:,0],threshold_data[:,3],c='g',label='Recall')\n",
        "plt.legend()\n",
        "plt.ylabel(\"Metric\")\n",
        "plt.xlabel(\"Threshold\")\n",
        "plt.show()"
      ],
      "metadata": {
        "id": "Tneu5R9bdG_M",
        "outputId": "4aea1464-4485-4323-fef6-dd1434a36d8d",
        "colab": {
          "base_uri": "https://localhost:8080/",
          "height": 497
        }
      },
      "id": "Tneu5R9bdG_M",
      "execution_count": 28,
      "outputs": [
        {
          "output_type": "display_data",
          "data": {
            "text/plain": [
              "<Figure size 576x576 with 1 Axes>"
            ],
            "image/png": "[encoded data removed]"
          },
          "metadata": {
            "needs_background": "light"
          }
        }
      ]
    }
  ],
  "metadata": {
    "kernelspec": {
      "display_name": "Python 3 (ipykernel)",
      "language": "python",
      "name": "python3"
    },
    "language_info": {
      "codemirror_mode": {
        "name": "ipython",
        "version": 3
      },
      "file_extension": ".py",
      "mimetype": "text/x-python",
      "name": "python",
      "nbconvert_exporter": "python",
      "pygments_lexer": "ipython3",
      "version": "3.9.7"
    },
    "colab": {
      "name": "MNIST classification.ipynb",
      "provenance": []
    }
  },
  "nbformat": 4,
  "nbformat_minor": 5
}