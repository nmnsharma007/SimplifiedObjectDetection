{
 "cells": [
  {
   "cell_type": "markdown",
   "id": "cf6a1420",
   "metadata": {},
   "source": [
    "## Import libraries"
   ]
  },
  {
   "cell_type": "code",
   "execution_count": null,
   "id": "26cfa340",
   "metadata": {},
   "outputs": [],
   "source": [
    "import numpy as np\n",
    "import torch\n",
    "import torchvision\n",
    "import matplotlib.pyplot as plt\n",
    "from time import time\n",
    "from torchvision import datasets, transforms\n",
    "from torch import nn,optim"
   ]
  },
  {
   "cell_type": "markdown",
   "id": "effc4c9e",
   "metadata": {},
   "source": [
    "## Download Dataset"
   ]
  },
  {
   "cell_type": "code",
   "execution_count": null,
   "id": "39b2cf22",
   "metadata": {},
   "outputs": [],
   "source": [
    "train_set = datasets.MNIST('/content',train=True,transform=transforms.ToTensor(),download=True)\n",
    "test_set = datasets.MNIST('/content',train=False,transform=transforms.ToTensor(),download=True)\n",
    "trainloader = torch.utils.data.DataLoader(train_set,batch_size=64,shuffle=True)\n",
    "testloader = torch.utils.data.DataLoader(test_set,batch_size=64,shuffle=True)"
   ]
  },
  {
   "cell_type": "markdown",
   "id": "57b53b31",
   "metadata": {},
   "source": [
    "## Plotting some data"
   ]
  },
  {
   "cell_type": "code",
   "execution_count": null,
   "id": "eb717edb",
   "metadata": {},
   "outputs": [],
   "source": [
    "dataiter = iter(trainloader)\n",
    "images,labels = dataiter.next()\n",
    "print(images.shape)\n",
    "print(labels.shape)\n",
    "figure = plt.figure()\n",
    "num_of_images = 60\n",
    "for index in range(1,num_of_images+1):\n",
    "    plt.subplot(6,10,index)\n",
    "    plt.axis('off')\n",
    "    plt.imshow(images[index].numpy().squeeze(),cmap='gray_r')"
   ]
  },
  {
   "cell_type": "markdown",
   "id": "78ef3a88",
   "metadata": {},
   "source": [
    "## Build the neural network"
   ]
  },
  {
   "cell_type": "code",
   "execution_count": null,
   "id": "5433be70",
   "metadata": {},
   "outputs": [],
   "source": [
    "input_size = 784\n",
    "hidden_sizes = [128,64]\n",
    "output_size = 10\n",
    "\n",
    "model = nn.Sequential(\n",
    "    nn.Linear(input_size,hidden_sizes[0]),\n",
    "    nn.ReLU(),\n",
    "    nn.Linear(hidden_sizes[0],hidden_sizes[1]),\n",
    "    nn.ReLU(),\n",
    "    nn.Linear(hidden_sizes[1],output_size),\n",
    "    nn.LogSoftmax(dim=1)\n",
    ")\n",
    "\n",
    "criterion = nn.NLLLoss()\n",
    "optimizer = optim.SGD(model.parameters(),lr = 0.003,momentum=0.9)\n",
    "time0 = time()\n",
    "epochs = 15\n",
    "for e in range(epochs):\n",
    "    for images,labels in trainloader:\n",
    "        images = images.view(images.shape[0],-1) # flatten the image\n",
    "        optimizer.zero_grad() # training pass\n",
    "        output = model(images)\n",
    "        loss = criterion(output,labels)\n",
    "        loss.backward() # backpropagation\n",
    "        optimizer.step() # optimizes its weights here\n",
    "        \n",
    "print(f\"\\nTraining time in minutes = {(time()-time0)/60}\")"
   ]
  },
  {
   "cell_type": "markdown",
   "id": "4c5c955a",
   "metadata": {},
   "source": [
    "## Testing"
   ]
  },
  {
   "cell_type": "code",
   "execution_count": null,
   "id": "6918db13",
   "metadata": {},
   "outputs": [],
   "source": [
    "correct_outputs = 0\n",
    "total_outputs = 0\n",
    "for images,labels in testloader:\n",
    "    for i in range(len(labels)):\n",
    "        img = images[i].view(1,784)\n",
    "        with torch.no_grad():\n",
    "            logps = model(img)\n",
    "        \n",
    "        ps = torch.exp(logps)\n",
    "        probab = list(ps.numpy()[0])\n",
    "        pred_label= probab.index(max(probab))\n",
    "        true_label = labels.numpy()[i]\n",
    "        if true_label == pred_label:\n",
    "            correct_outputs += 1\n",
    "        total_outputs += 1\n",
    "print(f\"\\nModel Accuracy : {correct_outputs / total_outputs}\")"
   ]
  },
  {
   "cell_type": "markdown",
   "id": "9683594b",
   "metadata": {},
   "source": [
    "## Save the Model"
   ]
  },
  {
   "cell_type": "code",
   "execution_count": null,
   "id": "cc5a96d3",
   "metadata": {},
   "outputs": [],
   "source": [
    "torch.save(model,'./mnist_model.pt')"
   ]
  }
 ],
 "metadata": {
  "kernelspec": {
   "display_name": "Python 3 (ipykernel)",
   "language": "python",
   "name": "python3"
  },
  "language_info": {
   "codemirror_mode": {
    "name": "ipython",
    "version": 3
   },
   "file_extension": ".py",
   "mimetype": "text/x-python",
   "name": "python",
   "nbconvert_exporter": "python",
   "pygments_lexer": "ipython3",
   "version": "3.9.7"
  }
 },
 "nbformat": 4,
 "nbformat_minor": 5
}
